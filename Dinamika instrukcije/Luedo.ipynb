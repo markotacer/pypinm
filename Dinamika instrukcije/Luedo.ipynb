{
 "cells": [
  {
   "cell_type": "code",
   "execution_count": 2,
   "metadata": {},
   "outputs": [],
   "source": [
    "import numpy as np \n",
    "import matplotlib.pyplot as plt \n"
   ]
  },
  {
   "cell_type": "code",
   "execution_count": 41,
   "metadata": {},
   "outputs": [],
   "source": [
    "Sobe = ['dvorana', 'bilajrd', 'zim.vrt', 'jedil.', 'hodnik', 'kuhinja', 'knjižn.', 'veža', 'kabinet']\n",
    "Orozje = ['svecnik', 'nož', 'svi.cev', 'revolv.', 'vrv', 'francoz'] #, 'i', 'i', 'i']\n",
    "Oseba = ['zeleni', 'gorcic', 'modra', 'viol.', 'škrl.', 'orhid.'] #, 'i', 'i', 'i']\n",
    "Sobe = np.array(Sobe)   # sobe\n",
    "Orozje = np.array(Orozje)   # orozje\n",
    "Oseba = np.array(Oseba)   # osebe"
   ]
  },
  {
   "cell_type": "code",
   "execution_count": 55,
   "metadata": {},
   "outputs": [
    {
     "name": "stdout",
     "output_type": "stream",
     "text": [
      "Marko\t\tMonika\t\tLuka\t\tMatic\t\tŠpela\n",
      "----------------------------------------------------------------------------------------------------\n",
      "zeleni\t\tzeleni\t\tzeleni\t\tzeleni\t\tzeleni\n",
      "gorcic\t\tgorcic\t\tgorcic\t\tgorcic\t\tgorcic\n",
      "modra\t\tmodra\t\tmodra\t\tmodra\t\tmodra\n",
      "viol.\t\tviol.\t\tviol.\t\tviol.\t\tviol.\n",
      "škrl.\t\tškrl.\t\tškrl.\t\tškrl.\t\tškrl.\n",
      "orhid.\t\torhid.\t\torhid.\t\torhid.\t\torhid.\n",
      "----------------------------------------------------------------------------------------------------\n",
      "svecnik\t\tsvecnik\t\tsvecnik\t\tsvecnik\t\tsvecnik\n",
      "nož\t\tnož\t\tnož\t\tnož\t\tnož\n",
      "svi.cev\t\tsvi.cev\t\tsvi.cev\t\tsvi.cev\t\tsvi.cev\n",
      "revolv.\t\trevolv.\t\trevolv.\t\trevolv.\t\trevolv.\n",
      "vrv\t\tvrv\t\tvrv\t\tvrv\t\tvrv\n",
      "francoz\t\tfrancoz\t\tfrancoz\t\tfrancoz\t\tfrancoz\n",
      "----------------------------------------------------------------------------------------------------\n",
      "dvorana\t\tdvorana\t\tdvorana\t\tdvorana\t\tdvorana\n",
      "bilajrd\t\tbilajrd\t\tbilajrd\t\tbilajrd\t\tbilajrd\n",
      "zim.vrt\t\tzim.vrt\t\tzim.vrt\t\tzim.vrt\t\tzim.vrt\n",
      "jedil.\t\tjedil.\t\tjedil.\t\tjedil.\t\tjedil.\n",
      "hodnik\t\thodnik\t\thodnik\t\thodnik\t\thodnik\n",
      "kuhinja\t\tkuhinja\t\tkuhinja\t\tkuhinja\t\tkuhinja\n",
      "knjižn.\t\tknjižn.\t\tknjižn.\t\tknjižn.\t\tknjižn.\n",
      "veža\t\tveža\t\tveža\t\tveža\t\tveža\n",
      "kabinet\t\tkabinet\t\tkabinet\t\tkabinet\t\tkabinet\n"
     ]
    }
   ],
   "source": [
    "igralci = ['Marko', 'Monika', 'Luka', 'Matic', 'Špela']\n",
    "\n",
    "Marko = np.hstack((Sobe, Orozje, Oseba))\n",
    "Marko\n",
    "# create an array of arrays named as elements in igralci. In each array there is a hstack of Sobe, Orozje, Oseba\n",
    "igra = np.array([np.hstack((Sobe, Orozje, Oseba)) for i in igralci])\n",
    "\n",
    "def print_igralec(igralec):\n",
    "    print('Igralec: ', igralci[igralec])\n",
    "    print('-'*100)\n",
    "    for i in range(len(Oseba)):\n",
    "        print(igra[igralec, i+len(Sobe)+len(Orozje)])\n",
    "    print('-'*100)\n",
    "    for i in range(len(Orozje)):\n",
    "        print(igra[igralec, i+len(Sobe)])\n",
    "    print('-'*100)\n",
    "    for i in range(len(Sobe)):\n",
    "        print(igra[igralec, i])\n",
    "    \n",
    "def print_all(igra):\n",
    "    # print igralci in a single row splitted by \\t\n",
    "    print('\\t\\t'.join(igralci))\n",
    "    print('-'*100)\n",
    "    for i in range(len(Oseba)):\n",
    "        print('\\t\\t'.join(igra[:, i+len(Sobe)+len(Orozje)]))\n",
    "    print('-'*100)\n",
    "    for i in range(len(Orozje)):\n",
    "        print('\\t\\t'.join(igra[:, i+len(Sobe)]))\n",
    "    print('-'*100)\n",
    "    for i in range(len(Sobe)):\n",
    "        print('\\t\\t'.join(igra[:, i]))\n",
    "print_all(igra)\n",
    "\n"
   ]
  },
  {
   "cell_type": "code",
   "execution_count": 57,
   "metadata": {},
   "outputs": [],
   "source": [
    "# print_igralec(0)"
   ]
  },
  {
   "cell_type": "code",
   "execution_count": 71,
   "metadata": {},
   "outputs": [
    {
     "data": {
      "text/plain": [
       "[array('MARKO', dtype='<U5'), 'Monika', 'Luka', 'Matic', 'Špela']"
      ]
     },
     "execution_count": 71,
     "metadata": {},
     "output_type": "execute_result"
    }
   ],
   "source": [
    "igralci[0] = np.char.upper(igralci[0])\n",
    "igralci"
   ]
  },
  {
   "attachments": {},
   "cell_type": "markdown",
   "metadata": {},
   "source": [
    "# Game"
   ]
  },
  {
   "cell_type": "code",
   "execution_count": 72,
   "metadata": {},
   "outputs": [],
   "source": [
    "# Define the rooms\n",
    "rooms = ['Kitchen', 'Ballroom', 'Conservatory', 'Dining Room', 'Billiard Room', 'Library', 'Lounge', 'Hall', 'Study']\n",
    "\n",
    "# Define the possible murderers\n",
    "suspects = ['Miss Scarlett', 'Colonel Mustard', 'Mrs. White', 'Mr. Green', 'Mrs. Peacock', 'Professor Plum']\n",
    "\n",
    "# Define the possible murder weapons\n",
    "weapons = ['Candlestick', 'Dagger', 'Lead Pipe', 'Revolver', 'Rope', 'Wrench']\n",
    "\n",
    "# Define the players\n",
    "players = ['Player 1', 'Player 2', 'Player 3', 'Player 4']  # Adjust the number of players as needed\n"
   ]
  },
  {
   "cell_type": "code",
   "execution_count": 86,
   "metadata": {},
   "outputs": [
    {
     "name": "stdout",
     "output_type": "stream",
     "text": [
      "\t\tPlayer 1\tPlayer 2\tPlayer 3\tPlayer 4\n",
      "Miss Scarlett  \tx\t\tx\t\tx\t\tx\n",
      "Colonel Mustard\tx\t\tx\t\tx\t\tx\n",
      "Mrs. White     \tx\t\tx\t\tx\t\tx\n",
      "Mr. Green      \tx\t\tx\t\tx\t\tx\n",
      "Mrs. Peacock   \tx\t\tx\t\tx\t\tx\n",
      "Professor Plum \tx\t\tx\t\tx\t\tx\n",
      "---------------\t---------\t---------\t---------\t---------\t\n",
      "Candlestick\tx\t\tx\t\tx\t\tx\n",
      "Dagger     \tx\t\tx\t\tx\t\tx\n",
      "Lead Pipe  \tx\t\tx\t\tx\t\tx\n",
      "Revolver   \tx\t\tx\t\tx\t\tx\n",
      "Rope       \tx\t\tx\t\tx\t\tx\n",
      "Wrench     \tx\t\tx\t\tx\t\tx\n",
      "---------------\t---------\t---------\t---------\t---------\t\n",
      "Kitchen      \tx\t\tx\t\tx\t\tx\n",
      "Ballroom     \tx\t\tx\t\tx\t\tx\n",
      "Conservatory \tx\t\tx\t\tx\t\tx\n",
      "Dining Room  \tx\t\tx\t\tx\t\tx\n",
      "Billiard Room\tx\t\tx\t\tx\t\tx\n",
      "Library      \tx\t\tx\t\tx\t\tx\n",
      "Lounge       \tx\t\tx\t\tx\t\tx\n"
     ]
    }
   ],
   "source": [
    "import numpy as np\n",
    "\n",
    "# Create the game information table\n",
    "table = np.full((len(suspects) + len(weapons) + len(rooms), len(players)), 'o', dtype='<U10')\n",
    "\n",
    "def print_table():\n",
    "    max_room_length = max(len(room) for room in rooms)\n",
    "    max_suspect_length = max(len(suspect) for suspect in suspects)\n",
    "    max_weapon_length = max(len(weapon) for weapon in weapons)\n",
    "\n",
    "    print('\\t\\t' + '\\t'.join(players))\n",
    "    for i, row in enumerate(table):\n",
    "        if i < len(suspects):\n",
    "            print(f'{suspects[i]:<{max_suspect_length}}\\t' + '\\t\\t'.join(row[:len(players)]))\n",
    "        elif i == len(suspects):\n",
    "            print('---------------\\t' + '---------\\t' * len(players))\n",
    "        elif i < len(suspects) + len(weapons) + 1:\n",
    "            print(f'{weapons[i - len(suspects) - 1]:<{max_weapon_length}}\\t' + '\\t\\t'.join(row[:len(players)]))\n",
    "        elif i == len(suspects) + len(weapons) + 1:\n",
    "            print('---------------\\t' + '---------\\t' * len(players))\n",
    "        else:\n",
    "            print(f'{rooms[i - len(suspects) - len(weapons) - 2]:<{max_room_length}}\\t' + '\\t\\t'.join(row[:len(players)]))\n",
    "\n",
    "\n",
    "def print_player(player):\n",
    "    player_index = players.index(player)\n",
    "    player_data = table[:, player_index]\n",
    "    \n",
    "    print(f'Player: {player}')\n",
    "    print(f'Murderers:')\n",
    "    for i, suspect in enumerate(suspects):\n",
    "        if player_data[i] != 'x':\n",
    "            print(f'{suspect}: {player_data[i]}')\n",
    "    \n",
    "    print(f'\\nWeapons:')\n",
    "    for i, weapon in enumerate(weapons):\n",
    "        if player_data[len(suspects) + i] != 'x':\n",
    "            print(f'{weapon}: {player_data[len(suspects) + i]}')\n",
    "    \n",
    "    print(f'\\nRooms:')\n",
    "    for i, room in enumerate(rooms):\n",
    "        if player_data[len(suspects) + len(weapons) + i] != 'x':\n",
    "            print(f'{room}: {player_data[len(suspects) + len(weapons) + i]}')\n",
    "\n",
    "\n",
    "print_table()\n"
   ]
  },
  {
   "cell_type": "code",
   "execution_count": 87,
   "metadata": {},
   "outputs": [],
   "source": [
    "# Define the guess_miss function\n",
    "def guess_miss(player, murderer, weapon, room):\n",
    "    player_index = players.index(player)\n",
    "    suspect_index = suspects.index(murderer)\n",
    "    weapon_index = weapons.index(weapon)\n",
    "    room_index = rooms.index(room)\n",
    "    \n",
    "    table[suspect_index, player_index] = 'X'\n",
    "    table[len(suspects) + weapon_index, player_index] = 'X'\n",
    "    table[len(suspects) + len(weapons) + room_index, player_index] = 'X'"
   ]
  },
  {
   "cell_type": "code",
   "execution_count": null,
   "metadata": {},
   "outputs": [],
   "source": [
    "guess_miss(player='Player 1', murderer='Miss Scarlett', )"
   ]
  },
  {
   "cell_type": "code",
   "execution_count": 1,
   "metadata": {},
   "outputs": [
    {
     "data": {
      "image/png": "[encoded data removed]",
      "text/plain": [
       "<Figure size 640x480 with 1 Axes>"
      ]
     },
     "metadata": {},
     "output_type": "display_data"
    }
   ],
   "source": [
    "import matplotlib.pyplot as plt\n",
    "import numpy as np\n",
    "\n",
    "f = 5.5 # <<<<<<<<<<<<<<<<\n",
    "T = 1.\n",
    "N = 100\n",
    "t, dt = np.linspace(-T/2, T/2, N, endpoint=False, retstep=True)\n",
    "fs = 1/dt\n",
    "x = np.cos(2*f*np.pi*t+0.33)\n",
    "\n",
    "X1=np.fft.rfft(x)*2/len(x)\n",
    "\n",
    "f1=np.fft.rfftfreq(len(x),dt)\n",
    "plt.semilogy(f1, np.abs(X1), label='Amplitudni spekter');\n",
    "plt.vlines(f, 1, 1000, 'r', label='Pričakovani vrh')\n",
    "plt.vlines(fs/2, 1, 1000, 'g', label=f'fs/2 = {fs/2:3.2f}Hz')\n",
    "plt.xlim(0, fs/2+50)\n",
    "plt.legend();"
   ]
  },
  {
   "cell_type": "code",
   "execution_count": null,
   "metadata": {},
   "outputs": [],
   "source": []
  }
 ],
 "metadata": {
  "kernelspec": {
   "display_name": "base",
   "language": "python",
   "name": "python3"
  },
  "language_info": {
   "codemirror_mode": {
    "name": "ipython",
    "version": 3
   },
   "file_extension": ".py",
   "mimetype": "text/x-python",
   "name": "python",
   "nbconvert_exporter": "python",
   "pygments_lexer": "ipython3",
   "version": "3.9.16"
  },
  "orig_nbformat": 4
 },
 "nbformat": 4,
 "nbformat_minor": 2
}
