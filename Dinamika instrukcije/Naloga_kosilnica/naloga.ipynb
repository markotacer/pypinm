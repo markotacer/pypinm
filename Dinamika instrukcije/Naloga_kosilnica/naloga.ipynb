{
 "cells": [
  {
   "cell_type": "code",
   "execution_count": 110,
   "metadata": {},
   "outputs": [],
   "source": [
    "import numpy as np \n",
    "import matplotlib.pyplot as plt\n",
    "from scipy.integrate import odeint\n"
   ]
  },
  {
   "cell_type": "code",
   "execution_count": 111,
   "metadata": {},
   "outputs": [
    {
     "name": "stdout",
     "output_type": "stream",
     "text": [
      "omega1: 62.832\n",
      "phi2/phi1 ) 1.6154 (d2/d1)\n"
     ]
    }
   ],
   "source": [
    "m1 = 2.8\n",
    "m2 = 23\n",
    "d1 = 0.21\n",
    "d2 = 0.13\n",
    "\n",
    "F0 = 279\n",
    "F1 = 149\n",
    "nM = 600\n",
    "omega1 = 2*np.pi*nM/60\n",
    "print(f'omega1: {omega1:.3f}')\n",
    "print(f'phi2/phi1 ) {d1/d2:.4f} (d2/d1)')"
   ]
  },
  {
   "attachments": {},
   "cell_type": "markdown",
   "metadata": {},
   "source": [
    "$$\\Sigma M = J \\cdot \\ddot{\\phi}$$\n",
    "$$J = J_1 + J_2$$\n",
    "$$\\Sigma M = F \\cdot \\frac{d_1}{2}$$"
   ]
  },
  {
   "cell_type": "code",
   "execution_count": 112,
   "metadata": {},
   "outputs": [
    {
     "name": "stdout",
     "output_type": "stream",
     "text": [
      "J1 = 0.015435 kgm^2\n",
      "J2 = 0.048588 kgm^2\n",
      "J = 0.064023 kgm^2\n",
      "d1/(2*J) = 1.6400\n"
     ]
    }
   ],
   "source": [
    "J1 = 1/2 * m1 * 1/4 * d1**2\n",
    "J2 = 1/2 * m2 * 1/4 * d2**2\n",
    "J = J1 + J2\n",
    "print(f'J1 = {J1:.6f} kgm^2')\n",
    "print(f'J2 = {J2:.6f} kgm^2')\n",
    "print(f'J = {J:.6f} kgm^2')\n",
    "print(f'd1/(2*J) = {d1/(2*J):.4f}')"
   ]
  },
  {
   "cell_type": "code",
   "execution_count": 113,
   "metadata": {},
   "outputs": [
    {
     "data": {
      "image/png": "[encoded data removed]",
      "text/plain": [
       "<Figure size 600x200 with 1 Axes>"
      ]
     },
     "metadata": {},
     "output_type": "display_data"
    }
   ],
   "source": [
    "t = np.linspace(0, 1, 1000)\n",
    "t1 = 0.4\n",
    "Ft = np.zeros_like(t)\n",
    "Ft[:400] = (F0 - F1)/t1 * t[:400] + F1\n",
    "\n",
    "fig, ax = plt.subplots(figsize=(6, 2))\n",
    "ax.plot(t, Ft)\n",
    "ax.set_xlabel('t [s]')\n",
    "ax.set_ylabel('F [N]');"
   ]
  },
  {
   "cell_type": "code",
   "execution_count": 114,
   "metadata": {},
   "outputs": [
    {
     "name": "stdout",
     "output_type": "stream",
     "text": [
      "ddphi = \n",
      "\n",
      "\n",
      "   ⎛     t⋅(F₀ - F₁)⎞\n",
      "d₁⋅⎜F₁ + ───────────⎟\n",
      "   ⎝          t₁    ⎠\n",
      "─────────────────────\n",
      "         2⋅J         \n"
     ]
    }
   ],
   "source": [
    "import sympy as sp\n",
    "J, t, d1, F0, F1, t1, omega1 = sp.symbols('J t d1 F0 F1 t1 omega1')\n",
    "F = ((F0 - F1) / t1) * t + F1\n",
    "M = d1/2 * F\n",
    "ddphi = M/J \n",
    "print(f'ddphi = \\n\\n')\n",
    "sp.pprint(ddphi)"
   ]
  },
  {
   "cell_type": "code",
   "execution_count": 115,
   "metadata": {},
   "outputs": [
    {
     "name": "stdout",
     "output_type": "stream",
     "text": [
      "dphi = \n",
      "\n",
      "\n",
      "           2                \n",
      "F₁⋅d₁⋅t   t ⋅(F₀⋅d₁ - F₁⋅d₁)\n",
      "─────── + ──────────────────\n",
      "  2⋅J           4⋅J⋅t₁      \n",
      "F₁⋅d₁⋅t₁   t₁⋅(F₀⋅d₁ - F₁⋅d₁)\n",
      "──────── + ──────────────────\n",
      "  2⋅J             4⋅J        \n",
      "4*J*omega1/(d1*(F0 + F1))\n"
     ]
    },
    {
     "data": {
      "text/latex": [
       "$\\displaystyle 0.179023244917181$"
      ],
      "text/plain": [
       "0.179023244917181"
      ]
     },
     "execution_count": 115,
     "metadata": {},
     "output_type": "execute_result"
    }
   ],
   "source": [
    "dphi = sp.integrate(ddphi, t)\n",
    "print(f'dphi = \\n\\n')\n",
    "sp.pprint(dphi)\n",
    "dphi_t1 = sp.integrate(ddphi, (t, 0, t1))\n",
    "sp.pprint(dphi_t1)\n",
    "# sp.pretty(dphi_t1)\n",
    "t1 = sp.solve(dphi_t1 - omega1, t1)[0]\n",
    "print(t1)\n",
    "# print()\n",
    "# print()\n",
    "# sp.pretty(t1)\n",
    "F0N = 279\n",
    "F1N = 149\n",
    "d1N = 0.21\n",
    "omega1N = 2*np.pi*nM/60\n",
    "t1_n = t1.subs({F0: F0N, F1: F1N, d1: d1N, omega1: omega1N, J: J1+J2})\n",
    "t1_n\n",
    "# print(f't1 = {t1_n:.4f} s')\n",
    "# # print(f't1 = {t1:.4f} s')\n",
    "# # phi = sp.integrate(dphi, t)\n",
    "# # sp.pprint(phi)"
   ]
  },
  {
   "cell_type": "code",
   "execution_count": 116,
   "metadata": {},
   "outputs": [
    {
     "ename": "TypeError",
     "evalue": "unsupported format string passed to Mul.__format__",
     "output_type": "error",
     "traceback": [
      "\u001b[1;31m---------------------------------------------------------------------------\u001b[0m",
      "\u001b[1;31mTypeError\u001b[0m                                 Traceback (most recent call last)",
      "Cell \u001b[1;32mIn[116], line 1\u001b[0m\n\u001b[1;32m----> 1\u001b[0m \u001b[39mprint\u001b[39m(\u001b[39mf\u001b[39m\u001b[39m'\u001b[39m\u001b[39mphi2/phi1 ) \u001b[39m\u001b[39m{\u001b[39;00md1\u001b[39m/\u001b[39md2\u001b[39m:\u001b[39;00m\u001b[39m.4f\u001b[39m\u001b[39m}\u001b[39;00m\u001b[39m (d2/d1)\u001b[39m\u001b[39m'\u001b[39m)\n",
      "File \u001b[1;32mc:\\Users\\marko\\anaconda3\\lib\\site-packages\\sympy\\core\\expr.py:394\u001b[0m, in \u001b[0;36mExpr.__format__\u001b[1;34m(self, format_spec)\u001b[0m\n\u001b[0;32m    392\u001b[0m         \u001b[39mif\u001b[39;00m rounded\u001b[39m.\u001b[39mis_Float:\n\u001b[0;32m    393\u001b[0m             \u001b[39mreturn\u001b[39;00m \u001b[39mformat\u001b[39m(rounded, format_spec)\n\u001b[1;32m--> 394\u001b[0m \u001b[39mreturn\u001b[39;00m \u001b[39msuper\u001b[39;49m()\u001b[39m.\u001b[39;49m\u001b[39m__format__\u001b[39;49m(format_spec)\n",
      "\u001b[1;31mTypeError\u001b[0m: unsupported format string passed to Mul.__format__"
     ]
    }
   ],
   "source": [
    "print(f'phi2/phi1 ) {d1/d2:.4f} (d2/d1)')"
   ]
  },
  {
   "cell_type": "code",
   "execution_count": null,
   "metadata": {},
   "outputs": [
    {
     "name": "stdout",
     "output_type": "stream",
     "text": [
      "        t₁⋅(F₀ - F₁)\n",
      "F₁⋅t₁ + ────────────\n",
      "             2      \n"
     ]
    }
   ],
   "source": [
    "F = ((F0 - F1) / t1) * t + F1\n",
    "integral = sp.integrate(F, (t, 0, t1))\n",
    "sp.pprint(integral)"
   ]
  },
  {
   "cell_type": "code",
   "execution_count": null,
   "metadata": {},
   "outputs": [
    {
     "name": "stdout",
     "output_type": "stream",
     "text": [
      "   4⋅J⋅ω₁   \n",
      "────────────\n",
      "d₁⋅(F₀ + F₁)\n",
      "\n",
      "Numeric value of t1: 0.293606790055121\n"
     ]
    }
   ],
   "source": [
    "J, t, d1, F0, F1, t1, omega1 = sp.symbols('J t d1 F0 F1 t1 omega1')\n",
    "F = ((F0 - F1) / t1) * t + F1\n",
    "M = d1/2 * F\n",
    "ddphi = M/J \n",
    "integral = sp.integrate(ddphi, t)\n",
    "\n",
    "# Solve for t1 symbolically\n",
    "solution = sp.solve(integral - omega1, t1)\n",
    "# sp.pprint(solution)\n",
    "\n",
    "# Substitute values to find the numeric value of t1\n",
    "# F0 = 279\n",
    "# F1 = 149\n",
    "nM = 600\n",
    "# omega1 = 2*np.pi*nM/60\n",
    "\n",
    "F0_val = 279\n",
    "F1_val = 149\n",
    "omega1_val = 2*np.pi*nM/60\n",
    "\n",
    "t1_symbolic = solution[0]\n",
    "sp.pprint(t1_symbolic)\n",
    "t1_numeric = solution[0].subs({F0: F0_val, F1: F1_val, omega1: omega1_val})\n",
    "print()\n",
    "print(\"Numeric value of t1:\", t1_numeric * d1/(2*J))"
   ]
  },
  {
   "cell_type": "code",
   "execution_count": null,
   "metadata": {},
   "outputs": [],
   "source": []
  }
 ],
 "metadata": {
  "kernelspec": {
   "display_name": "base",
   "language": "python",
   "name": "python3"
  },
  "language_info": {
   "codemirror_mode": {
    "name": "ipython",
    "version": 3
   },
   "file_extension": ".py",
   "mimetype": "text/x-python",
   "name": "python",
   "nbconvert_exporter": "python",
   "pygments_lexer": "ipython3",
   "version": "3.9.16"
  },
  "orig_nbformat": 4
 },
 "nbformat": 4,
 "nbformat_minor": 2
}
