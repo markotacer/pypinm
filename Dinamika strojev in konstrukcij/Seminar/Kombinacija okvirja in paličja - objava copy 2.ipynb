{
 "cells": [
  {
   "cell_type": "code",
   "execution_count": 2,
   "id": "d2d4de54",
   "metadata": {},
   "outputs": [],
   "source": [
    "import sympy as sym\n",
    "import numpy as np\n",
    "import scipy as sp\n",
    "from scipy import linalg,spatial,signal\n",
    "\n",
    "import matplotlib.pyplot as plt\n",
    "from matplotlib.animation import FuncAnimation"
   ]
  },
  {
   "cell_type": "code",
   "execution_count": 3,
   "id": "d7afd461",
   "metadata": {},
   "outputs": [],
   "source": [
    "def zgosti_mrezo(vozlisca_osn, elementi_osn, approx_elem_size):\n",
    "\n",
    "    vozlisca = np.copy(vozlisca_osn)\n",
    "    elementi = np.empty((0,2), int)\n",
    "\n",
    "    for element in elementi_osn:\n",
    "        dist = sp.spatial.distance.euclidean(vozlisca_osn[element[0]],vozlisca_osn[element[1]])\n",
    "        n = np.round(dist/approx_elem_size).astype(int)\n",
    "\n",
    "        x_coor = np.linspace(vozlisca[element[0],0], vozlisca_osn[element[1],0],n)[1:-1]\n",
    "        y_coor = np.linspace(vozlisca[element[0],1], vozlisca_osn[element[1],1],n)[1:-1]\n",
    "        voz = np.block([[x_coor],[y_coor]]).T\n",
    "\n",
    "        novi_ind_vozlisc = len(vozlisca) + np.arange(len(voz))\n",
    "        vozlisca = np.append(vozlisca, voz, axis = 0)\n",
    "        sez_voz = np.block([element[0],novi_ind_vozlisc,element[1]])\n",
    "        elem = np.array([[sez_voz[_],sez_voz[_+1]] for _ in range(len(sez_voz)-1)])\n",
    "        elementi = np.append(elementi, elem, axis = 0)\n",
    "        \n",
    "    return(vozlisca, elementi)"
   ]
  },
  {
   "cell_type": "code",
   "execution_count": 4,
   "id": "ca6cf67e",
   "metadata": {},
   "outputs": [],
   "source": [
    "# PALIČJE\n",
    "\n",
    "# masna matrika\n",
    "def M_p(A, L, ρ):\n",
    "\n",
    "    M = ρ*A*L/6*np.array([\n",
    "    [2, 0, 1, 0],\n",
    "    [0, 2, 0, 1],\n",
    "    [1, 0, 2, 0],\n",
    "    [0, 1, 0, 2]])\n",
    "    \n",
    "    return M\n",
    "\n",
    "def K_p(A, E, L, α):\n",
    "\n",
    "    c = np.cos(α)\n",
    "    s = np.sin(α)\n",
    "    \n",
    "    K = A*E/L*np.array([\n",
    "    [ c**2,   s*c, -c**2,  -s*c],\n",
    "    [  s*c,  s**2,  -s*c, -s**2],\n",
    "    [-c**2,  -s*c,  c**2,   s*c],\n",
    "    [ -c*s, -s**2,   s*c,  s**2]])\n",
    "    \n",
    "    return K"
   ]
  },
  {
   "cell_type": "code",
   "execution_count": 5,
   "id": "a5d8575f",
   "metadata": {},
   "outputs": [],
   "source": [
    "# OKVIR\n",
    "# transformacijska matrika\n",
    "def T(α):\n",
    "    \n",
    "    T = np.array([[ np.cos(α), np.sin(α), 0,         0,         0, 0],\n",
    "                   [-np.sin(α), np.cos(α), 0,         0,         0, 0],\n",
    "                   [         0,         0, 1,         0,         0, 0],\n",
    "                   [         0,         0, 0, np.cos(α), np.sin(α), 0],\n",
    "                   [         0,         0, 0,-np.sin(α), np.cos(α), 0],\n",
    "                   [         0,         0, 0,         0,         0, 1]])\n",
    "        \n",
    "    return T\n",
    "\n",
    "# masna matrika\n",
    "def M_o(A, L, ρ, α):\n",
    "\n",
    "    M_lok = ρ*A*L*np.array([[1/3,         0,         0, 1/6,         0,         0],\n",
    "                            [  0,     13/35,  11*L/210,   0,      9/70, -13*L/420],\n",
    "                            [  0,  11*L/210,  L**2/105,   0,  13*L/420, -L**2/140],\n",
    "                            [1/6,         0,         0, 1/3,         0,         0],\n",
    "                            [  0,      9/70,  13*L/420,   0,     13/35, -11*L/210],\n",
    "                            [  0, -13*L/420, -L**2/140,   0, -11*L/210,  L**2/105]])\n",
    "    \n",
    "    return T(α).T @ M_lok @ T(α)\n",
    "\n",
    "# togostna matrika\n",
    "def K_o(A, E, I, L, α):\n",
    "\n",
    "    K_lok = E/L*np.array([[ A,          0,      0, -A,          0,      0],\n",
    "                          [ 0,  12*I/L**2,  6*I/L,  0, -12*I/L**2,  6*I/L],\n",
    "                          [ 0,      6*I/L,    4*I,  0,     -6*I/L,    2*I],\n",
    "                          [-A,          0,      0,  A,          0,      0],\n",
    "                          [ 0, -12*I/L**2, -6*I/L,  0,  12*I/L**2, -6*I/L],\n",
    "                          [ 0,      6*I/L,    2*I,  0,     -6*I/L,    4*I]])\n",
    "    \n",
    "    return T(α).T @ K_lok @ T(α)"
   ]
  },
  {
   "cell_type": "code",
   "execution_count": 6,
   "id": "74947b23",
   "metadata": {},
   "outputs": [
    {
     "data": {
      "image/png": "[encoded data removed]",
      "text/plain": [
       "<Figure size 640x480 with 1 Axes>"
      ]
     },
     "metadata": {},
     "output_type": "display_data"
    }
   ],
   "source": [
    "# Podstruktura A - okvir\n",
    "\n",
    "# podatki\n",
    "L1 = 0.8 # m\n",
    "L2 = 1.2 # m\n",
    "h = 0.030 # m\n",
    "\n",
    "ρ_A = 2700 # kg /m3\n",
    "E_A = 70e9 # Pa\n",
    "\n",
    "A_A = h*h # m^2\n",
    "I_A = h*h**3/12 # m^4\n",
    "\n",
    "# osnovna geometrija\n",
    "vozlisca_osn_A = np.array([[0,0],[0,L1],[L2,L1]])\n",
    "elementi_osn_A = np.array([[0,1],[1,2]])\n",
    "\n",
    "# zgostitev mreže\n",
    "approx_elem_size = 0.1 # m\n",
    "vozlisca_A, elementi_A = zgosti_mrezo(vozlisca_osn_A, elementi_osn_A, approx_elem_size)\n",
    "\n",
    "# izris\n",
    "plt.axis('equal')\n",
    "[plt.plot(*vozlisca_A[e].T,'-o',c='C0') for e in elementi_A];\n",
    "[plt.text(*c,n) for n,c in enumerate(vozlisca_A-0.05)];\n",
    "plt.axis('off');\n",
    "\n",
    "# zlaganje\n",
    "n_ps_A = 3*len(vozlisca_A)\n",
    "M_glob_A = np.zeros((n_ps_A,n_ps_A))\n",
    "K_glob_A = np.zeros((n_ps_A,n_ps_A))\n",
    "\n",
    "for element in elementi_A:\n",
    "    Le = sp.spatial.distance.euclidean(vozlisca_A[element[0]], vozlisca_A[element[1]])\n",
    "    αe = np.arctan2(np.diff(vozlisca_A[element,1]) , np.diff(vozlisca_A[element,0]))[0]\n",
    "    ind = (3*element[:,None] + np.array([0, 1, 2])).flatten()\n",
    "    \n",
    "    M_glob_A[ind[:,None],ind] += M_o(A_A, Le, ρ_A, αe)\n",
    "    K_glob_A[ind[:,None],ind] += K_o(A_A, E_A, I_A, Le, αe)"
   ]
  },
  {
   "cell_type": "code",
   "execution_count": 7,
   "id": "ad3527ce",
   "metadata": {},
   "outputs": [
    {
     "data": {
      "image/png": "[encoded data removed]",
      "text/plain": [
       "<Figure size 640x480 with 1 Axes>"
      ]
     },
     "metadata": {},
     "output_type": "display_data"
    }
   ],
   "source": [
    "# Podstruktura B - paličje\n",
    "\n",
    "# podatki\n",
    "L3 = 0.8 # m\n",
    "L4 = 1.5 # m\n",
    "φ = 0*np.pi/4 # rad\n",
    "d = 0.010 # m\n",
    "\n",
    "ρ_B = 7800 # kg /m3\n",
    "E_B = 210e9 # Pa\n",
    "A_B = np.pi * d**2 / 4 # m^2\n",
    "\n",
    "# osnovna geometrija\n",
    "vozlisca_B = np.array([[L2,0],[L2+L4,0],[L2,L3]])\n",
    "elementi_B = np.array([[0,1],[1,2],[2,0]])\n",
    "\n",
    "# izris\n",
    "plt.axis('equal')\n",
    "[plt.plot(*vozlisca_B[e].T,'-o',c='C1') for e in elementi_B];\n",
    "[plt.text(*c,n) for n,c in enumerate(vozlisca_B-0.05)];\n",
    "plt.axis('off');\n",
    "\n",
    "# zlaganje\n",
    "n_ps_B = 2*len(vozlisca_B)\n",
    "M_glob_B = np.zeros((n_ps_B,n_ps_B))\n",
    "K_glob_B = np.zeros((n_ps_B,n_ps_B))\n",
    "\n",
    "for element in elementi_B:\n",
    "    Le = sp.spatial.distance.euclidean(vozlisca_B[element[0]], vozlisca_B[element[1]])\n",
    "    αe = np.arctan2(np.diff(vozlisca_B[element,1]) , np.diff(vozlisca_B[element,0]))[0]\n",
    "    ind = (2*element[:,None] + np.array([0, 1])).flatten()\n",
    "    \n",
    "    M_glob_B[ind[:,None],ind] += M_p(A_B, Le, ρ_B)\n",
    "    K_glob_B[ind[:,None],ind] += K_p(A_B, E_B, Le, αe)"
   ]
  },
  {
   "cell_type": "code",
   "execution_count": 8,
   "id": "e05f315e",
   "metadata": {},
   "outputs": [],
   "source": [
    "# robni pogoji in povezava podstruktur\n",
    "\n",
    "# A - robni pogoji\n",
    "ind_vpetih_ps = np.array([0,1,2])\n",
    "C_A_rp = np.zeros((len(ind_vpetih_ps),n_ps_A))\n",
    "C_A_rp[np.arange(len(ind_vpetih_ps)),ind_vpetih_ps] = 1\n",
    "\n",
    "# B - robni pogoji - ročno za boljše razumevanje\n",
    "C_B_rp = np.array([[0, 0, np.tan(φ), -1, 0, 0]])\n",
    "\n",
    "C_rp = sp.linalg.block_diag(C_A_rp,C_B_rp)\n",
    "\n",
    "# AB povezava - ročno za boljše razumevanje\n",
    "C_A_pov = np.zeros((2,n_ps_A))\n",
    "C_A_pov[[0,1],[6,7]] = 1\n",
    "\n",
    "C_B_pov = np.zeros((2,n_ps_B))\n",
    "C_B_pov[[0,1],[4,5]] = -1\n",
    "\n",
    "C_pov = np.hstack([C_A_pov,C_B_pov]) \n",
    "\n",
    "# združeno\n",
    "C = np.vstack([C_rp, C_pov])\n",
    "L_AB = sp.linalg.null_space(C)\n",
    "\n",
    "# združitev masne in togostne matrike\n",
    "M_glob_AB = L_AB.T @ sp.linalg.block_diag(M_glob_A, M_glob_B) @ L_AB\n",
    "K_glob_AB = L_AB.T @ sp.linalg.block_diag(K_glob_A, K_glob_B) @ L_AB"
   ]
  },
  {
   "cell_type": "code",
   "execution_count": 9,
   "id": "94806c75",
   "metadata": {},
   "outputs": [],
   "source": [
    "# problem lastnih vrednosti\n",
    "eig_val, eig_vec = sp.linalg.eig(K_glob_AB, M_glob_AB)\n",
    "\n",
    "# urejanje po velikosti\n",
    "_ind = np.argsort(np.abs(eig_val))\n",
    "eig_val = np.abs(eig_val[_ind])\n",
    "eig_vec = eig_vec[:,_ind]\n",
    "\n",
    "eig_freq = np.abs(eig_val)**0.5 / 2 / np.pi\n",
    "\n",
    "# interpretacija rezultata\n",
    "eig_vec_A = L_AB[:n_ps_A,:] @ eig_vec\n",
    "eig_vec_B = L_AB[-n_ps_B:,:] @ eig_vec"
   ]
  },
  {
   "cell_type": "code",
   "execution_count": 10,
   "id": "3cd943e1",
   "metadata": {},
   "outputs": [
    {
     "data": {
      "text/plain": [
       "array([  4.7,  18.7,  67.8, 185.1, 253.8, 437.4])"
      ]
     },
     "execution_count": 10,
     "metadata": {},
     "output_type": "execute_result"
    }
   ],
   "source": [
    "# lastne frekvence [Hz]\n",
    "eig_freq[:6].round(1)"
   ]
  },
  {
   "cell_type": "code",
   "execution_count": 12,
   "id": "f0abebc2",
   "metadata": {},
   "outputs": [
    {
     "name": "stdout",
     "output_type": "stream",
     "text": [
      "(19, 2)\n",
      "(19,)\n"
     ]
    },
    {
     "data": {
      "image/png": "[encoded data removed]",
      "text/plain": [
       "<Figure size 640x480 with 1 Axes>"
      ]
     },
     "metadata": {},
     "output_type": "display_data"
    }
   ],
   "source": [
    "# animacija lastnih oblik\n",
    "m = 1\n",
    "s = 1\n",
    "\n",
    "# podstruktura A\n",
    "pomiki_x_A = eig_vec_A[0::3,m].real\n",
    "pomiki_y_A = eig_vec_A[1::3,m].real\n",
    "\n",
    "# podstruktura B\n",
    "pomiki_x_B = eig_vec_B[0::2,m].real\n",
    "pomiki_y_B = eig_vec_B[1::2,m].real\n",
    "\n",
    "# stacionarni izris\n",
    "def_vozlisca_A = np.copy(vozlisca_A)\n",
    "def_vozlisca_A[:,0] += pomiki_x_A * s\n",
    "def_vozlisca_A[:,1] += pomiki_y_A * s\n",
    "\n",
    "def_vozlisca_B = np.copy(vozlisca_B)\n",
    "def_vozlisca_B[:,0] += pomiki_x_B * s\n",
    "def_vozlisca_B[:,1] += pomiki_y_B * s\n",
    "\n",
    "print(def_vozlisca_A.shape)\n",
    "print(pomiki_x_A.shape)\n",
    "\n",
    "\n",
    "# osnovno stanje\n",
    "plt.axis('equal')\n",
    "[plt.plot(*vozlisca_A[e].T,'-o',c='C0') for e in elementi_A];\n",
    "[plt.plot(*vozlisca_B[e].T,'-o',c='C1') for e in elementi_B];\n",
    "\n",
    "# deformirano stanje\n",
    "plt.axis('equal')\n",
    "[plt.plot(*def_vozlisca_A[e].T,'-o',c='C2') for e in elementi_A];\n",
    "[plt.plot(*def_vozlisca_B[e].T,'-o',c='C2') for e in elementi_B];"
   ]
  },
  {
   "cell_type": "code",
   "execution_count": null,
   "id": "d48bce5a",
   "metadata": {},
   "outputs": [],
   "source": []
  },
  {
   "cell_type": "code",
   "execution_count": null,
   "id": "436fd455",
   "metadata": {},
   "outputs": [],
   "source": []
  }
 ],
 "metadata": {
  "kernelspec": {
   "display_name": "base",
   "language": "python",
   "name": "python3"
  },
  "language_info": {
   "codemirror_mode": {
    "name": "ipython",
    "version": 3
   },
   "file_extension": ".py",
   "mimetype": "text/x-python",
   "name": "python",
   "nbconvert_exporter": "python",
   "pygments_lexer": "ipython3",
   "version": "3.9.13"
  },
  "vscode": {
   "interpreter": {
    "hash": "ad2bdc8ecc057115af97d19610ffacc2b4e99fae6737bb82f5d7fb13d2f2c186"
   }
  }
 },
 "nbformat": 4,
 "nbformat_minor": 5
}
