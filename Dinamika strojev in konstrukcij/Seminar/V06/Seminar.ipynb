{
 "cells": [
  {
   "cell_type": "code",
   "execution_count": 1,
   "id": "b946995a",
   "metadata": {},
   "outputs": [],
   "source": [
    "import sympy as sym\n",
    "import numpy as np\n",
    "import scipy as sp\n",
    "from scipy import linalg,spatial,signal\n",
    "\n",
    "import matplotlib.pyplot as plt\n",
    "from matplotlib.animation import FuncAnimation"
   ]
  },
  {
   "cell_type": "code",
   "execution_count": 2,
   "id": "54420721",
   "metadata": {},
   "outputs": [],
   "source": [
    "# PALIČJE\n",
    "\n",
    "# masna matrika\n",
    "def M_p(A, L, ρ):\n",
    "\n",
    "    M = ρ*A*L/6*np.array([\n",
    "    [2, 0, 1, 0],\n",
    "    [0, 2, 0, 1],\n",
    "    [1, 0, 2, 0],\n",
    "    [0, 1, 0, 2]])\n",
    "    \n",
    "    return M\n",
    "\n",
    "def K_p(A, E, L, α):\n",
    "\n",
    "    c = np.cos(α)\n",
    "    s = np.sin(α)\n",
    "    \n",
    "    K = A*E/L*np.array([\n",
    "    [ c**2,   s*c, -c**2,  -s*c],\n",
    "    [  s*c,  s**2,  -s*c, -s**2],\n",
    "    [-c**2,  -s*c,  c**2,   s*c],\n",
    "    [ -c*s, -s**2,   s*c,  s**2]])\n",
    "    \n",
    "    return K"
   ]
  },
  {
   "cell_type": "code",
   "execution_count": 3,
   "id": "b11f12bc",
   "metadata": {},
   "outputs": [],
   "source": [
    "# OKVIR\n",
    "# transformacijska matrika\n",
    "def T(α):\n",
    "    \n",
    "    T = np.array([[ np.cos(α), np.sin(α), 0,         0,         0, 0],\n",
    "                   [-np.sin(α), np.cos(α), 0,         0,         0, 0],\n",
    "                   [         0,         0, 1,         0,         0, 0],\n",
    "                   [         0,         0, 0, np.cos(α), np.sin(α), 0],\n",
    "                   [         0,         0, 0,-np.sin(α), np.cos(α), 0],\n",
    "                   [         0,         0, 0,         0,         0, 1]])\n",
    "        \n",
    "    return T\n",
    "\n",
    "# masna matrika\n",
    "def M_o(A, L, ρ, α):\n",
    "\n",
    "    M_lok = ρ*A*L*np.array([[1/3,         0,         0, 1/6,         0,         0],\n",
    "                            [  0,     13/35,  11*L/210,   0,      9/70, -13*L/420],\n",
    "                            [  0,  11*L/210,  L**2/105,   0,  13*L/420, -L**2/140],\n",
    "                            [1/6,         0,         0, 1/3,         0,         0],\n",
    "                            [  0,      9/70,  13*L/420,   0,     13/35, -11*L/210],\n",
    "                            [  0, -13*L/420, -L**2/140,   0, -11*L/210,  L**2/105]])\n",
    "    \n",
    "    return T(α).T @ M_lok @ T(α)\n",
    "\n",
    "# togostna matrika\n",
    "def K_o(A, E, I, L, α):\n",
    "\n",
    "    K_lok = E/L*np.array([[ A,          0,      0, -A,          0,      0],\n",
    "                          [ 0,  12*I/L**2,  6*I/L,  0, -12*I/L**2,  6*I/L],\n",
    "                          [ 0,      6*I/L,    4*I,  0,     -6*I/L,    2*I],\n",
    "                          [-A,          0,      0,  A,          0,      0],\n",
    "                          [ 0, -12*I/L**2, -6*I/L,  0,  12*I/L**2, -6*I/L],\n",
    "                          [ 0,      6*I/L,    2*I,  0,     -6*I/L,    4*I]])\n",
    "    \n",
    "    return T(α).T @ K_lok @ T(α)"
   ]
  },
  {
   "cell_type": "code",
   "execution_count": 4,
   "id": "f78b43c0",
   "metadata": {
    "scrolled": true
   },
   "outputs": [
    {
     "data": {
      "image/png": "[encoded data removed]",
      "text/plain": [
       "<Figure size 640x480 with 1 Axes>"
      ]
     },
     "metadata": {},
     "output_type": "display_data"
    }
   ],
   "source": [
    "#Podstruktura A\n",
    "L = 10\n",
    "h_A = 0.4\n",
    "\n",
    "ρ_A = 2700 # kg /m3\n",
    "E_A = 70e9 # Pa\n",
    "A_A = h_A*h_A # m^2\n",
    "I_A = h_A*h_A**3/12 # m^4\n",
    "\n",
    "vozlisca_A1 = np.array([[0,0],[L/2,0],[3*L/2,0],[5*L/2,0],[3*L,0]])\n",
    "elementi_A1 = np.array ([[0,1],[1,2],[2,3],[3,4]])\n",
    "\n",
    "[plt.plot(vozlisca_A1[e,0],vozlisca_A1[e,1],'-o',c='C0') for e in elementi_A1]\n",
    "plt.axis('equal');"
   ]
  },
  {
   "cell_type": "code",
   "execution_count": 5,
   "id": "c3df833f",
   "metadata": {},
   "outputs": [],
   "source": [
    "#A\n",
    "n1=5\n",
    "n2=10\n",
    "vozlisca_AB=np.array([[x,0] for x in np.linspace(0,L/2,n1)])\n",
    "vozlisca_BC=np.array([[x,0] for x in np.linspace(L/2,3*L/2,n2)])\n",
    "vozlisca_CD=np.array([[x,0] for x in np.linspace(3*L/2,5*L/2,n2)])\n",
    "vozlisca_DE=np.array([[x,0] for x in np.linspace(5*L/2,3*L,n1)])"
   ]
  },
  {
   "cell_type": "code",
   "execution_count": 6,
   "id": "6a69c5e9",
   "metadata": {},
   "outputs": [],
   "source": [
    "#A\n",
    "vozlisca_SK=np.vstack([vozlisca_AB,vozlisca_BC[1:],vozlisca_CD[1:],vozlisca_DE[1:]])\n",
    "elementi_A = np.array([[i,i+1] for i in range(len(vozlisca_SK)-1)])"
   ]
  },
  {
   "cell_type": "code",
   "execution_count": 7,
   "id": "d1fb59e6",
   "metadata": {
    "scrolled": true
   },
   "outputs": [
    {
     "data": {
      "image/png": "[encoded data removed]",
      "text/plain": [
       "<Figure size 640x480 with 1 Axes>"
      ]
     },
     "metadata": {},
     "output_type": "display_data"
    }
   ],
   "source": [
    "#A\n",
    "[plt.plot(vozlisca_SK[e,0],vozlisca_SK[e,1],'-o',c='C0') for e in elementi_A]\n",
    "plt.axis('equal');"
   ]
  },
  {
   "cell_type": "code",
   "execution_count": 8,
   "id": "b58f389d",
   "metadata": {},
   "outputs": [],
   "source": [
    "#A\n",
    "n_ps_A = 3*len(vozlisca_SK)\n",
    "M_glob_A = np.zeros((n_ps_A,n_ps_A))\n",
    "K_glob_A = np.zeros((n_ps_A,n_ps_A))\n",
    "\n",
    "for element in elementi_A:\n",
    "    Le = sp.spatial.distance.euclidean(vozlisca_SK[element[0]], vozlisca_SK[element[1]])\n",
    "    αe = np.arctan2(np.diff(vozlisca_SK[element,1]) , np.diff(vozlisca_SK[element,0]))[0]\n",
    "    ind = (3*element[:,None] + np.array([0, 1, 2])).flatten()\n",
    "    \n",
    "    M_glob_A[ind[:,None],ind] += M_o(A_A, Le, ρ_A, αe)\n",
    "    K_glob_A[ind[:,None],ind] += K_o(A_A, E_A, I_A, Le, αe)"
   ]
  },
  {
   "cell_type": "code",
   "execution_count": 9,
   "id": "53aecbe9",
   "metadata": {
    "scrolled": true
   },
   "outputs": [
    {
     "data": {
      "image/png": "[encoded data removed]",
      "text/plain": [
       "<Figure size 640x480 with 1 Axes>"
      ]
     },
     "metadata": {},
     "output_type": "display_data"
    }
   ],
   "source": [
    "#paličje, podstruktura B\n",
    "d= 0.2\n",
    "E_B = 210e9 # Pa\n",
    "A_B = np.pi * d**2 / 4 # m^2\n",
    "ρ_B = 7800 # kg /m3\n",
    "\n",
    "vozlisca_B = np.array([[0,0],[L/2,0],[3*L/2,0],[5*L/2,0],[3*L,0],[L/2,L],[3*L/2,L],[5*L/2,L]])\n",
    "elementi_B = np.array([[0,5],[5,1],[5,2],[5,6],[6,2],[6,3],[6,7],[7,3],[7,4]])\n",
    "\n",
    "[plt.plot(vozlisca_B[e,0],vozlisca_B[e,1],'-o',c='C0') for e in elementi_B]\n",
    "plt.axis('equal');"
   ]
  },
  {
   "cell_type": "code",
   "execution_count": 10,
   "id": "26c58a9a",
   "metadata": {},
   "outputs": [],
   "source": [
    "#B\n",
    "n_ps_B = 2*len(vozlisca_B)\n",
    "M_glob_B = np.zeros((n_ps_B,n_ps_B))\n",
    "K_glob_B = np.zeros((n_ps_B,n_ps_B))\n",
    "\n",
    "for element in elementi_B:\n",
    "    Le = sp.spatial.distance.euclidean(vozlisca_B[element[0]], vozlisca_B[element[1]])\n",
    "    αe = np.arctan2(np.diff(vozlisca_B[element,1]) , np.diff(vozlisca_B[element,0]))[0]\n",
    "    ind = (2*element[:,None] + np.array([0, 1])).flatten()\n",
    "    \n",
    "    M_glob_B[ind[:,None],ind] += M_p(A_B, Le, ρ_B)\n",
    "    K_glob_B[ind[:,None],ind] += K_p(A_B, E_B, Le, αe)\n"
   ]
  },
  {
   "cell_type": "code",
   "execution_count": 59,
   "id": "36fc9309",
   "metadata": {},
   "outputs": [
    {
     "data": {
      "text/plain": [
       "(16, 8)"
      ]
     },
     "execution_count": 59,
     "metadata": {},
     "output_type": "execute_result"
    }
   ],
   "source": [
    "n_ps_B, vozlisca_B.shape[0]"
   ]
  },
  {
   "cell_type": "code",
   "execution_count": 11,
   "id": "376df034",
   "metadata": {},
   "outputs": [
    {
     "data": {
      "text/plain": [
       "(4, 16)"
      ]
     },
     "execution_count": 11,
     "metadata": {},
     "output_type": "execute_result"
    }
   ],
   "source": [
    "#robni pogoji B\n",
    "ind_vp_ps_B = np.array([0,1,5,9])\n",
    "\n",
    "C_B_rp = np.zeros((len(ind_vp_ps_B),n_ps_B))\n",
    "C_B_rp[np.arange(len(ind_vp_ps_B)),ind_vp_ps_B] = 1\n",
    "C_B_rp.shape"
   ]
  },
  {
   "cell_type": "code",
   "execution_count": 12,
   "id": "1aff7924",
   "metadata": {},
   "outputs": [],
   "source": [
    "#robni pogoji A\n",
    "ind_vp_ps_A = np.array([0,1,40,79])\n",
    "\n",
    "C_A_rp = np.zeros((len(ind_vp_ps_A),n_ps_A))\n",
    "C_A_rp[np.arange(len(ind_vp_ps_A)),ind_vp_ps_A] = 1\n"
   ]
  },
  {
   "cell_type": "code",
   "execution_count": 13,
   "id": "2bc26806",
   "metadata": {},
   "outputs": [
    {
     "data": {
      "text/plain": [
       "(8, 97)"
      ]
     },
     "execution_count": 13,
     "metadata": {},
     "output_type": "execute_result"
    }
   ],
   "source": [
    "#Robni pogoji AB\n",
    "C_rp = sp.linalg.block_diag(C_A_rp,C_B_rp)\n",
    "C_rp.shape"
   ]
  },
  {
   "cell_type": "code",
   "execution_count": 14,
   "id": "a97498ff",
   "metadata": {},
   "outputs": [],
   "source": [
    "#povezava AB\n",
    "C_A_pov = np.zeros((10,n_ps_A))\n",
    "C_A_pov[[0,1],[0,1]] = 1\n",
    "C_A_pov[[2,3],[12,13]] = 1\n",
    "C_A_pov[[4,5],[39,40]] = 1\n",
    "C_A_pov[[6,7],[66,67]] = 1\n",
    "C_A_pov[[8,9],[78,79]] = 1\n",
    "\n",
    "C_B_pov = np.zeros((10,n_ps_B))\n",
    "C_B_pov[[0,1],[0,1]] = -1\n",
    "C_B_pov[[2,3],[2,3]] = -1\n",
    "C_B_pov[[4,5],[4,5]] = -1\n",
    "C_B_pov[[6,7],[6,7]] = -1\n",
    "C_B_pov[[8,9],[8,9]] = -1\n",
    "\n",
    "C_pov = np.hstack([C_A_pov,C_B_pov]) "
   ]
  },
  {
   "cell_type": "code",
   "execution_count": 15,
   "id": "2740d127",
   "metadata": {},
   "outputs": [],
   "source": [
    "C = np.vstack([C_rp, C_pov])\n",
    "L_AB = sp.linalg.null_space(C)\n"
   ]
  },
  {
   "cell_type": "code",
   "execution_count": 16,
   "id": "7a33409f",
   "metadata": {},
   "outputs": [],
   "source": [
    "M_glob_AB = L_AB.T @ sp.linalg.block_diag(M_glob_A, M_glob_B) @ L_AB \n",
    "K_glob_AB = L_AB.T @ sp.linalg.block_diag(K_glob_A, K_glob_B) @ L_AB\n"
   ]
  },
  {
   "cell_type": "code",
   "execution_count": 17,
   "id": "2d438d68",
   "metadata": {},
   "outputs": [],
   "source": [
    "#MODALNA ANLIZA\n",
    "# lastne vrednosti(val) in lastni vektorji(vec)\n",
    "eig_val, eig_vec = sp.linalg.eig(K_glob_AB, M_glob_AB)"
   ]
  },
  {
   "cell_type": "code",
   "execution_count": 18,
   "id": "d25620d7",
   "metadata": {},
   "outputs": [],
   "source": [
    "#urejanje po vrsti\n",
    "_ind = np.argsort(np.abs(eig_val))\n",
    "eig_val = np.abs(eig_val[_ind])\n",
    "eig_vec = eig_vec[:,_ind]\n",
    "eig_freq = np.abs(eig_val)**0.5 / 2 / np.pi"
   ]
  },
  {
   "cell_type": "code",
   "execution_count": 19,
   "id": "f9a9bd1d",
   "metadata": {},
   "outputs": [],
   "source": [
    "eig_vec_A = L_AB[:n_ps_A,:] @ eig_vec  \n",
    "eig_vec_B = L_AB[-n_ps_B:,:] @ eig_vec"
   ]
  },
  {
   "cell_type": "code",
   "execution_count": 20,
   "id": "cf3ec468",
   "metadata": {},
   "outputs": [
    {
     "data": {
      "text/plain": [
       "array([11.7, 17. , 21.9, 36.9, 37. ])"
      ]
     },
     "execution_count": 20,
     "metadata": {},
     "output_type": "execute_result"
    }
   ],
   "source": [
    "#frekvence\n",
    "eig_freq[:5].round(1)"
   ]
  },
  {
   "cell_type": "code",
   "execution_count": 21,
   "id": "144b20ed",
   "metadata": {
    "scrolled": true
   },
   "outputs": [
    {
     "data": {
      "image/png": "[encoded data removed]",
      "text/plain": [
       "<Figure size 640x480 with 1 Axes>"
      ]
     },
     "metadata": {},
     "output_type": "display_data"
    }
   ],
   "source": [
    "m = 3\n",
    "s = 4 \n",
    "\n",
    "\n",
    "pomiki_x_A = eig_vec_A[0::3,m].real\n",
    "pomiki_y_A = eig_vec_A[1::3,m].real\n",
    "\n",
    "# podstruktura B\n",
    "pomiki_x_B = eig_vec_B[0::2,m].real\n",
    "pomiki_y_B = eig_vec_B[1::2,m].real\n",
    "\n",
    "# stacionarni izris\n",
    "def_vozlisca_A = np.copy(vozlisca_SK)\n",
    "def_vozlisca_A[:,0] += pomiki_x_A * s\n",
    "def_vozlisca_A[:,1] += pomiki_y_A * s\n",
    "\n",
    "def_vozlisca_B = np.copy(vozlisca_B)\n",
    "def_vozlisca_B[:,0] += pomiki_x_B * s\n",
    "def_vozlisca_B[:,1] += pomiki_y_B * s\n",
    "\n",
    "# osnovno stanje\n",
    "plt.axis('equal')\n",
    "[plt.plot(*vozlisca_SK[e].T,'-o',c='C0') for e in elementi_A];\n",
    "[plt.plot(*vozlisca_B[e].T,'-o',c='C0') for e in elementi_B];\n",
    "\n",
    "# deformirano stanje\n",
    "plt.axis('equal')\n",
    "[plt.plot(*def_vozlisca_A[e].T,'-o',c='C2')for e in elementi_A];\n",
    "[plt.plot(*def_vozlisca_B[e].T,'-o',c='C2')for e in elementi_B];"
   ]
  },
  {
   "cell_type": "code",
   "execution_count": 22,
   "id": "af0e5bb3",
   "metadata": {},
   "outputs": [],
   "source": [
    "# masno normiranje\n",
    "m_rr = np.diagonal(eig_vec.T @ M_glob_AB @ eig_vec)\n",
    "Φ = eig_vec / m_rr**0.5\n",
    "\n",
    "ω_r = eig_val**0.5"
   ]
  },
  {
   "cell_type": "code",
   "execution_count": 23,
   "id": "e42beaff",
   "metadata": {},
   "outputs": [
    {
     "data": {
      "text/plain": [
       "(35, 2)"
      ]
     },
     "execution_count": 23,
     "metadata": {},
     "output_type": "execute_result"
    }
   ],
   "source": [
    "vozlisca=np.vstack([vozlisca_SK,vozlisca_B])\n",
    "vozlisca.shape"
   ]
  },
  {
   "cell_type": "code",
   "execution_count": 61,
   "id": "0bda77c0",
   "metadata": {},
   "outputs": [
    {
     "data": {
      "text/plain": [
       "(81, 16, 97)"
      ]
     },
     "execution_count": 61,
     "metadata": {},
     "output_type": "execute_result"
    }
   ],
   "source": [
    "vozlisca_SK.shape[0]*3, vozlisca_B.shape[0]*2, vozlisca_SK.shape[0]*3 + vozlisca_B.shape[0]*2"
   ]
  },
  {
   "cell_type": "code",
   "execution_count": 56,
   "id": "774edea6",
   "metadata": {},
   "outputs": [
    {
     "data": {
      "text/plain": [
       "[<matplotlib.lines.Line2D at 0x1d907faf310>]"
      ]
     },
     "execution_count": 56,
     "metadata": {},
     "output_type": "execute_result"
    },
    {
     "data": {
      "image/png": "[encoded data removed]",
      "text/plain": [
       "<Figure size 640x480 with 1 Axes>"
      ]
     },
     "metadata": {},
     "output_type": "display_data"
    }
   ],
   "source": [
    "plt.plot(vozlisca_SK[:,0],vozlisca_SK[:,1],'o')\n",
    "plt.plot(vozlisca_B[:,0],vozlisca_B[:,1],'o', c='C2')\n",
    "plt.plot(vozlisca[:,0],vozlisca[:,1],'x', c='black')"
   ]
  },
  {
   "cell_type": "code",
   "execution_count": 25,
   "id": "1910aee9",
   "metadata": {},
   "outputs": [],
   "source": [
    "# amplitudi vzbujevalnih sil\n",
    "F1x = 300; \n",
    "\n",
    "f_glob = np.zeros(3*len(vozlisca_SK)+2*len(vozlisca_B)) # pazi na robne pogoje\n",
    "\n",
    "# izbrana lokacija vzbujanja\n",
    "tocka_B = np.array([L/2,L])\n",
    "ind_vozlisca = np.where((vozlisca[:,None] == tocka_B).all(2).flatten())[0] #išče \n",
    "ind_x = 3*ind_vozlisca \n",
    "f_glob[ind_x] = F1x\n",
    "\n",
    "\n",
    "f_glob = np.linalg.pinv(L_AB)@ f_glob # prehod v svet Q\n",
    "h_r = Φ.T @ f_glob\n"
   ]
  },
  {
   "cell_type": "code",
   "execution_count": 46,
   "id": "b46aef71",
   "metadata": {},
   "outputs": [
    {
     "data": {
      "text/plain": [
       "(83,)"
      ]
     },
     "execution_count": 46,
     "metadata": {},
     "output_type": "execute_result"
    }
   ],
   "source": [
    "f_glob.shape"
   ]
  },
  {
   "cell_type": "code",
   "execution_count": 44,
   "id": "9b67c26d",
   "metadata": {},
   "outputs": [
    {
     "data": {
      "text/plain": [
       "(35, 2)"
      ]
     },
     "execution_count": 44,
     "metadata": {},
     "output_type": "execute_result"
    }
   ],
   "source": [
    "vozlisca.shape"
   ]
  },
  {
   "cell_type": "code",
   "execution_count": 43,
   "id": "03324220",
   "metadata": {},
   "outputs": [
    {
     "data": {
      "text/plain": [
       "32"
      ]
     },
     "execution_count": 43,
     "metadata": {},
     "output_type": "execute_result"
    }
   ],
   "source": [
    "ind_vozlisca[0]"
   ]
  },
  {
   "cell_type": "code",
   "execution_count": 27,
   "id": "29cd5653",
   "metadata": {},
   "outputs": [
    {
     "data": {
      "text/plain": [
       "array([[ 1., -0., -0., ...,  0.,  0., -0.],\n",
       "       [-0.,  1., -0., ...,  0., -0., -0.],\n",
       "       [-0., -0.,  1., ..., -0.,  0.,  0.],\n",
       "       ...,\n",
       "       [ 0.,  0., -0., ...,  1., -0.,  0.],\n",
       "       [ 0., -0.,  0., ..., -0.,  1.,  0.],\n",
       "       [-0., -0.,  0., ...,  0.,  0.,  1.]])"
      ]
     },
     "execution_count": 27,
     "metadata": {},
     "output_type": "execute_result"
    }
   ],
   "source": [
    "m_mod = np.diagonal(eig_vec.T @ M_glob_AB @ eig_vec) #modalne mase\n",
    "Φ = eig_vec / m_mod**0.5\n",
    "\n",
    "(Φ.T @ M_glob_AB @ Φ).round(1)"
   ]
  },
  {
   "cell_type": "code",
   "execution_count": 28,
   "id": "991eb5dd",
   "metadata": {},
   "outputs": [],
   "source": [
    "M_m = Φ.T @ M_glob_AB @ Φ\n",
    "K_m = Φ.T @ K_glob_AB @ Φ\n",
    "h_m = Φ.T @ f_glob"
   ]
  },
  {
   "cell_type": "code",
   "execution_count": 62,
   "id": "54c95385",
   "metadata": {},
   "outputs": [],
   "source": [
    "M=len(eig_val)\n",
    "δ = 0.003\n",
    "ω = np.arange(1000)\n",
    "\n",
    "H_mod = np.zeros([M,ω.shape[0]],dtype=complex)\n",
    "phi_i = np.zeros([M,ω.shape[0]])\n",
    "\n",
    "for i in range(M):\n",
    "    ω_i = eig_val[i].real**0.5    \n",
    "    H_mod[i] = h_m[i]/M_m[i,i]/(-ω**2+ω_i**2+2.j*δ*ω*ω_i)\n",
    "    phi_i[i] = np.arctan2(2*δ*ω/ω_i, 1-(ω/ω_i)**2)\n",
    "    \n",
    "H_fiz = Φ @ H_mod"
   ]
  },
  {
   "cell_type": "code",
   "execution_count": 63,
   "id": "35895313",
   "metadata": {},
   "outputs": [
    {
     "data": {
      "text/plain": [
       "array([  0.,   0.,   0.,   0.,   0.,   0.,   0.,   0.,   0.,   0.,   0.,\n",
       "         0.,   0.,   0.,   0.,   0.,   0.,   0.,   0.,   0.,   0.,   0.,\n",
       "         0.,   0.,   0.,   0.,   0.,   0.,   0.,   0.,   0.,   0.,   0.,\n",
       "         0.,   0.,   0.,   0.,   0.,   0.,   0.,   0.,   0.,   0.,   0.,\n",
       "         0.,   0.,   0.,   0.,   0.,   0.,   0.,   0.,   0.,   0.,   0.,\n",
       "         0.,   0.,   0.,   0.,   0.,   0.,   0.,   0.,   0.,   0.,   0.,\n",
       "         0.,   0.,   0.,   0.,   0.,   0.,   0.,   0.,   0.,   0.,   0.,\n",
       "         0.,   0.,   0.,   0.,   0., 300.])"
      ]
     },
     "execution_count": 63,
     "metadata": {},
     "output_type": "execute_result"
    }
   ],
   "source": [
    "f_glob"
   ]
  },
  {
   "cell_type": "code",
   "execution_count": 64,
   "id": "61106dc2",
   "metadata": {},
   "outputs": [
    {
     "data": {
      "image/png": "[encoded data removed]",
      "text/plain": [
       "<Figure size 640x480 with 1 Axes>"
      ]
     },
     "metadata": {},
     "output_type": "display_data"
    }
   ],
   "source": [
    "plt.semilogy(np.abs(H_mod[:5]).T);"
   ]
  },
  {
   "cell_type": "code",
   "execution_count": 65,
   "id": "6fbc3418",
   "metadata": {},
   "outputs": [
    {
     "data": {
      "image/png": "[encoded data removed]",
      "text/plain": [
       "<Figure size 600x600 with 1 Axes>"
      ]
     },
     "metadata": {},
     "output_type": "display_data"
    }
   ],
   "source": [
    "# osnovno stanje\n",
    "fig,ax=plt.subplots(figsize=(6,6))\n",
    "plt.axis('equal')\n",
    "[ax.plot(*vozlisca_SK[e].T,'-o',c='C0') for e in elementi_A];\n",
    "[ax.plot(*vozlisca_B[e].T,'-o',c='C0') for e in elementi_B];\n",
    "ax.arrow(vozlisca[len(vozlisca_SK)+2][0],vozlisca[len(vozlisca_SK)+2][1], 0, 10 , head_width=0.05, head_length=0.1, fc='k', ec='k')\n",
    "ax.plot(vozlisca[len(vozlisca_SK)+2][0],vozlisca[len(vozlisca_SK)+2][1],markersize = 20);"
   ]
  },
  {
   "cell_type": "code",
   "execution_count": 33,
   "id": "d3427b3c",
   "metadata": {},
   "outputs": [
    {
     "data": {
      "text/plain": [
       "5.0"
      ]
     },
     "execution_count": 33,
     "metadata": {},
     "output_type": "execute_result"
    }
   ],
   "source": [
    "vozlisca[(len(vozlisca_SK)+5)][0]"
   ]
  },
  {
   "cell_type": "code",
   "execution_count": null,
   "id": "66fa1acf",
   "metadata": {},
   "outputs": [],
   "source": [
    "fig, ax = plt.subplots(figsize=(8, 8))\n"
   ]
  },
  {
   "cell_type": "code",
   "execution_count": 34,
   "id": "a08da475",
   "metadata": {},
   "outputs": [
    {
     "data": {
      "text/plain": [
       "[<matplotlib.lines.Line2D at 0x1d909eaa310>,\n",
       " <matplotlib.lines.Line2D at 0x1d909eaa7c0>]"
      ]
     },
     "execution_count": 34,
     "metadata": {},
     "output_type": "execute_result"
    },
    {
     "data": {
      "image/png": "[encoded data removed]",
      "text/plain": [
       "<Figure size 640x480 with 1 Axes>"
      ]
     },
     "metadata": {},
     "output_type": "display_data"
    }
   ],
   "source": [
    "plt.plot(vozlisca[len(vozlisca_SK)+2][0],vozlisca[len(vozlisca_SK)+2][1],'C2','x')"
   ]
  },
  {
   "cell_type": "code",
   "execution_count": null,
   "id": "ec52128f",
   "metadata": {},
   "outputs": [],
   "source": []
  }
 ],
 "metadata": {
  "kernelspec": {
   "display_name": "Python 3 (ipykernel)",
   "language": "python",
   "name": "python3"
  },
  "language_info": {
   "codemirror_mode": {
    "name": "ipython",
    "version": 3
   },
   "file_extension": ".py",
   "mimetype": "text/x-python",
   "name": "python",
   "nbconvert_exporter": "python",
   "pygments_lexer": "ipython3",
   "version": "3.9.13"
  }
 },
 "nbformat": 4,
 "nbformat_minor": 5
}
