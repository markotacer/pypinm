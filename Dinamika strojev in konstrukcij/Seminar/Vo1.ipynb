{
 "cells": [
  {
   "cell_type": "code",
   "execution_count": 1,
   "metadata": {},
   "outputs": [],
   "source": [
    "import sympy as sym\n",
    "import numpy as np\n",
    "import scipy as sp\n",
    "from scipy import linalg,spatial,signal\n",
    "\n",
    "import matplotlib.pyplot as plt\n",
    "from matplotlib.animation import FuncAnimation"
   ]
  },
  {
   "cell_type": "code",
   "execution_count": null,
   "metadata": {},
   "outputs": [],
   "source": [
    "# Podstruktura A - okvir\n",
    "\n",
    "# podatki\n",
    "L1 = 0.8 # m\n",
    "L2 = 1.2 # m\n",
    "h = 0.030 # m\n",
    "\n",
    "ρ_A = 2700 # kg /m3\n",
    "E_A = 70e9 # Pa\n",
    "\n",
    "A_A = h*h # m^2\n",
    "I_A = h*h**3/12 # m^4\n",
    "\n",
    "# osnovna geometrija\n",
    "vozlisca_osn_A = np.array([[0,0],[0,L1],[L2,L1]])\n",
    "elementi_osn_A = np.array([[0,1],[1,2]])\n",
    "\n",
    "# zgostitev mreže\n",
    "approx_elem_size = 0.1 # m\n",
    "vozlisca_A, elementi_A = zgosti_mrezo(vozlisca_osn_A, elementi_osn_A, approx_elem_size)\n",
    "\n",
    "# izris\n",
    "plt.axis('equal')\n",
    "[plt.plot(*vozlisca_A[e].T,'-o',c='C0') for e in elementi_A];\n",
    "[plt.text(*c,n) for n,c in enumerate(vozlisca_A-0.05)];\n",
    "plt.axis('off');\n",
    "\n",
    "# zlaganje\n",
    "n_ps_A = 3*len(vozlisca_A)\n",
    "M_glob_A = np.zeros((n_ps_A,n_ps_A))\n",
    "K_glob_A = np.zeros((n_ps_A,n_ps_A))\n",
    "\n",
    "for element in elementi_A:\n",
    "    Le = sp.spatial.distance.euclidean(vozlisca_A[element[0]], vozlisca_A[element[1]])\n",
    "    αe = np.arctan2(np.diff(vozlisca_A[element,1]) , np.diff(vozlisca_A[element,0]))[0]\n",
    "    ind = (3*element[:,None] + np.array([0, 1, 2])).flatten()\n",
    "    \n",
    "    M_glob_A[ind[:,None],ind] += M_o(A_A, Le, ρ_A, αe)\n",
    "    K_glob_A[ind[:,None],ind] += K_o(A_A, E_A, I_A, Le, αe)"
   ]
  },
  {
   "cell_type": "code",
   "execution_count": null,
   "metadata": {},
   "outputs": [],
   "source": [
    "vozlisca_osn_A = np.array([[0,0],[0,L1],[L2,L1]])\n",
    "elementi_osn_A = np.array([[0,1],[1,2]])"
   ]
  }
 ],
 "metadata": {
  "kernelspec": {
   "display_name": "base",
   "language": "python",
   "name": "python3"
  },
  "language_info": {
   "codemirror_mode": {
    "name": "ipython",
    "version": 3
   },
   "file_extension": ".py",
   "mimetype": "text/x-python",
   "name": "python",
   "nbconvert_exporter": "python",
   "pygments_lexer": "ipython3",
   "version": "3.9.13"
  },
  "orig_nbformat": 4
 },
 "nbformat": 4,
 "nbformat_minor": 2
}
