{
 "cells": [
  {
   "cell_type": "code",
   "execution_count": 3,
   "metadata": {},
   "outputs": [
    {
     "name": "stderr",
     "output_type": "stream",
     "text": [
      "Traceback (most recent call last):\n",
      "  File \"c:\\ProgramData\\Anaconda3\\lib\\site-packages\\matplotlib\\cbook\\__init__.py\", line 287, in process\n",
      "    func(*args, **kwargs)\n",
      "  File \"c:\\ProgramData\\Anaconda3\\lib\\site-packages\\matplotlib\\animation.py\", line 907, in _start\n",
      "    self._init_draw()\n",
      "  File \"c:\\ProgramData\\Anaconda3\\lib\\site-packages\\matplotlib\\animation.py\", line 1696, in _init_draw\n",
      "    self._draw_frame(frame_data)\n",
      "  File \"c:\\ProgramData\\Anaconda3\\lib\\site-packages\\matplotlib\\animation.py\", line 1718, in _draw_frame\n",
      "    self._drawn_artists = self._func(framedata, *self._args)\n",
      "  File \"C:\\Users\\marko\\AppData\\Local\\Temp\\ipykernel_14912\\146182890.py\", line 17, in animate\n",
      "    ax.set_xlim(-0.2*a, 1.8*a)\n",
      "NameError: name 'a' is not defined\n"
     ]
    }
   ],
   "source": [
    "import numpy as np\n",
    "import matplotlib.pyplot as plt\n",
    "import matplotlib.animation as animation\n",
    "%matplotlib qt\n",
    "\n",
    "m = 5\n",
    "s = 2\n",
    "\n",
    "amp = np.linspace(-1, 1, 25)\n",
    "amp = np.block([amp, amp[::-1]])\n",
    "amp = np.tile(amp, 20)\n",
    "\n",
    "fig, ax = plt.subplots()\n",
    "\n",
    "\n",
    "def animate(i):\n",
    "    ax.set_xlim(-0.2*a, 1.8*a)\n",
    "    ax.set_ylim(-0.2*b, 1.2*b)\n",
    "\n",
    "    pomiki_x = eig_vec[0::3, m]\n",
    "    pomiki_y = eig_vec[1::3, m]\n",
    "\n",
    "    def_vozlisca = np.copy(vozlisca)\n",
    "    def_vozlisca[:, 0] += pomiki_x * s * amp[i]\n",
    "    def_vozlisca[:, 1] += pomiki_y * s * amp[i]\n",
    "\n",
    "    return ax.plot(def_vozlisca[:, 0], def_vozlisca[:, 1], '-o', c='C0')\n",
    "\n",
    "\n",
    "ani = animation.FuncAnimation(\n",
    "    fig, animate, interval=5, blit=True, save_count=50)\n",
    "\n",
    "plt.show()\n"
   ]
  },
  {
   "cell_type": "code",
   "execution_count": null,
   "metadata": {},
   "outputs": [],
   "source": []
  }
 ],
 "metadata": {
  "kernelspec": {
   "display_name": "base",
   "language": "python",
   "name": "python3"
  },
  "language_info": {
   "codemirror_mode": {
    "name": "ipython",
    "version": 3
   },
   "file_extension": ".py",
   "mimetype": "text/x-python",
   "name": "python",
   "nbconvert_exporter": "python",
   "pygments_lexer": "ipython3",
   "version": "3.9.13"
  },
  "orig_nbformat": 4
 },
 "nbformat": 4,
 "nbformat_minor": 2
}
