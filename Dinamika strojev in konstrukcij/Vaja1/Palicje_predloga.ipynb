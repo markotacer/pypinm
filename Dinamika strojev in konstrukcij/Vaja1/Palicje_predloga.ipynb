{
 "cells": [
  {
   "cell_type": "code",
   "execution_count": 202,
   "id": "d2d4de54",
   "metadata": {},
   "outputs": [],
   "source": [
    "import sympy as sym\n",
    "import numpy as np\n",
    "import scipy as sp\n",
    "from scipy import linalg, spatial\n",
    "\n",
    "\n",
    "import matplotlib.pyplot as plt"
   ]
  },
  {
   "cell_type": "code",
   "execution_count": 203,
   "id": "4fe781cc",
   "metadata": {},
   "outputs": [],
   "source": [
    "#create array of numbers from 1 to 1000\n",
    "A1 = np.arange(1,1001)"
   ]
  },
  {
   "cell_type": "markdown",
   "id": "7c5b76ba-d9b5-4d99-a0d4-6510dbde83aa",
   "metadata": {},
   "source": [
    "### Analitična izpeljava - 1D"
   ]
  },
  {
   "cell_type": "code",
   "execution_count": 204,
   "id": "0fcf9820-6d62-483d-aa47-8d5fe8d53f31",
   "metadata": {},
   "outputs": [
    {
     "data": {
      "text/latex": [
       "$\\displaystyle \\left[\\begin{matrix}1 & x\\end{matrix}\\right]$"
      ],
      "text/plain": [
       "Matrix([[1, x]])"
      ]
     },
     "execution_count": 204,
     "metadata": {},
     "output_type": "execute_result"
    }
   ],
   "source": [
    "x,L,A,ρ,E,I,α = sym.symbols('x,L,A,ρ,E,I,α')\n",
    "\n",
    "# vektor monomov\n",
    "monomi = sym.lambdify(x, sym.Matrix([[1,x]]), 'sympy')\n",
    "monomi(x)"
   ]
  },
  {
   "cell_type": "code",
   "execution_count": 205,
   "id": "62245962-f1e2-4903-b684-d9293228f0fd",
   "metadata": {},
   "outputs": [
    {
     "data": {
      "text/latex": [
       "$\\displaystyle \\left[\\begin{matrix}1 - \\frac{x}{L} & \\frac{x}{L}\\end{matrix}\\right]$"
      ],
      "text/plain": [
       "Matrix([[1 - x/L, x/L]])"
      ]
     },
     "execution_count": 205,
     "metadata": {},
     "output_type": "execute_result"
    }
   ],
   "source": [
    "# vektor oblikovnih funkcij\n",
    "Ne = monomi(x) @ sym.Matrix([monomi(0),monomi(L)])**-1\n",
    "Ne"
   ]
  },
  {
   "cell_type": "code",
   "execution_count": 206,
   "id": "8079ebb2-c9e5-4da1-b3f6-626fcadc76e7",
   "metadata": {},
   "outputs": [
    {
     "data": {
      "text/latex": [
       "$\\displaystyle \\left[\\begin{matrix}- \\frac{1}{L} & \\frac{1}{L}\\end{matrix}\\right]$"
      ],
      "text/plain": [
       "Matrix([[-1/L, 1/L]])"
      ]
     },
     "execution_count": 206,
     "metadata": {},
     "output_type": "execute_result"
    }
   ],
   "source": [
    "# odvodi oblikovnih funkcij\n",
    "Be = sym.diff(Ne,x,1)\n",
    "Be"
   ]
  },
  {
   "cell_type": "code",
   "execution_count": 207,
   "id": "9f5b1631-7579-4e7d-aede-77f9bfd227a9",
   "metadata": {},
   "outputs": [
    {
     "data": {
      "text/latex": [
       "$\\displaystyle \\left[\\begin{matrix}\\frac{A L ρ}{3} & \\frac{A L ρ}{6}\\\\\\frac{A L ρ}{6} & \\frac{A L ρ}{3}\\end{matrix}\\right]$"
      ],
      "text/plain": [
       "Matrix([\n",
       "[A*L*ρ/3, A*L*ρ/6],\n",
       "[A*L*ρ/6, A*L*ρ/3]])"
      ]
     },
     "execution_count": 207,
     "metadata": {},
     "output_type": "execute_result"
    }
   ],
   "source": [
    "# masna matrika\n",
    "Me = sym.integrate(A*ρ* Ne.T @ Ne,(x,0,L))\n",
    "Me"
   ]
  },
  {
   "cell_type": "code",
   "execution_count": 208,
   "id": "05ff35eb-3205-459f-98ac-ff6b1d01917c",
   "metadata": {},
   "outputs": [
    {
     "data": {
      "text/latex": [
       "$\\displaystyle \\left[\\begin{matrix}\\frac{A E}{L} & - \\frac{A E}{L}\\\\- \\frac{A E}{L} & \\frac{A E}{L}\\end{matrix}\\right]$"
      ],
      "text/plain": [
       "Matrix([\n",
       "[ A*E/L, -A*E/L],\n",
       "[-A*E/L,  A*E/L]])"
      ]
     },
     "execution_count": 208,
     "metadata": {},
     "output_type": "execute_result"
    }
   ],
   "source": [
    "# togostna matrika\n",
    "Ke = sym.integrate(E*A* Be.T @ Be,(x,0,L))\n",
    "Ke"
   ]
  },
  {
   "cell_type": "markdown",
   "id": "95268df9",
   "metadata": {},
   "source": [
    "# Numerična obravnava"
   ]
  },
  {
   "cell_type": "markdown",
   "id": "827bb69e",
   "metadata": {},
   "source": [
    "### Generacija masne in togostne matrike"
   ]
  },
  {
   "cell_type": "code",
   "execution_count": 209,
   "id": "5ff7891d",
   "metadata": {},
   "outputs": [],
   "source": [
    "# podatki\n",
    "A = 100 # mm^2\n",
    "ρ = 7.85e-9 # kg/mm^3\n",
    "E = 2.0e5 # MPa\n",
    "L0 = 1000 # mm"
   ]
  },
  {
   "cell_type": "code",
   "execution_count": 210,
   "id": "9772b648",
   "metadata": {},
   "outputs": [],
   "source": [
    "# masna matrika\n",
    "def M_e(A, L, ρ):\n",
    "\n",
    "    M = ρ*A*L/6*np.array([\n",
    "    [2, 0, 1, 0],\n",
    "    [0, 2, 0, 1],\n",
    "    [1, 0, 2, 0],\n",
    "    [0, 1, 0, 2]])\n",
    "    \n",
    "    return M"
   ]
  },
  {
   "cell_type": "code",
   "execution_count": 211,
   "id": "d398a574",
   "metadata": {},
   "outputs": [],
   "source": [
    "# togostna matrika\n",
    "def K_e(A, E, L, α):\n",
    "\n",
    "    c = np.cos(α)\n",
    "    s = np.sin(α)\n",
    "    \n",
    "    K = A*E/L*np.array([\n",
    "    [ c**2,   s*c, -c**2,  -s*c],\n",
    "    [  s*c,  s**2,  -s*c, -s**2],\n",
    "    [-c**2,  -s*c,  c**2,   s*c],\n",
    "    [ -c*s, -s**2,   s*c,  s**2]])\n",
    "    \n",
    "    return K"
   ]
  },
  {
   "cell_type": "code",
   "execution_count": 233,
   "id": "71ddaf89",
   "metadata": {},
   "outputs": [
    {
     "data": {
      "text/plain": [
       "(-100.0, 1200.0)"
      ]
     },
     "execution_count": 233,
     "metadata": {},
     "output_type": "execute_result"
    },
    {
     "data": {
      "image/png": "[encoded data removed]",
      "text/plain": [
       "<Figure size 640x480 with 1 Axes>"
      ]
     },
     "metadata": {},
     "output_type": "display_data"
    }
   ],
   "source": [
    "# vozlišča in elementi\n",
    "vozlisca = L0*np.array([[0, 0], [1, 0], [1,1], [0, 1]])\n",
    "elementi = np.array([[0, 1], [1, 2], [2, 3], [3, 0], [0, 2]])\n",
    "\n",
    "# [plt.plot(vozlisca[[i,j],0],vozlisca[[i,j],1],'-',c='C0') for i,j in elementi]\n",
    "# plt.plot(vozlisca[:,0],vozlisca[:,1],'o');\n",
    "# plt.axis('equal');\n",
    "\n",
    "for i, j in elementi:\n",
    "    plt.plot(vozlisca[[i, j], 0], vozlisca[[i, j], 1], '-o', c='C0')\n",
    "    plt.annotate(i, (vozlisca[i, 0]+50, vozlisca[i, 1]+50))\n",
    "plt.axis('equal')\n",
    "plt.xlim(-100, 1200)\n",
    "plt.ylim(-100, 1200)\n"
   ]
  },
  {
   "attachments": {},
   "cell_type": "markdown",
   "id": "9ede56e9",
   "metadata": {},
   "source": [
    "### Definicija dolžin"
   ]
  },
  {
   "cell_type": "code",
   "execution_count": 244,
   "id": "75f330bd",
   "metadata": {},
   "outputs": [
    {
     "data": {
      "text/plain": [
       "array([0, 0])"
      ]
     },
     "execution_count": 244,
     "metadata": {},
     "output_type": "execute_result"
    }
   ],
   "source": [
    "vozlisca[elementi[0][0]]"
   ]
  },
  {
   "cell_type": "code",
   "execution_count": 256,
   "id": "14b18178",
   "metadata": {},
   "outputs": [
    {
     "name": "stdout",
     "output_type": "stream",
     "text": [
      "Dolzina 0: 1000.000\n",
      "Dolzina 1: 1000.000\n",
      "Dolzina 2: 1000.000\n",
      "Dolzina 3: 1000.000\n",
      "Dolzina 4: 1414.214\n"
     ]
    }
   ],
   "source": [
    "# def length(v1, v2):\n",
    "#     return np.sqrt((v1[0] - v2[0])**2 + (v1[1] - v2[1])**2)\n",
    "\n",
    "dolzine = np.zeros(len(elementi))\n",
    "for i in np.arange(len(elementi)):\n",
    "    dolzine[i] = sp.spatial.distance.euclidean(vozlisca[elementi[i][0]], vozlisca[elementi[i][1]])\n",
    "\n",
    "for i in np.arange(len(dolzine)):\n",
    "    print(f'Dolzina {i}: {dolzine[i]:.3f}')"
   ]
  },
  {
   "attachments": {},
   "cell_type": "markdown",
   "id": "ce9b579c",
   "metadata": {},
   "source": [
    "### Definicija kotov naklona"
   ]
  },
  {
   "cell_type": "code",
   "execution_count": 257,
   "id": "a30c4d1b",
   "metadata": {},
   "outputs": [
    {
     "name": "stdout",
     "output_type": "stream",
     "text": [
      "[ 0.          1.57079633  3.14159265 -1.57079633  0.78539816]\n",
      "[  0.  90. 180. -90.  45.]\n"
     ]
    }
   ],
   "source": [
    "def kotAlpha(i):\n",
    "    \"\"\"podaj samo indeks elementa, katerega kot iščeš\"\"\"\n",
    "    K1 = elementi[i][0]\n",
    "    K2 = elementi[i][1]\n",
    "    y = np.array([[vozlisca[K1][1], vozlisca[K2][1]]])\n",
    "    x = np.array([[vozlisca[K1][0], vozlisca[K2][0]]])\n",
    "    dy = y[0][1] - y[0][0]\n",
    "    dx = x[0][1] - x[0][0]\n",
    "    k = np.arctan2(dy, dx, out=None)\n",
    "    # print(dy, dx)\n",
    "    return k\n",
    "\n",
    "koti_lok = np.zeros(len(elementi))\n",
    "koti_lok_deg = np.zeros_like(koti_lok)\n",
    "\n",
    "for i in np.arange(len(elementi)):\n",
    "    koti_lok[i] = kotAlpha(i)\n",
    "for i in np.arange(len(elementi)):\n",
    "    koti_lok_deg[i] = 180*koti_lok[i]/np.pi\n",
    "print(koti_lok)\n",
    "print(koti_lok_deg)"
   ]
  },
  {
   "cell_type": "code",
   "execution_count": 263,
   "id": "3cc2bd57",
   "metadata": {},
   "outputs": [
    {
     "name": "stdout",
     "output_type": "stream",
     "text": [
      "Dolžine: \t Kot naklona: \n",
      "1000.000 \t 0.000\n",
      "1000.000 \t 1.571\n",
      "1000.000 \t 3.142\n",
      "1000.000 \t -1.571\n",
      "1414.214 \t 0.785\n"
     ]
    }
   ],
   "source": [
    "print(f'Dolžine: \\t Kot naklona: ')\n",
    "for i in np.arange(len(elementi)):\n",
    "    print(f'{dolzine[i]:.3f} \\t {koti_lok[i]:.3f}')\n",
    "    "
   ]
  },
  {
   "attachments": {},
   "cell_type": "markdown",
   "id": "1c0c5704",
   "metadata": {},
   "source": [
    "## Definicija M in K elementov"
   ]
  },
  {
   "cell_type": "code",
   "execution_count": 216,
   "id": "9a3d8181",
   "metadata": {},
   "outputs": [],
   "source": [
    "# for i in np.arange(len(elementi)):\n",
    "#     M_i = M_e(A, dolzine[i], ρ)\n",
    "#     print(f'M_{i} : \\n {M_i} \\n\\n')\n",
    "    \n",
    "# for i in np.arange(len(elementi)):\n",
    "#     K_i = K_e(A, E, dolzine[i], koti_lok[i])\n",
    "#     print(f'K_{i} : \\n {K_i} \\n\\n')"
   ]
  },
  {
   "cell_type": "code",
   "execution_count": 217,
   "id": "a0d10dd4",
   "metadata": {},
   "outputs": [],
   "source": [
    "def prikaz(A):\n",
    "    for i in A:\n",
    "        print(f'{i}')"
   ]
  },
  {
   "cell_type": "code",
   "execution_count": 218,
   "id": "7d2cb2d5",
   "metadata": {},
   "outputs": [],
   "source": [
    "M_0 = M_e(A, dolzine[0], ρ)\n",
    "M_1 = M_e(A, dolzine[1], ρ)\n",
    "M_2 = M_e(A, dolzine[2], ρ)\n",
    "K_0 = K_e(A, E, dolzine[0], koti_lok[0])\n",
    "K_1 = K_e(A, E, dolzine[1], koti_lok[1])\n",
    "K_2 = K_e(A, E, dolzine[2], koti_lok[2])"
   ]
  },
  {
   "cell_type": "code",
   "execution_count": 219,
   "id": "63cac689",
   "metadata": {},
   "outputs": [],
   "source": [
    "#Indexi\n",
    "def Index(i):\n",
    "    I = np.zeros(4)\n",
    "    I[0] = int(2 * elementi[i][0])\n",
    "    I[1] = int(2 * elementi[i][0] + 1)\n",
    "    I[2] = int(2 * elementi[i][1])\n",
    "    I[3] = int(2 * elementi[i][1] + 1)\n",
    "    # print(I)\n",
    "    return I.astype(int)"
   ]
  },
  {
   "cell_type": "code",
   "execution_count": 220,
   "id": "95c92295",
   "metadata": {},
   "outputs": [
    {
     "name": "stdout",
     "output_type": "stream",
     "text": [
      "[0.00026167 0.         0.00013083 0.        ]\n",
      "[0.         0.00026167 0.         0.00013083]\n",
      "[0.00013083 0.         0.00026167 0.        ]\n",
      "[0.         0.00013083 0.         0.00026167]\n"
     ]
    }
   ],
   "source": [
    "prikaz(M_2)"
   ]
  },
  {
   "cell_type": "code",
   "execution_count": 221,
   "id": "72aa7d2a",
   "metadata": {},
   "outputs": [
    {
     "data": {
      "text/plain": [
       "array([0, 1, 2, 3])"
      ]
     },
     "execution_count": 221,
     "metadata": {},
     "output_type": "execute_result"
    }
   ],
   "source": [
    "I0 = np.array(Index(0))\n",
    "I1 = np.array(Index(1))\n",
    "I2 = np.array(Index(2))\n",
    "\n",
    "I0"
   ]
  },
  {
   "cell_type": "code",
   "execution_count": 222,
   "id": "6cf5cef6",
   "metadata": {},
   "outputs": [
    {
     "data": {
      "text/plain": [
       "array([[10., 11.,  0.,  0.,  8.,  9.],\n",
       "       [14., 15.,  0.,  0., 12., 13.],\n",
       "       [ 0.,  0.,  0.,  0.,  0.,  0.],\n",
       "       [ 0.,  0.,  0.,  0.,  0.,  0.],\n",
       "       [ 2.,  3.,  0.,  0.,  0.,  1.],\n",
       "       [ 6.,  7.,  0.,  0.,  4.,  5.]])"
      ]
     },
     "execution_count": 222,
     "metadata": {},
     "output_type": "execute_result"
    }
   ],
   "source": [
    "A = np.zeros((6,6))\n",
    "A1 = np.arange(16).reshape((4,4))\n",
    "A[I2[:, None], I2] += A1\n",
    "A"
   ]
  },
  {
   "cell_type": "code",
   "execution_count": 223,
   "id": "b388bab7",
   "metadata": {},
   "outputs": [
    {
     "name": "stdout",
     "output_type": "stream",
     "text": [
      "[[0.00052333 0.         0.00013083 0.         0.00013083 0.        ]\n",
      " [0.         0.00052333 0.         0.00013083 0.         0.00013083]\n",
      " [0.00013083 0.         0.00063172 0.         0.00018503 0.        ]\n",
      " [0.         0.00013083 0.         0.00063172 0.         0.00018503]\n",
      " [0.00013083 0.         0.00018503 0.         0.00063172 0.        ]\n",
      " [0.         0.00013083 0.         0.00018503 0.         0.00063172]]\n"
     ]
    }
   ],
   "source": [
    "# sestavljanje globalne masne in togostne matrike\n",
    "M_glob = np.zeros((vozlisca.size,vozlisca.size))\n",
    "K_glob = np.zeros((vozlisca.size,vozlisca.size))\n",
    "\n",
    "# peški polnjenje M_glob\n",
    "M_glob[I0[:, None], I0] += M_0\n",
    "M_glob[I1[:, None], I1] += M_1\n",
    "M_glob[I2[:, None], I2] += M_2\n",
    "    \n",
    "K_glob[I0[:, None], I0] += K_0\n",
    "K_glob[I1[:, None], I1] += K_1\n",
    "K_glob[I2[:, None], I2] += K_2\n",
    "\n",
    "print(M_glob)\n",
    "# print()\n",
    "# print(K_glob)"
   ]
  },
  {
   "attachments": {},
   "cell_type": "markdown",
   "id": "a47ceccb",
   "metadata": {},
   "source": [
    "numpy.delete()"
   ]
  },
  {
   "attachments": {},
   "cell_type": "markdown",
   "id": "9dd8b5b3",
   "metadata": {},
   "source": [
    "## Robni pogoji"
   ]
  },
  {
   "cell_type": "code",
   "execution_count": 224,
   "id": "384543c2",
   "metadata": {},
   "outputs": [
    {
     "data": {
      "text/plain": [
       "array([[0.00063172, 0.00018503, 0.        ],\n",
       "       [0.00018503, 0.00063172, 0.        ],\n",
       "       [0.        , 0.        , 0.00063172]])"
      ]
     },
     "execution_count": 224,
     "metadata": {},
     "output_type": "execute_result"
    }
   ],
   "source": [
    "ind_ps = np.arange(6)\n",
    "ind_vpetih = np.array([0, 1, 3])\n",
    "\n",
    "M_glob_ = np.delete(M_glob, ind_vpetih, axis=0)\n",
    "M_glob_ = np.delete(M_glob_, ind_vpetih, axis=1)\n",
    "M_glob_\n"
   ]
  },
  {
   "cell_type": "code",
   "execution_count": 225,
   "id": "71e7b62d",
   "metadata": {},
   "outputs": [
    {
     "data": {
      "text/plain": [
       "(array([[0.00063172, 0.00018503, 0.        ],\n",
       "        [0.00018503, 0.00063172, 0.        ],\n",
       "        [0.        , 0.        , 0.00063172]]),\n",
       " array([[27071.06781187, -7071.06781187,  7071.06781187],\n",
       "        [-7071.06781187,  7071.06781187, -7071.06781187],\n",
       "        [ 7071.06781187, -7071.06781187, 27071.06781187]]))"
      ]
     },
     "execution_count": 225,
     "metadata": {},
     "output_type": "execute_result"
    }
   ],
   "source": [
    "ind_prosti_ps = np.setdiff1d(ind_ps, ind_vpetih)\n",
    "\n",
    "M_glob_rp = M_glob[ind_prosti_ps[:,None], ind_prosti_ps]\n",
    "K_glob_rp = K_glob[ind_prosti_ps[:,None], ind_prosti_ps]\n",
    "\n",
    "M_glob_rp, K_glob_rp"
   ]
  },
  {
   "cell_type": "code",
   "execution_count": 226,
   "id": "b1430c11",
   "metadata": {},
   "outputs": [],
   "source": [
    "# a) vpnemo vozlisce 0 v x in y smeri\n",
    "# b) vpemo vozlisce 1 v y smeri\n",
    "\n",
    "# Opcija 1 - brisanje vrstic in stolpcev\n",
    "ind_ps = np.arange(vozlisca.size)\n",
    "ind_vpetih_ps = np.array([0,1,3])\n",
    "ind_prostih_ps = np.setdiff1d(ind_ps, ind_vpetih_ps)\n",
    "\n",
    "M_glob_rp = M_glob[ind_prostih_ps[:,None],ind_prostih_ps]\n",
    "K_glob_rp = K_glob[ind_prostih_ps[:,None],ind_prostih_ps]\n",
    "\n",
    "\n",
    "# Opcija 2 - C in L\n",
    "C = np.array([\n",
    "    #0   1   2   3   4   5\n",
    "    [1,  0,  0,  0,  0,  0],  #U0 = 0\n",
    "    [0,  1,  0,  0,  0,  0],  #V0 = 0\n",
    "    [0,  0,  0,  1,  0,  0]   #V1 = 0\n",
    "])\n",
    "\n",
    "L = np.block(sym.Matrix(C).nullspace()).astype(int)\n",
    "\n",
    "M_glob_c = L.T @ M_glob @ L\n",
    "K_glob_c = L.T @ K_glob @ L"
   ]
  },
  {
   "cell_type": "markdown",
   "id": "37ba3b4c",
   "metadata": {},
   "source": [
    "### Reševanje problema lastnih vrednosti"
   ]
  },
  {
   "cell_type": "code",
   "execution_count": 227,
   "id": "681b970f",
   "metadata": {},
   "outputs": [
    {
     "data": {
      "text/plain": [
       "array([ 916.3715676 +0.j, 2280.22209832+0.j, 3366.23148134+0.j])"
      ]
     },
     "execution_count": 227,
     "metadata": {},
     "output_type": "execute_result"
    }
   ],
   "source": [
    "# lastne vrednosti in lastni vektorji\n",
    "eig_val, eig_vec = sp.linalg.eig(K_glob_c, M_glob_c)\n",
    "\n",
    "ind_sort = np.argsort(eig_val)\n",
    "last_f = np.sort(eig_val)\n",
    "last_f = np.sqrt(last_f/(2 * np.pi))\n",
    "last_v = np.zeros_like(eig_vec)\n",
    "for i in np.arange(len(eig_vec)):\n",
    "    last_v[:][i] = eig_vec[:, ind_sort[i]]\n",
    "    \n",
    "last_f\n"
   ]
  },
  {
   "cell_type": "code",
   "execution_count": 228,
   "id": "5812dd98",
   "metadata": {},
   "outputs": [
    {
     "data": {
      "text/plain": [
       "array([-0.25926849, -0.58206837, -0.73360891])"
      ]
     },
     "execution_count": 228,
     "metadata": {},
     "output_type": "execute_result"
    }
   ],
   "source": [
    "last_v[:, 0]"
   ]
  },
  {
   "cell_type": "code",
   "execution_count": 229,
   "id": "2ebddc58",
   "metadata": {},
   "outputs": [
    {
     "name": "stdout",
     "output_type": "stream",
     "text": [
      "[1 5 2 3 6 4]\n",
      "[0 2 3 5 1 4]\n",
      "[1 2 3 4 5 6]\n",
      "\n",
      "[ 1 25  4  9 36 16]\n",
      "[ 1  4  9 16 25 36]\n"
     ]
    }
   ],
   "source": [
    "a = np.array([1,5,2,3,6,4])\n",
    "b = np.argsort(a, axis=0)\n",
    "c = np.zeros_like(a)\n",
    "for i in np.arange(len(a)):\n",
    "    c[i] = a[b[i]]\n",
    "aa = a**2\n",
    "cc = np.zeros_like(aa)\n",
    "for i in np.arange(len(aa)):\n",
    "    cc[i] = aa[b[i]]\n",
    "\n",
    "\n",
    "print(a)\n",
    "print(b)\n",
    "print(c)\n",
    "print()\n",
    "print(aa)\n",
    "print(cc)"
   ]
  },
  {
   "cell_type": "code",
   "execution_count": null,
   "id": "627b396b",
   "metadata": {},
   "outputs": [],
   "source": []
  },
  {
   "cell_type": "code",
   "execution_count": 230,
   "id": "74e21fb8",
   "metadata": {},
   "outputs": [
    {
     "ename": "NameError",
     "evalue": "name 'modeshape' is not defined",
     "output_type": "error",
     "traceback": [
      "\u001b[1;31m---------------------------------------------------------------------------\u001b[0m",
      "\u001b[1;31mNameError\u001b[0m                                 Traceback (most recent call last)",
      "\u001b[1;32m~\\AppData\\Local\\Temp\\ipykernel_16872\\65831783.py\u001b[0m in \u001b[0;36m<module>\u001b[1;34m\u001b[0m\n\u001b[0;32m      7\u001b[0m \u001b[1;33m\u001b[0m\u001b[0m\n\u001b[0;32m      8\u001b[0m \u001b[1;31m# deformirano stanje\u001b[0m\u001b[1;33m\u001b[0m\u001b[1;33m\u001b[0m\u001b[0m\n\u001b[1;32m----> 9\u001b[1;33m \u001b[1;33m[\u001b[0m\u001b[0mplt\u001b[0m\u001b[1;33m.\u001b[0m\u001b[0mplot\u001b[0m\u001b[1;33m(\u001b[0m\u001b[0mmodeshape\u001b[0m\u001b[1;33m[\u001b[0m\u001b[1;33m[\u001b[0m\u001b[0mi\u001b[0m\u001b[1;33m,\u001b[0m\u001b[0mj\u001b[0m\u001b[1;33m]\u001b[0m\u001b[1;33m,\u001b[0m\u001b[1;36m0\u001b[0m\u001b[1;33m]\u001b[0m\u001b[1;33m,\u001b[0m\u001b[0mmodeshape\u001b[0m\u001b[1;33m[\u001b[0m\u001b[1;33m[\u001b[0m\u001b[0mi\u001b[0m\u001b[1;33m,\u001b[0m\u001b[0mj\u001b[0m\u001b[1;33m]\u001b[0m\u001b[1;33m,\u001b[0m\u001b[1;36m1\u001b[0m\u001b[1;33m]\u001b[0m\u001b[1;33m,\u001b[0m\u001b[1;34m'-'\u001b[0m\u001b[1;33m,\u001b[0m \u001b[0mc\u001b[0m\u001b[1;33m=\u001b[0m\u001b[1;34m'C1'\u001b[0m\u001b[1;33m)\u001b[0m \u001b[1;32mfor\u001b[0m \u001b[0mi\u001b[0m\u001b[1;33m,\u001b[0m\u001b[0mj\u001b[0m \u001b[1;32min\u001b[0m \u001b[0melementi\u001b[0m\u001b[1;33m]\u001b[0m\u001b[1;33m\u001b[0m\u001b[1;33m\u001b[0m\u001b[0m\n\u001b[0m\u001b[0;32m     10\u001b[0m \u001b[0mplt\u001b[0m\u001b[1;33m.\u001b[0m\u001b[0mplot\u001b[0m\u001b[1;33m(\u001b[0m\u001b[0mmodeshape\u001b[0m\u001b[1;33m[\u001b[0m\u001b[1;33m:\u001b[0m\u001b[1;33m,\u001b[0m\u001b[1;36m0\u001b[0m\u001b[1;33m]\u001b[0m\u001b[1;33m,\u001b[0m\u001b[0mmodeshape\u001b[0m\u001b[1;33m[\u001b[0m\u001b[1;33m:\u001b[0m\u001b[1;33m,\u001b[0m\u001b[1;36m1\u001b[0m\u001b[1;33m]\u001b[0m\u001b[1;33m,\u001b[0m\u001b[1;34m'o'\u001b[0m\u001b[1;33m,\u001b[0m \u001b[0mc\u001b[0m\u001b[1;33m=\u001b[0m\u001b[1;34m'C1'\u001b[0m\u001b[1;33m)\u001b[0m\u001b[1;33m;\u001b[0m\u001b[1;33m\u001b[0m\u001b[1;33m\u001b[0m\u001b[0m\n\u001b[0;32m     11\u001b[0m \u001b[0mplt\u001b[0m\u001b[1;33m.\u001b[0m\u001b[0maxis\u001b[0m\u001b[1;33m(\u001b[0m\u001b[1;34m'equal'\u001b[0m\u001b[1;33m)\u001b[0m\u001b[1;33m;\u001b[0m\u001b[1;33m\u001b[0m\u001b[1;33m\u001b[0m\u001b[0m\n",
      "\u001b[1;32m~\\AppData\\Local\\Temp\\ipykernel_16872\\65831783.py\u001b[0m in \u001b[0;36m<listcomp>\u001b[1;34m(.0)\u001b[0m\n\u001b[0;32m      7\u001b[0m \u001b[1;33m\u001b[0m\u001b[0m\n\u001b[0;32m      8\u001b[0m \u001b[1;31m# deformirano stanje\u001b[0m\u001b[1;33m\u001b[0m\u001b[1;33m\u001b[0m\u001b[0m\n\u001b[1;32m----> 9\u001b[1;33m \u001b[1;33m[\u001b[0m\u001b[0mplt\u001b[0m\u001b[1;33m.\u001b[0m\u001b[0mplot\u001b[0m\u001b[1;33m(\u001b[0m\u001b[0mmodeshape\u001b[0m\u001b[1;33m[\u001b[0m\u001b[1;33m[\u001b[0m\u001b[0mi\u001b[0m\u001b[1;33m,\u001b[0m\u001b[0mj\u001b[0m\u001b[1;33m]\u001b[0m\u001b[1;33m,\u001b[0m\u001b[1;36m0\u001b[0m\u001b[1;33m]\u001b[0m\u001b[1;33m,\u001b[0m\u001b[0mmodeshape\u001b[0m\u001b[1;33m[\u001b[0m\u001b[1;33m[\u001b[0m\u001b[0mi\u001b[0m\u001b[1;33m,\u001b[0m\u001b[0mj\u001b[0m\u001b[1;33m]\u001b[0m\u001b[1;33m,\u001b[0m\u001b[1;36m1\u001b[0m\u001b[1;33m]\u001b[0m\u001b[1;33m,\u001b[0m\u001b[1;34m'-'\u001b[0m\u001b[1;33m,\u001b[0m \u001b[0mc\u001b[0m\u001b[1;33m=\u001b[0m\u001b[1;34m'C1'\u001b[0m\u001b[1;33m)\u001b[0m \u001b[1;32mfor\u001b[0m \u001b[0mi\u001b[0m\u001b[1;33m,\u001b[0m\u001b[0mj\u001b[0m \u001b[1;32min\u001b[0m \u001b[0melementi\u001b[0m\u001b[1;33m]\u001b[0m\u001b[1;33m\u001b[0m\u001b[1;33m\u001b[0m\u001b[0m\n\u001b[0m\u001b[0;32m     10\u001b[0m \u001b[0mplt\u001b[0m\u001b[1;33m.\u001b[0m\u001b[0mplot\u001b[0m\u001b[1;33m(\u001b[0m\u001b[0mmodeshape\u001b[0m\u001b[1;33m[\u001b[0m\u001b[1;33m:\u001b[0m\u001b[1;33m,\u001b[0m\u001b[1;36m0\u001b[0m\u001b[1;33m]\u001b[0m\u001b[1;33m,\u001b[0m\u001b[0mmodeshape\u001b[0m\u001b[1;33m[\u001b[0m\u001b[1;33m:\u001b[0m\u001b[1;33m,\u001b[0m\u001b[1;36m1\u001b[0m\u001b[1;33m]\u001b[0m\u001b[1;33m,\u001b[0m\u001b[1;34m'o'\u001b[0m\u001b[1;33m,\u001b[0m \u001b[0mc\u001b[0m\u001b[1;33m=\u001b[0m\u001b[1;34m'C1'\u001b[0m\u001b[1;33m)\u001b[0m\u001b[1;33m;\u001b[0m\u001b[1;33m\u001b[0m\u001b[1;33m\u001b[0m\u001b[0m\n\u001b[0;32m     11\u001b[0m \u001b[0mplt\u001b[0m\u001b[1;33m.\u001b[0m\u001b[0maxis\u001b[0m\u001b[1;33m(\u001b[0m\u001b[1;34m'equal'\u001b[0m\u001b[1;33m)\u001b[0m\u001b[1;33m;\u001b[0m\u001b[1;33m\u001b[0m\u001b[1;33m\u001b[0m\u001b[0m\n",
      "\u001b[1;31mNameError\u001b[0m: name 'modeshape' is not defined"
     ]
    },
    {
     "data": {
      "image/png": "[encoded data removed]",
      "text/plain": [
       "<Figure size 640x480 with 1 Axes>"
      ]
     },
     "metadata": {},
     "output_type": "display_data"
    }
   ],
   "source": [
    "# izris lastnih oblik\n",
    "\n",
    "# nedeformirano stanje\n",
    "[plt.plot(vozlisca[[i,j],0],vozlisca[[i,j],1],'-', c='C0') for i,j in elementi]\n",
    "plt.plot(vozlisca[:,0],vozlisca[:,1],'o', c='C0');\n",
    "plt.axis('equal');\n",
    "\n",
    "# deformirano stanje\n",
    "[plt.plot(modeshape[[i,j],0],modeshape[[i,j],1],'-', c='C1') for i,j in elementi]\n",
    "plt.plot(modeshape[:,0],modeshape[:,1],'o', c='C1');\n",
    "plt.axis('equal');"
   ]
  },
  {
   "cell_type": "markdown",
   "id": "a31366b2",
   "metadata": {},
   "source": [
    "### Sprememba robnih pogojev"
   ]
  },
  {
   "cell_type": "markdown",
   "id": "a47613ae",
   "metadata": {},
   "source": []
  },
  {
   "cell_type": "markdown",
   "id": "5f605af1",
   "metadata": {},
   "source": []
  }
 ],
 "metadata": {
  "kernelspec": {
   "display_name": "Python 3",
   "language": "python",
   "name": "python3"
  },
  "language_info": {
   "codemirror_mode": {
    "name": "ipython",
    "version": 3
   },
   "file_extension": ".py",
   "mimetype": "text/x-python",
   "name": "python",
   "nbconvert_exporter": "python",
   "pygments_lexer": "ipython3",
   "version": "3.9.13"
  }
 },
 "nbformat": 4,
 "nbformat_minor": 5
}
