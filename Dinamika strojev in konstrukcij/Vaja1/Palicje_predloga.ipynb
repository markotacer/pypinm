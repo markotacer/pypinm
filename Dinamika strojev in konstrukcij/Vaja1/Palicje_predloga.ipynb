{
 "cells": [
  {
   "cell_type": "code",
   "execution_count": 2,
   "id": "d2d4de54",
   "metadata": {},
   "outputs": [],
   "source": [
    "import sympy as sym\n",
    "import numpy as np\n",
    "import scipy as sp\n",
    "from scipy import linalg, spatial\n",
    "\n",
    "\n",
    "import matplotlib.pyplot as plt"
   ]
  },
  {
   "cell_type": "code",
   "execution_count": 3,
   "id": "4fe781cc",
   "metadata": {},
   "outputs": [],
   "source": [
    "#create array of numbers from 1 to 1000\n",
    "A1 = np.arange(1,1001)"
   ]
  },
  {
   "cell_type": "markdown",
   "id": "7c5b76ba-d9b5-4d99-a0d4-6510dbde83aa",
   "metadata": {},
   "source": [
    "### Analitična izpeljava - 1D"
   ]
  },
  {
   "cell_type": "code",
   "execution_count": 4,
   "id": "0fcf9820-6d62-483d-aa47-8d5fe8d53f31",
   "metadata": {},
   "outputs": [
    {
     "data": {
      "text/latex": [
       "$\\displaystyle \\left[\\begin{matrix}1 & x\\end{matrix}\\right]$"
      ],
      "text/plain": [
       "Matrix([[1, x]])"
      ]
     },
     "execution_count": 4,
     "metadata": {},
     "output_type": "execute_result"
    }
   ],
   "source": [
    "x,L,A,ρ,E,I,α = sym.symbols('x,L,A,ρ,E,I,α')\n",
    "\n",
    "# vektor monomov\n",
    "monomi = sym.lambdify(x, sym.Matrix([[1,x]]), 'sympy')\n",
    "monomi(x)"
   ]
  },
  {
   "cell_type": "code",
   "execution_count": 5,
   "id": "62245962-f1e2-4903-b684-d9293228f0fd",
   "metadata": {},
   "outputs": [
    {
     "data": {
      "text/latex": [
       "$\\displaystyle \\left[\\begin{matrix}1 - \\frac{x}{L} & \\frac{x}{L}\\end{matrix}\\right]$"
      ],
      "text/plain": [
       "Matrix([[1 - x/L, x/L]])"
      ]
     },
     "execution_count": 5,
     "metadata": {},
     "output_type": "execute_result"
    }
   ],
   "source": [
    "# vektor oblikovnih funkcij\n",
    "Ne = monomi(x) @ sym.Matrix([monomi(0),monomi(L)])**-1\n",
    "Ne"
   ]
  },
  {
   "cell_type": "code",
   "execution_count": 6,
   "id": "8079ebb2-c9e5-4da1-b3f6-626fcadc76e7",
   "metadata": {},
   "outputs": [
    {
     "data": {
      "text/latex": [
       "$\\displaystyle \\left[\\begin{matrix}- \\frac{1}{L} & \\frac{1}{L}\\end{matrix}\\right]$"
      ],
      "text/plain": [
       "Matrix([[-1/L, 1/L]])"
      ]
     },
     "execution_count": 6,
     "metadata": {},
     "output_type": "execute_result"
    }
   ],
   "source": [
    "# odvodi oblikovnih funkcij\n",
    "Be = sym.diff(Ne,x,1)\n",
    "Be"
   ]
  },
  {
   "cell_type": "code",
   "execution_count": 7,
   "id": "9f5b1631-7579-4e7d-aede-77f9bfd227a9",
   "metadata": {},
   "outputs": [
    {
     "data": {
      "text/latex": [
       "$\\displaystyle \\left[\\begin{matrix}\\frac{A L ρ}{3} & \\frac{A L ρ}{6}\\\\\\frac{A L ρ}{6} & \\frac{A L ρ}{3}\\end{matrix}\\right]$"
      ],
      "text/plain": [
       "Matrix([\n",
       "[A*L*ρ/3, A*L*ρ/6],\n",
       "[A*L*ρ/6, A*L*ρ/3]])"
      ]
     },
     "execution_count": 7,
     "metadata": {},
     "output_type": "execute_result"
    }
   ],
   "source": [
    "# masna matrika\n",
    "Me = sym.integrate(A*ρ* Ne.T @ Ne,(x,0,L))\n",
    "Me"
   ]
  },
  {
   "cell_type": "code",
   "execution_count": 8,
   "id": "05ff35eb-3205-459f-98ac-ff6b1d01917c",
   "metadata": {},
   "outputs": [
    {
     "data": {
      "text/latex": [
       "$\\displaystyle \\left[\\begin{matrix}\\frac{A E}{L} & - \\frac{A E}{L}\\\\- \\frac{A E}{L} & \\frac{A E}{L}\\end{matrix}\\right]$"
      ],
      "text/plain": [
       "Matrix([\n",
       "[ A*E/L, -A*E/L],\n",
       "[-A*E/L,  A*E/L]])"
      ]
     },
     "execution_count": 8,
     "metadata": {},
     "output_type": "execute_result"
    }
   ],
   "source": [
    "# togostna matrika\n",
    "Ke = sym.integrate(E*A* Be.T @ Be,(x,0,L))\n",
    "Ke"
   ]
  },
  {
   "cell_type": "markdown",
   "id": "95268df9",
   "metadata": {},
   "source": [
    "# Numerična obravnava"
   ]
  },
  {
   "cell_type": "markdown",
   "id": "827bb69e",
   "metadata": {},
   "source": [
    "### Generacija masne in togostne matrike"
   ]
  },
  {
   "cell_type": "code",
   "execution_count": 9,
   "id": "5ff7891d",
   "metadata": {},
   "outputs": [],
   "source": [
    "# podatki\n",
    "A = 100 # mm^2\n",
    "ρ = 7.85e-9 # kg/mm^3\n",
    "E = 2.0e5 # MPa\n",
    "L0 = 1000 # mm"
   ]
  },
  {
   "cell_type": "code",
   "execution_count": 10,
   "id": "9772b648",
   "metadata": {},
   "outputs": [],
   "source": [
    "# masna matrika\n",
    "def M_e(A, L, ρ):\n",
    "\n",
    "    M = ρ*A*L/6*np.array([\n",
    "    [2, 0, 1, 0],\n",
    "    [0, 2, 0, 1],\n",
    "    [1, 0, 2, 0],\n",
    "    [0, 1, 0, 2]])\n",
    "    \n",
    "    return M"
   ]
  },
  {
   "cell_type": "code",
   "execution_count": 11,
   "id": "d398a574",
   "metadata": {},
   "outputs": [],
   "source": [
    "# togostna matrika\n",
    "def K_e(A, E, L, α):\n",
    "\n",
    "    c = np.cos(α)\n",
    "    s = np.sin(α)\n",
    "    \n",
    "    K = A*E/L*np.array([\n",
    "    [ c**2,   s*c, -c**2,  -s*c],\n",
    "    [  s*c,  s**2,  -s*c, -s**2],\n",
    "    [-c**2,  -s*c,  c**2,   s*c],\n",
    "    [ -c*s, -s**2,   s*c,  s**2]])\n",
    "    \n",
    "    return K"
   ]
  },
  {
   "cell_type": "code",
   "execution_count": 12,
   "id": "71ddaf89",
   "metadata": {},
   "outputs": [
    {
     "data": {
      "text/plain": [
       "(-50.0, 1050.0, -50.0, 1050.0)"
      ]
     },
     "execution_count": 12,
     "metadata": {},
     "output_type": "execute_result"
    },
    {
     "data": {
      "image/png": "[encoded data removed]",
      "text/plain": [
       "<Figure size 640x480 with 1 Axes>"
      ]
     },
     "metadata": {},
     "output_type": "display_data"
    }
   ],
   "source": [
    "# vozlišča in elementi\n",
    "vozlisca = L0*np.array([[0, 0], [1, 0], [0, 1]])\n",
    "elementi = np.array([[0, 1], [1, 2], [2, 0]])\n",
    "\n",
    "# [plt.plot(vozlisca[[i,j],0],vozlisca[[i,j],1],'-',c='C0') for i,j in elementi]\n",
    "# plt.plot(vozlisca[:,0],vozlisca[:,1],'o');\n",
    "# plt.axis('equal');\n",
    "\n",
    "[plt.plot(vozlisca[[i, j], 0], vozlisca[[i, j], 1], '-o', c='C0')\n",
    " for i, j in elementi]\n",
    "plt.axis('equal')\n"
   ]
  },
  {
   "cell_type": "code",
   "execution_count": 13,
   "id": "14b18178",
   "metadata": {},
   "outputs": [],
   "source": [
    "def length(v1, v2):\n",
    "    return np.sqrt((v1[0] - v2[0])**2 + (v1[1] - v2[1])**2)"
   ]
  },
  {
   "cell_type": "code",
   "execution_count": 14,
   "id": "3cc2bd57",
   "metadata": {},
   "outputs": [
    {
     "ename": "TypeError",
     "evalue": "'int' object is not callable",
     "output_type": "error",
     "traceback": [
      "\u001b[1;31m---------------------------------------------------------------------------\u001b[0m",
      "\u001b[1;31mTypeError\u001b[0m                                 Traceback (most recent call last)",
      "\u001b[1;32m~\\AppData\\Local\\Temp\\ipykernel_9324\\4201432269.py\u001b[0m in \u001b[0;36m<module>\u001b[1;34m\u001b[0m\n\u001b[1;32m----> 1\u001b[1;33m \u001b[0melementi\u001b[0m\u001b[1;33m.\u001b[0m\u001b[0msize\u001b[0m\u001b[1;33m(\u001b[0m\u001b[1;33m)\u001b[0m\u001b[1;33m\u001b[0m\u001b[1;33m\u001b[0m\u001b[0m\n\u001b[0m",
      "\u001b[1;31mTypeError\u001b[0m: 'int' object is not callable"
     ]
    }
   ],
   "source": [
    "#size of elementi\n"
   ]
  },
  {
   "cell_type": "code",
   "execution_count": 13,
   "id": "b388bab7",
   "metadata": {},
   "outputs": [],
   "source": [
    "# sestavljanje globalne masne in togostne matrike\n",
    "M_glob = np.zeros((vozlisca.size,vozlisca.size))\n",
    "K_glob = np.zeros((vozlisca.size,vozlisca.size))\n",
    "\n",
    "\n",
    "# dopolniti"
   ]
  },
  {
   "cell_type": "markdown",
   "id": "37ba3b4c",
   "metadata": {},
   "source": [
    "### Reševanje problema lastnih vrednosti"
   ]
  },
  {
   "cell_type": "code",
   "execution_count": 14,
   "id": "681b970f",
   "metadata": {},
   "outputs": [],
   "source": [
    "# lastne vrednosti in lastni vektorji\n",
    "eig_val, eig_vec = sp.linalg.eig(K_glob, M_glob)\n",
    "\n",
    "# urejanje po velikosti - dopolniti"
   ]
  },
  {
   "cell_type": "code",
   "execution_count": 15,
   "id": "74e21fb8",
   "metadata": {},
   "outputs": [
    {
     "ename": "NameError",
     "evalue": "name 'modeshape' is not defined",
     "output_type": "error",
     "traceback": [
      "\u001b[1;31m---------------------------------------------------------------------------\u001b[0m",
      "\u001b[1;31mNameError\u001b[0m                                 Traceback (most recent call last)",
      "\u001b[1;32m~\\AppData\\Local\\Temp\\ipykernel_24536\\65831783.py\u001b[0m in \u001b[0;36m<module>\u001b[1;34m\u001b[0m\n\u001b[0;32m      7\u001b[0m \u001b[1;33m\u001b[0m\u001b[0m\n\u001b[0;32m      8\u001b[0m \u001b[1;31m# deformirano stanje\u001b[0m\u001b[1;33m\u001b[0m\u001b[1;33m\u001b[0m\u001b[0m\n\u001b[1;32m----> 9\u001b[1;33m \u001b[1;33m[\u001b[0m\u001b[0mplt\u001b[0m\u001b[1;33m.\u001b[0m\u001b[0mplot\u001b[0m\u001b[1;33m(\u001b[0m\u001b[0mmodeshape\u001b[0m\u001b[1;33m[\u001b[0m\u001b[1;33m[\u001b[0m\u001b[0mi\u001b[0m\u001b[1;33m,\u001b[0m\u001b[0mj\u001b[0m\u001b[1;33m]\u001b[0m\u001b[1;33m,\u001b[0m\u001b[1;36m0\u001b[0m\u001b[1;33m]\u001b[0m\u001b[1;33m,\u001b[0m\u001b[0mmodeshape\u001b[0m\u001b[1;33m[\u001b[0m\u001b[1;33m[\u001b[0m\u001b[0mi\u001b[0m\u001b[1;33m,\u001b[0m\u001b[0mj\u001b[0m\u001b[1;33m]\u001b[0m\u001b[1;33m,\u001b[0m\u001b[1;36m1\u001b[0m\u001b[1;33m]\u001b[0m\u001b[1;33m,\u001b[0m\u001b[1;34m'-'\u001b[0m\u001b[1;33m,\u001b[0m \u001b[0mc\u001b[0m\u001b[1;33m=\u001b[0m\u001b[1;34m'C1'\u001b[0m\u001b[1;33m)\u001b[0m \u001b[1;32mfor\u001b[0m \u001b[0mi\u001b[0m\u001b[1;33m,\u001b[0m\u001b[0mj\u001b[0m \u001b[1;32min\u001b[0m \u001b[0melementi\u001b[0m\u001b[1;33m]\u001b[0m\u001b[1;33m\u001b[0m\u001b[1;33m\u001b[0m\u001b[0m\n\u001b[0m\u001b[0;32m     10\u001b[0m \u001b[0mplt\u001b[0m\u001b[1;33m.\u001b[0m\u001b[0mplot\u001b[0m\u001b[1;33m(\u001b[0m\u001b[0mmodeshape\u001b[0m\u001b[1;33m[\u001b[0m\u001b[1;33m:\u001b[0m\u001b[1;33m,\u001b[0m\u001b[1;36m0\u001b[0m\u001b[1;33m]\u001b[0m\u001b[1;33m,\u001b[0m\u001b[0mmodeshape\u001b[0m\u001b[1;33m[\u001b[0m\u001b[1;33m:\u001b[0m\u001b[1;33m,\u001b[0m\u001b[1;36m1\u001b[0m\u001b[1;33m]\u001b[0m\u001b[1;33m,\u001b[0m\u001b[1;34m'o'\u001b[0m\u001b[1;33m,\u001b[0m \u001b[0mc\u001b[0m\u001b[1;33m=\u001b[0m\u001b[1;34m'C1'\u001b[0m\u001b[1;33m)\u001b[0m\u001b[1;33m;\u001b[0m\u001b[1;33m\u001b[0m\u001b[1;33m\u001b[0m\u001b[0m\n\u001b[0;32m     11\u001b[0m \u001b[0mplt\u001b[0m\u001b[1;33m.\u001b[0m\u001b[0maxis\u001b[0m\u001b[1;33m(\u001b[0m\u001b[1;34m'equal'\u001b[0m\u001b[1;33m)\u001b[0m\u001b[1;33m;\u001b[0m\u001b[1;33m\u001b[0m\u001b[1;33m\u001b[0m\u001b[0m\n",
      "\u001b[1;32m~\\AppData\\Local\\Temp\\ipykernel_24536\\65831783.py\u001b[0m in \u001b[0;36m<listcomp>\u001b[1;34m(.0)\u001b[0m\n\u001b[0;32m      7\u001b[0m \u001b[1;33m\u001b[0m\u001b[0m\n\u001b[0;32m      8\u001b[0m \u001b[1;31m# deformirano stanje\u001b[0m\u001b[1;33m\u001b[0m\u001b[1;33m\u001b[0m\u001b[0m\n\u001b[1;32m----> 9\u001b[1;33m \u001b[1;33m[\u001b[0m\u001b[0mplt\u001b[0m\u001b[1;33m.\u001b[0m\u001b[0mplot\u001b[0m\u001b[1;33m(\u001b[0m\u001b[0mmodeshape\u001b[0m\u001b[1;33m[\u001b[0m\u001b[1;33m[\u001b[0m\u001b[0mi\u001b[0m\u001b[1;33m,\u001b[0m\u001b[0mj\u001b[0m\u001b[1;33m]\u001b[0m\u001b[1;33m,\u001b[0m\u001b[1;36m0\u001b[0m\u001b[1;33m]\u001b[0m\u001b[1;33m,\u001b[0m\u001b[0mmodeshape\u001b[0m\u001b[1;33m[\u001b[0m\u001b[1;33m[\u001b[0m\u001b[0mi\u001b[0m\u001b[1;33m,\u001b[0m\u001b[0mj\u001b[0m\u001b[1;33m]\u001b[0m\u001b[1;33m,\u001b[0m\u001b[1;36m1\u001b[0m\u001b[1;33m]\u001b[0m\u001b[1;33m,\u001b[0m\u001b[1;34m'-'\u001b[0m\u001b[1;33m,\u001b[0m \u001b[0mc\u001b[0m\u001b[1;33m=\u001b[0m\u001b[1;34m'C1'\u001b[0m\u001b[1;33m)\u001b[0m \u001b[1;32mfor\u001b[0m \u001b[0mi\u001b[0m\u001b[1;33m,\u001b[0m\u001b[0mj\u001b[0m \u001b[1;32min\u001b[0m \u001b[0melementi\u001b[0m\u001b[1;33m]\u001b[0m\u001b[1;33m\u001b[0m\u001b[1;33m\u001b[0m\u001b[0m\n\u001b[0m\u001b[0;32m     10\u001b[0m \u001b[0mplt\u001b[0m\u001b[1;33m.\u001b[0m\u001b[0mplot\u001b[0m\u001b[1;33m(\u001b[0m\u001b[0mmodeshape\u001b[0m\u001b[1;33m[\u001b[0m\u001b[1;33m:\u001b[0m\u001b[1;33m,\u001b[0m\u001b[1;36m0\u001b[0m\u001b[1;33m]\u001b[0m\u001b[1;33m,\u001b[0m\u001b[0mmodeshape\u001b[0m\u001b[1;33m[\u001b[0m\u001b[1;33m:\u001b[0m\u001b[1;33m,\u001b[0m\u001b[1;36m1\u001b[0m\u001b[1;33m]\u001b[0m\u001b[1;33m,\u001b[0m\u001b[1;34m'o'\u001b[0m\u001b[1;33m,\u001b[0m \u001b[0mc\u001b[0m\u001b[1;33m=\u001b[0m\u001b[1;34m'C1'\u001b[0m\u001b[1;33m)\u001b[0m\u001b[1;33m;\u001b[0m\u001b[1;33m\u001b[0m\u001b[1;33m\u001b[0m\u001b[0m\n\u001b[0;32m     11\u001b[0m \u001b[0mplt\u001b[0m\u001b[1;33m.\u001b[0m\u001b[0maxis\u001b[0m\u001b[1;33m(\u001b[0m\u001b[1;34m'equal'\u001b[0m\u001b[1;33m)\u001b[0m\u001b[1;33m;\u001b[0m\u001b[1;33m\u001b[0m\u001b[1;33m\u001b[0m\u001b[0m\n",
      "\u001b[1;31mNameError\u001b[0m: name 'modeshape' is not defined"
     ]
    },
    {
     "data": {
      "image/png": "[encoded data removed]",
      "text/plain": [
       "<Figure size 640x480 with 1 Axes>"
      ]
     },
     "metadata": {},
     "output_type": "display_data"
    }
   ],
   "source": [
    "# izris lastnih oblik\n",
    "\n",
    "# nedeformirano stanje\n",
    "[plt.plot(vozlisca[[i,j],0],vozlisca[[i,j],1],'-', c='C0') for i,j in elementi]\n",
    "plt.plot(vozlisca[:,0],vozlisca[:,1],'o', c='C0');\n",
    "plt.axis('equal');\n",
    "\n",
    "# deformirano stanje\n",
    "[plt.plot(modeshape[[i,j],0],modeshape[[i,j],1],'-', c='C1') for i,j in elementi]\n",
    "plt.plot(modeshape[:,0],modeshape[:,1],'o', c='C1');\n",
    "plt.axis('equal');"
   ]
  },
  {
   "cell_type": "markdown",
   "id": "a31366b2",
   "metadata": {},
   "source": [
    "### Sprememba robnih pogojev"
   ]
  },
  {
   "cell_type": "markdown",
   "id": "a47613ae",
   "metadata": {},
   "source": []
  },
  {
   "cell_type": "markdown",
   "id": "5f605af1",
   "metadata": {},
   "source": []
  }
 ],
 "metadata": {
  "kernelspec": {
   "display_name": "Python 3",
   "language": "python",
   "name": "python3"
  },
  "language_info": {
   "codemirror_mode": {
    "name": "ipython",
    "version": 3
   },
   "file_extension": ".py",
   "mimetype": "text/x-python",
   "name": "python",
   "nbconvert_exporter": "python",
   "pygments_lexer": "ipython3",
   "version": "3.9.13"
  }
 },
 "nbformat": 4,
 "nbformat_minor": 5
}
