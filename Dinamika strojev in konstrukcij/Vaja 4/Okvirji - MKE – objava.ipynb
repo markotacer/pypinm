{
 "cells": [
  {
   "cell_type": "code",
   "execution_count": 1,
   "id": "d2d4de54",
   "metadata": {},
   "outputs": [],
   "source": [
    "import sympy as sym\n",
    "import numpy as np\n",
    "import scipy as sp\n",
    "from scipy import linalg,spatial\n",
    "\n",
    "import matplotlib.pyplot as plt"
   ]
  },
  {
   "cell_type": "code",
   "execution_count": 2,
   "id": "5ff7891d",
   "metadata": {},
   "outputs": [],
   "source": [
    "# podatki\n",
    "ρ = 2700\n",
    "E = 70e9\n",
    "L = 1\n",
    "\n",
    "h = 0.030\n",
    "A = h*h # mm^2\n",
    "I = h*h**3/12 # mm^4"
   ]
  },
  {
   "cell_type": "code",
   "execution_count": 3,
   "id": "d72f455e-7af4-4660-a94e-623acdd5a8f0",
   "metadata": {},
   "outputs": [],
   "source": [
    "# transformacijska matrika\n",
    "def T(α):\n",
    "    \n",
    "    T = np.array([[ np.cos(α), np.sin(α), 0,         0,         0, 0],\n",
    "                   [-np.sin(α), np.cos(α), 0,         0,         0, 0],\n",
    "                   [         0,         0, 1,         0,         0, 0],\n",
    "                   [         0,         0, 0, np.cos(α), np.sin(α), 0],\n",
    "                   [         0,         0, 0,-np.sin(α), np.cos(α), 0],\n",
    "                   [         0,         0, 0,         0,         0, 1]])\n",
    "        \n",
    "    return T"
   ]
  },
  {
   "cell_type": "code",
   "execution_count": 4,
   "id": "a5d8575f",
   "metadata": {},
   "outputs": [],
   "source": [
    "# masna matrika\n",
    "def M_e(A, L, ρ, α):\n",
    "\n",
    "    M_lok = ρ*A*L*np.array([[1/3,         0,         0, 1/6,         0,         0],\n",
    "                            [  0,     13/35,  11*L/210,   0,      9/70, -13*L/420],\n",
    "                            [  0,  11*L/210,  L**2/105,   0,  13*L/420, -L**2/140],\n",
    "                            [1/6,         0,         0, 1/3,         0,         0],\n",
    "                            [  0,      9/70,  13*L/420,   0,     13/35, -11*L/210],\n",
    "                            [  0, -13*L/420, -L**2/140,   0, -11*L/210,  L**2/105]])\n",
    "    \n",
    "    return T(α).T @ M_lok @ T(α)"
   ]
  },
  {
   "cell_type": "code",
   "execution_count": 5,
   "id": "d398a574",
   "metadata": {},
   "outputs": [],
   "source": [
    "# togostna matrika\n",
    "def K_e(A, E, I, L, α):\n",
    "\n",
    "    K_lok = E/L*np.array([[ A,          0,      0, -A,          0,      0],\n",
    "                          [ 0,  12*I/L**2,  6*I/L,  0, -12*I/L**2,  6*I/L],\n",
    "                          [ 0,      6*I/L,    4*I,  0,     -6*I/L,    2*I],\n",
    "                          [-A,          0,      0,  A,          0,      0],\n",
    "                          [ 0, -12*I/L**2, -6*I/L,  0,  12*I/L**2, -6*I/L],\n",
    "                          [ 0,      6*I/L,    2*I,  0,     -6*I/L,    4*I]])\n",
    "    \n",
    "    return T(α).T @ K_lok @ T(α)"
   ]
  },
  {
   "cell_type": "code",
   "execution_count": 6,
   "id": "71ddaf89",
   "metadata": {},
   "outputs": [
    {
     "data": {
      "image/png": "[encoded data removed]",
      "text/plain": [
       "<Figure size 640x480 with 1 Axes>"
      ]
     },
     "metadata": {},
     "output_type": "display_data"
    }
   ],
   "source": [
    "# vozlišča in elementi\n",
    "%matplotlib inline\n",
    "a = 1.2*L\n",
    "b = 0.5*L\n",
    "vozlisca = np.array([[0,0],[0,b],[a,b],[a,0]])\n",
    "elementi = np.array([[0,1],[1,2],[2,3]])\n",
    "\n",
    "[plt.plot(vozlisca[[i,j],0],vozlisca[[i,j],1],'-',c='C0') for i,j in elementi]\n",
    "plt.plot(vozlisca[:,0],vozlisca[:,1],'o');\n",
    "plt.axis('equal');"
   ]
  },
  {
   "cell_type": "code",
   "execution_count": 7,
   "id": "b3e4f60e",
   "metadata": {},
   "outputs": [],
   "source": [
    "n_e = 9\n",
    "vozlisca_AB = np.array([[0, y] for y in np.linspace(0, b, n_e+1)])\n",
    "vozlisca_BC = np.array([[x, b] for x in np.linspace(0, a, n_e+1)])[1:]\n",
    "vozlisca_CD = np.array([[a, y] for y in np.linspace(b, 0, n_e+1)])[1:]\n"
   ]
  },
  {
   "cell_type": "code",
   "execution_count": 8,
   "id": "26928069",
   "metadata": {},
   "outputs": [
    {
     "data": {
      "text/plain": [
       "array([[0.        , 0.        ],\n",
       "       [0.        , 0.05555556],\n",
       "       [0.        , 0.11111111],\n",
       "       [0.        , 0.16666667],\n",
       "       [0.        , 0.22222222],\n",
       "       [0.        , 0.27777778],\n",
       "       [0.        , 0.33333333],\n",
       "       [0.        , 0.38888889],\n",
       "       [0.        , 0.44444444],\n",
       "       [0.        , 0.5       ]])"
      ]
     },
     "execution_count": 8,
     "metadata": {},
     "output_type": "execute_result"
    }
   ],
   "source": [
    "vozlisca_AB"
   ]
  },
  {
   "cell_type": "code",
   "execution_count": 9,
   "id": "b1d97020",
   "metadata": {},
   "outputs": [
    {
     "data": {
      "text/plain": [
       "array([[0.13333333, 0.5       ],\n",
       "       [0.26666667, 0.5       ],\n",
       "       [0.4       , 0.5       ],\n",
       "       [0.53333333, 0.5       ],\n",
       "       [0.66666667, 0.5       ],\n",
       "       [0.8       , 0.5       ],\n",
       "       [0.93333333, 0.5       ],\n",
       "       [1.06666667, 0.5       ],\n",
       "       [1.2       , 0.5       ]])"
      ]
     },
     "execution_count": 9,
     "metadata": {},
     "output_type": "execute_result"
    }
   ],
   "source": [
    "vozlisca_BC"
   ]
  },
  {
   "cell_type": "code",
   "execution_count": 10,
   "id": "2b9b0546",
   "metadata": {},
   "outputs": [
    {
     "data": {
      "text/plain": [
       "array([[1.2       , 0.44444444],\n",
       "       [1.2       , 0.38888889],\n",
       "       [1.2       , 0.33333333],\n",
       "       [1.2       , 0.27777778],\n",
       "       [1.2       , 0.22222222],\n",
       "       [1.2       , 0.16666667],\n",
       "       [1.2       , 0.11111111],\n",
       "       [1.2       , 0.05555556],\n",
       "       [1.2       , 0.        ]])"
      ]
     },
     "execution_count": 10,
     "metadata": {},
     "output_type": "execute_result"
    }
   ],
   "source": [
    "vozlisca_CD"
   ]
  },
  {
   "cell_type": "code",
   "execution_count": 11,
   "id": "d3638ee6",
   "metadata": {},
   "outputs": [
    {
     "data": {
      "text/plain": [
       "array([[0.        , 0.        ],\n",
       "       [0.        , 0.05555556],\n",
       "       [0.        , 0.11111111],\n",
       "       [0.        , 0.16666667],\n",
       "       [0.        , 0.22222222],\n",
       "       [0.        , 0.27777778],\n",
       "       [0.        , 0.33333333],\n",
       "       [0.        , 0.38888889],\n",
       "       [0.        , 0.44444444],\n",
       "       [0.        , 0.5       ],\n",
       "       [0.13333333, 0.5       ],\n",
       "       [0.26666667, 0.5       ],\n",
       "       [0.4       , 0.5       ],\n",
       "       [0.53333333, 0.5       ],\n",
       "       [0.66666667, 0.5       ],\n",
       "       [0.8       , 0.5       ],\n",
       "       [0.93333333, 0.5       ],\n",
       "       [1.06666667, 0.5       ],\n",
       "       [1.2       , 0.5       ],\n",
       "       [1.2       , 0.44444444],\n",
       "       [1.2       , 0.38888889],\n",
       "       [1.2       , 0.33333333],\n",
       "       [1.2       , 0.27777778],\n",
       "       [1.2       , 0.22222222],\n",
       "       [1.2       , 0.16666667],\n",
       "       [1.2       , 0.11111111],\n",
       "       [1.2       , 0.05555556],\n",
       "       [1.2       , 0.        ]])"
      ]
     },
     "execution_count": 11,
     "metadata": {},
     "output_type": "execute_result"
    }
   ],
   "source": [
    "vozlisca = np.vstack([vozlisca_AB, vozlisca_BC, vozlisca_CD])\n",
    "vozlisca"
   ]
  },
  {
   "cell_type": "code",
   "execution_count": 13,
   "id": "1c4063c8",
   "metadata": {},
   "outputs": [
    {
     "data": {
      "text/plain": [
       "[<matplotlib.lines.Line2D at 0x1cf9aa4a1f0>]"
      ]
     },
     "execution_count": 13,
     "metadata": {},
     "output_type": "execute_result"
    },
    {
     "data": {
      "image/png": "[encoded data removed]",
      "text/plain": [
       "<Figure size 640x480 with 1 Axes>"
      ]
     },
     "metadata": {},
     "output_type": "display_data"
    }
   ],
   "source": [
    "c = 8\n",
    "plt.plot(vozlisca[:c, 0], vozlisca[:c, 1], 'o')"
   ]
  },
  {
   "cell_type": "code",
   "execution_count": 14,
   "id": "e783f148",
   "metadata": {},
   "outputs": [
    {
     "ename": "NameError",
     "evalue": "name 'vozlisca_s' is not defined",
     "output_type": "error",
     "traceback": [
      "\u001b[1;31m---------------------------------------------------------------------------\u001b[0m",
      "\u001b[1;31mNameError\u001b[0m                                 Traceback (most recent call last)",
      "\u001b[1;32m~\\AppData\\Local\\Temp\\ipykernel_15908\\3791272309.py\u001b[0m in \u001b[0;36m<module>\u001b[1;34m\u001b[0m\n\u001b[1;32m----> 1\u001b[1;33m \u001b[0melementi\u001b[0m \u001b[1;33m=\u001b[0m \u001b[1;33m[\u001b[0m\u001b[1;33m[\u001b[0m\u001b[0mi\u001b[0m\u001b[1;33m,\u001b[0m \u001b[0mi\u001b[0m\u001b[1;33m+\u001b[0m\u001b[1;36m1\u001b[0m\u001b[1;33m]\u001b[0m \u001b[1;32mfor\u001b[0m \u001b[0mi\u001b[0m \u001b[1;32min\u001b[0m \u001b[0mrange\u001b[0m\u001b[1;33m(\u001b[0m\u001b[0mlen\u001b[0m\u001b[1;33m(\u001b[0m\u001b[0mvozlisca_s\u001b[0m\u001b[1;33m)\u001b[0m \u001b[1;33m-\u001b[0m \u001b[1;36m1\u001b[0m\u001b[1;33m)\u001b[0m\u001b[1;33m]\u001b[0m\u001b[1;33m\u001b[0m\u001b[1;33m\u001b[0m\u001b[0m\n\u001b[0m\u001b[0;32m      2\u001b[0m \u001b[1;33m\u001b[0m\u001b[0m\n\u001b[0;32m      3\u001b[0m \u001b[1;33m[\u001b[0m\u001b[0mplt\u001b[0m\u001b[1;33m.\u001b[0m\u001b[0mplot\u001b[0m\u001b[1;33m(\u001b[0m\u001b[0mvozlisca\u001b[0m\u001b[1;33m[\u001b[0m\u001b[1;33m[\u001b[0m\u001b[0mi\u001b[0m\u001b[1;33m,\u001b[0m \u001b[0mj\u001b[0m\u001b[1;33m]\u001b[0m\u001b[1;33m,\u001b[0m \u001b[1;36m0\u001b[0m\u001b[1;33m]\u001b[0m\u001b[1;33m,\u001b[0m \u001b[0mvozlisca\u001b[0m\u001b[1;33m[\u001b[0m\u001b[1;33m[\u001b[0m\u001b[0mi\u001b[0m\u001b[1;33m,\u001b[0m \u001b[0mj\u001b[0m\u001b[1;33m]\u001b[0m\u001b[1;33m,\u001b[0m \u001b[1;36m1\u001b[0m\u001b[1;33m]\u001b[0m\u001b[1;33m,\u001b[0m \u001b[1;34m'.-'\u001b[0m\u001b[1;33m)\u001b[0m \u001b[1;32mfor\u001b[0m \u001b[0mi\u001b[0m\u001b[1;33m,\u001b[0m\u001b[0mj\u001b[0m \u001b[1;32min\u001b[0m \u001b[0melementi\u001b[0m\u001b[1;33m]\u001b[0m\u001b[1;33m\u001b[0m\u001b[1;33m\u001b[0m\u001b[0m\n\u001b[0;32m      4\u001b[0m \u001b[0mplt\u001b[0m\u001b[1;33m.\u001b[0m\u001b[0mshow\u001b[0m\u001b[1;33m(\u001b[0m\u001b[1;33m)\u001b[0m\u001b[1;33m\u001b[0m\u001b[1;33m\u001b[0m\u001b[0m\n",
      "\u001b[1;31mNameError\u001b[0m: name 'vozlisca_s' is not defined"
     ]
    }
   ],
   "source": [
    "elementi = [[i, i+1] for i in range(len(vozlisca_s) - 1)]\n",
    "\n",
    "[plt.plot(vozlisca[[i, j], 0], vozlisca[[i, j], 1], '.-') for i,j in elementi]\n",
    "plt.show()"
   ]
  },
  {
   "cell_type": "code",
   "execution_count": 15,
   "id": "05edf8ad",
   "metadata": {},
   "outputs": [],
   "source": [
    "# zgostitev mreže"
   ]
  },
  {
   "cell_type": "code",
   "execution_count": 16,
   "id": "b388bab7",
   "metadata": {},
   "outputs": [
    {
     "data": {
      "text/plain": [
       "(84, 84)"
      ]
     },
     "execution_count": 16,
     "metadata": {},
     "output_type": "execute_result"
    }
   ],
   "source": [
    "# sestav globalne masne in togostne matrike\n",
    "M_glob = np.zeros((vozlisca.shape[0]*3,vozlisca.shape[0]*3))\n",
    "K_glob = np.zeros((vozlisca.shape[0]*3,vozlisca.shape[0]*3))\n",
    "\n",
    "for element in elementi:\n",
    "    # dolžina elementa\n",
    "    Le = sp.spatial.distance.euclidean(vozlisca[element[0]], vozlisca[element[1]])\n",
    "    #Le = np.linalg.norm(vozlisca[element])\n",
    "    \n",
    "    # kot zasuka\n",
    "    αe = np.arctan2(np.diff(vozlisca[element,1]) , np.diff(vozlisca[element,0]))[0]\n",
    "    \n",
    "    # indeksi prostostnih stopenj\n",
    "    ind = np.array([3*element[0],3*element[0]+1,3*element[0]+2,3*element[1],3*element[1]+1,3*element[1]+2])\n",
    "    \n",
    "    # priševanje prispevkov posameznih elementov\n",
    "    M_glob[ind[:,None],ind] += M_e(A, Le, ρ, αe)\n",
    "    K_glob[ind[:,None],ind] += K_e(A, E, I, Le, αe)\n",
    "M_glob.shape"
   ]
  },
  {
   "cell_type": "code",
   "execution_count": 19,
   "id": "439e61c2",
   "metadata": {},
   "outputs": [],
   "source": [
    "# C = np.zeros((ind_vpetih_ps.size,M_glob.shape[0]))\n",
    "# for n, i in enumerate(ind_vpetih_ps):\n",
    "#     C[n, i] = 1\n",
    "#     print(n, i)\n",
    "# C"
   ]
  },
  {
   "cell_type": "code",
   "execution_count": 20,
   "id": "cf859eae",
   "metadata": {},
   "outputs": [
    {
     "data": {
      "text/plain": [
       "array([0, 1, 2, 3])"
      ]
     },
     "execution_count": 20,
     "metadata": {},
     "output_type": "execute_result"
    }
   ],
   "source": [
    "np.arange(4)"
   ]
  },
  {
   "cell_type": "code",
   "execution_count": 21,
   "id": "60bb4966",
   "metadata": {},
   "outputs": [],
   "source": [
    "# ROBNI POGOJI\n",
    "ind_vpetih_ps = np.array([0,1,2,-2])\n",
    "\n",
    "# tvorimo matriko C\n",
    "C = np.zeros((ind_vpetih_ps.size,M_glob.shape[0]))\n",
    "for n, i in enumerate(ind_vpetih_ps):\n",
    "    C[n, i] = 1\n",
    "\n",
    "L = sp.linalg.null_space(C)\n",
    "\n",
    "M_glob_rp = L.T @ M_glob @ L\n",
    "K_glob_rp = L.T @ K_glob @ L\n",
    "# C[:, :3]"
   ]
  },
  {
   "cell_type": "code",
   "execution_count": 22,
   "id": "32003d60",
   "metadata": {},
   "outputs": [],
   "source": [
    "# lastne vrednosti in lastni vektorji\n",
    "eig_val, eig_vec = sp.linalg.eig(K_glob_rp, M_glob_rp)\n",
    "\n",
    "# urejanje po velikosti\n",
    "_ind = np.argsort(np.abs(eig_val))\n",
    "eig_val = eig_val[_ind]\n",
    "eig_vec = eig_vec[:,_ind]\n",
    "eig_vec = L @ eig_vec\n",
    "\n",
    "eig_freq = np.abs(eig_val)**0.5 / 2 / np.pi"
   ]
  },
  {
   "cell_type": "code",
   "execution_count": 23,
   "id": "45c8f471",
   "metadata": {
    "scrolled": true
   },
   "outputs": [
    {
     "data": {
      "text/plain": [
       "array([ 1629.4,  7725.1, 10827.1, 25265.1])"
      ]
     },
     "execution_count": 23,
     "metadata": {},
     "output_type": "execute_result"
    }
   ],
   "source": [
    "# lastne frekvence [Hz]\n",
    "eig_freq[:4].round(1)"
   ]
  },
  {
   "cell_type": "markdown",
   "id": "c6c76f8c",
   "metadata": {},
   "source": [
    "### Izris"
   ]
  },
  {
   "cell_type": "code",
   "execution_count": 24,
   "id": "bcb3471a",
   "metadata": {},
   "outputs": [],
   "source": [
    "m = 0\n",
    "s = 1.5\n",
    "\n",
    "pomiki_x = eig_vec[0::3,m]\n",
    "pomiki_y = eig_vec[1::3,m]\n",
    "\n",
    "def_vozlisca = np.copy(vozlisca)\n",
    "def_vozlisca[:,0] += pomiki_x *s\n",
    "def_vozlisca[:,1] += pomiki_y * s"
   ]
  },
  {
   "cell_type": "code",
   "execution_count": 27,
   "id": "418ef3dc",
   "metadata": {},
   "outputs": [
    {
     "data": {
      "image/png": "[encoded data removed]",
      "text/plain": [
       "<Figure size 640x480 with 1 Axes>"
      ]
     },
     "metadata": {},
     "output_type": "display_data"
    }
   ],
   "source": [
    "%matplotlib inline\n",
    "# nedeformirana geometrija\n",
    "[plt.plot(vozlisca[[i,j],0],vozlisca[[i,j],1],'-',c='C0') for i,j in elementi]\n",
    "plt.plot(vozlisca[:,0],vozlisca[:,1],'o');\n",
    "# deformirana geometrija\n",
    "[plt.plot(def_vozlisca[[i,j],0],def_vozlisca[[i,j],1],'-',c='C1') for i,j in elementi]\n",
    "plt.plot(def_vozlisca[:,0],def_vozlisca[:,1],'o');\n",
    "plt.axis('equal');\n",
    "# plt.hlines(0,1.6, 0)"
   ]
  },
  {
   "cell_type": "code",
   "execution_count": 26,
   "id": "95578c00",
   "metadata": {},
   "outputs": [],
   "source": [
    "# animacija lastne oblike"
   ]
  },
  {
   "cell_type": "code",
   "execution_count": null,
   "id": "08aa83f1",
   "metadata": {},
   "outputs": [
    {
     "data": {
      "text/plain": [
       "array([-1.        , -0.77777778, -0.55555556, -0.33333333, -0.11111111,\n",
       "        0.11111111,  0.33333333,  0.55555556,  0.77777778,  1.        ])"
      ]
     },
     "execution_count": 153,
     "metadata": {},
     "output_type": "execute_result"
    }
   ],
   "source": [
    "np.linspace(-1, 1, 10)"
   ]
  },
  {
   "cell_type": "code",
   "execution_count": null,
   "id": "f869c9e5",
   "metadata": {},
   "outputs": [],
   "source": [
    "import matplotlib.animation as animation\n",
    "%matplotlib qt\n",
    "\n",
    "# m = 5\n",
    "# s = 2\n",
    "\n",
    "amp = np.linspace(-1, 1, 25)\n",
    "amp = np.block([amp, amp[::-1]])\n",
    "amp = np.tile(amp, 20)\n",
    "\n",
    "fig, ax = plt.subplots()\n",
    "\n",
    "\n",
    "def animate(i):\n",
    "    ax.set_xlim(-0.2*a, 1.8*a)\n",
    "    ax.set_ylim(-0.2*b, 1.2*b)\n",
    "\n",
    "    pomiki_x = eig_vec[0::3, m]\n",
    "    pomiki_y = eig_vec[1::3, m]\n",
    "\n",
    "    def_vozlisca = np.copy(vozlisca)\n",
    "    def_vozlisca[:, 0] += pomiki_x * s * amp[i]\n",
    "    def_vozlisca[:, 1] += pomiki_y * s * amp[i]\n",
    "\n",
    "    return ax.plot(def_vozlisca[:, 0], def_vozlisca[:, 1], '-o', c='C0')\n",
    "\n",
    "\n",
    "ani = animation.FuncAnimation(\n",
    "    fig, animate, interval=5, blit=True, save_count=50)\n",
    "\n",
    "plt.show()\n"
   ]
  },
  {
   "cell_type": "code",
   "execution_count": null,
   "id": "a06468d9",
   "metadata": {},
   "outputs": [],
   "source": []
  }
 ],
 "metadata": {
  "kernelspec": {
   "display_name": "Python 3",
   "language": "python",
   "name": "python3"
  },
  "language_info": {
   "codemirror_mode": {
    "name": "ipython",
    "version": 3
   },
   "file_extension": ".py",
   "mimetype": "text/x-python",
   "name": "python",
   "nbconvert_exporter": "python",
   "pygments_lexer": "ipython3",
   "version": "3.9.13"
  }
 },
 "nbformat": 4,
 "nbformat_minor": 5
}
