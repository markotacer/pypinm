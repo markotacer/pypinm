{
 "cells": [
  {
   "cell_type": "code",
   "execution_count": 1,
   "id": "d2d4de54",
   "metadata": {},
   "outputs": [],
   "source": [
    "import sympy as sym\n",
    "import numpy as np\n",
    "import scipy as sp\n",
    "from scipy import linalg,spatial\n",
    "\n",
    "import matplotlib.pyplot as plt"
   ]
  },
  {
   "cell_type": "code",
   "execution_count": 2,
   "id": "5ff7891d",
   "metadata": {},
   "outputs": [],
   "source": [
    "# podatki\n",
    "ρ = 2700 #kg/m^3\n",
    "E = 70e9 #Pa\n",
    "L = 1 #m\n",
    "\n",
    "h = 0.030 #m\n",
    "A = h*h # mm^2\n",
    "I = h*h**3/12 # mm^4 (pravokoten profil b=h)"
   ]
  },
  {
   "cell_type": "code",
   "execution_count": 3,
   "id": "d72f455e-7af4-4660-a94e-623acdd5a8f0",
   "metadata": {},
   "outputs": [],
   "source": [
    "# transformacijska matrika\n",
    "def T(α):\n",
    "    \n",
    "    T = np.array([[ np.cos(α), np.sin(α), 0,         0,         0, 0],\n",
    "                   [-np.sin(α), np.cos(α), 0,         0,         0, 0],\n",
    "                   [         0,         0, 1,         0,         0, 0],\n",
    "                   [         0,         0, 0, np.cos(α), np.sin(α), 0],\n",
    "                   [         0,         0, 0,-np.sin(α), np.cos(α), 0],\n",
    "                   [         0,         0, 0,         0,         0, 1]])\n",
    "        \n",
    "    return T"
   ]
  },
  {
   "cell_type": "code",
   "execution_count": 4,
   "id": "a5d8575f",
   "metadata": {},
   "outputs": [],
   "source": [
    "# masna matrika\n",
    "def M_e(A, L, ρ, α): #pazi vrstni red vpisa\n",
    "\n",
    "    M_lok = ρ*A*L*np.array([[1/3,         0,         0, 1/6,         0,         0],\n",
    "                            [  0,     13/35,  11*L/210,   0,      9/70, -13*L/420],\n",
    "                            [  0,  11*L/210,  L**2/105,   0,  13*L/420, -L**2/140],\n",
    "                            [1/6,         0,         0, 1/3,         0,         0],\n",
    "                            [  0,      9/70,  13*L/420,   0,     13/35, -11*L/210],\n",
    "                            [  0, -13*L/420, -L**2/140,   0, -11*L/210,  L**2/105]])\n",
    "    \n",
    "    return T(α).T @ M_lok @ T(α) #pomnožimo z leve in desne z rotacjsko in je ok"
   ]
  },
  {
   "cell_type": "code",
   "execution_count": 5,
   "id": "d398a574",
   "metadata": {},
   "outputs": [],
   "source": [
    "# togostna matrika\n",
    "def K_e(A, E, I, L, α):\n",
    "\n",
    "    K_lok = E/L*np.array([[ A,          0,      0, -A,          0,      0],\n",
    "                          [ 0,  12*I/L**2,  6*I/L,  0, -12*I/L**2,  6*I/L],\n",
    "                          [ 0,      6*I/L,    4*I,  0,     -6*I/L,    2*I],\n",
    "                          [-A,          0,      0,  A,          0,      0],\n",
    "                          [ 0, -12*I/L**2, -6*I/L,  0,  12*I/L**2, -6*I/L],\n",
    "                          [ 0,      6*I/L,    2*I,  0,     -6*I/L,    4*I]])\n",
    "    \n",
    "    return T(α).T @ K_lok @ T(α)"
   ]
  },
  {
   "cell_type": "code",
   "execution_count": 6,
   "id": "71ddaf89",
   "metadata": {},
   "outputs": [
    {
     "data": {
      "image/png": "[encoded data removed]",
      "text/plain": [
       "<Figure size 640x480 with 1 Axes>"
      ]
     },
     "metadata": {},
     "output_type": "display_data"
    }
   ],
   "source": [
    "# vozlišča in elementi\n",
    "%matplotlib inline\n",
    "a = 1.2*L #širina\n",
    "b = 0.5*L #višina\n",
    "vozlisca = np.array([[0,0],[0,b],[a,b],[a,0]])\n",
    "elementi = np.array([[0,1],[1,2],[2,3]])\n",
    "\n",
    "[plt.plot(vozlisca[[i,j],0],vozlisca[[i,j],1],'-',c='C0') for i,j in elementi]\n",
    "plt.plot(vozlisca[:,0],vozlisca[:,1],'o');\n",
    "plt.axis('equal');"
   ]
  },
  {
   "cell_type": "code",
   "execution_count": 7,
   "id": "05edf8ad",
   "metadata": {},
   "outputs": [],
   "source": [
    "# zgostitev mreže\n",
    "n=10\n",
    "vozlišca_AB=np.array([[0,y] for y in np.linspace(0,b,n)])\n",
    "vozlišca_BC=np.array([[x,b] for x in np.linspace(0,a,n)])\n",
    "vozlišca_CD=np.array([[a,y] for y in np.linspace(b,0,n)])\n",
    "\n",
    "#seštejemo vozlišča"
   ]
  },
  {
   "cell_type": "code",
   "execution_count": 8,
   "id": "ac97a05b",
   "metadata": {},
   "outputs": [
    {
     "data": {
      "image/png": "[encoded data removed]",
      "text/plain": [
       "<Figure size 640x480 with 1 Axes>"
      ]
     },
     "metadata": {},
     "output_type": "display_data"
    }
   ],
   "source": [
    "vozlisca = np.vstack([vozlišca_AB,vozlišca_BC[1:],vozlišca_CD[1:]])\n",
    "\n",
    "elementi = np.array([[i,i+1] for i in range(len(vozlisca)-1) ])  #vsi elementi zaporedoma\n",
    "\n",
    "[plt.plot(vozlisca[[i,j],0],vozlisca[[i,j],1],'-',c='C0') for i,j in elementi]\n",
    "plt.plot(vozlisca[:,0],vozlisca[:,1],'o');\n",
    "plt.axis('equal');"
   ]
  },
  {
   "cell_type": "code",
   "execution_count": 9,
   "id": "b388bab7",
   "metadata": {},
   "outputs": [
    {
     "data": {
      "text/plain": [
       "(84, 84)"
      ]
     },
     "execution_count": 9,
     "metadata": {},
     "output_type": "execute_result"
    }
   ],
   "source": [
    "# sestav globalne masne in togostne matrike\n",
    "M_glob = np.zeros((vozlisca.shape[0]*3,vozlisca.shape[0]*3)) #gledaš št vozlišč in krat 3, ker so po tri prostostne stopnje\n",
    "K_glob = np.zeros((vozlisca.shape[0]*3,vozlisca.shape[0]*3))\n",
    "\n",
    "for element in elementi:\n",
    "    # dolžina elementa\n",
    "    Le = sp.spatial.distance.euclidean(vozlisca[element[0]], vozlisca[element[1]])\n",
    "    #Le = np.linalg.norm(vozlisca[element])\n",
    "    \n",
    "    # kot zasuka\n",
    "    αe = np.arctan2(np.diff(vozlisca[element,1]) , np.diff(vozlisca[element,0]))[0]\n",
    "    \n",
    "    # indeksi prostostnih stopenj\n",
    "    ind = np.array([3*element[0],3*element[0]+1,3*element[0]+2,3*element[1],3*element[1]+1,3*element[1]+2])\n",
    "    \n",
    "    # priševanje prispevkov posameznih elementov\n",
    "    M_glob[ind[:,None],ind] += M_e(A, Le, ρ, αe)  #:None za menja vse stolpce v vsaki vrstici, None ti vsakič vzame po \n",
    "    K_glob[ind[:,None],ind] += K_e(A, E, I, Le, αe)\n",
    "    \n",
    "M_glob.shape"
   ]
  },
  {
   "cell_type": "code",
   "execution_count": 13,
   "id": "05d2f4d6",
   "metadata": {},
   "outputs": [],
   "source": [
    "ind_vpetih_ps = np.array([1, 2, -1])"
   ]
  },
  {
   "cell_type": "code",
   "execution_count": 14,
   "id": "f16e0c57",
   "metadata": {},
   "outputs": [
    {
     "data": {
      "text/plain": [
       "array([[0., 1., 0., 0., 0., 0., 0., 0., 0., 0., 0., 0., 0., 0., 0., 0.,\n",
       "        0., 0., 0., 0., 0., 0., 0., 0., 0., 0., 0., 0., 0., 0., 0., 0.,\n",
       "        0., 0., 0., 0., 0., 0., 0., 0., 0., 0., 0., 0., 0., 0., 0., 0.,\n",
       "        0., 0., 0., 0., 0., 0., 0., 0., 0., 0., 0., 0., 0., 0., 0., 0.,\n",
       "        0., 0., 0., 0., 0., 0., 0., 0., 0., 0., 0., 0., 0., 0., 0., 0.,\n",
       "        0., 0., 0., 0.],\n",
       "       [0., 0., 1., 0., 0., 0., 0., 0., 0., 0., 0., 0., 0., 0., 0., 0.,\n",
       "        0., 0., 0., 0., 0., 0., 0., 0., 0., 0., 0., 0., 0., 0., 0., 0.,\n",
       "        0., 0., 0., 0., 0., 0., 0., 0., 0., 0., 0., 0., 0., 0., 0., 0.,\n",
       "        0., 0., 0., 0., 0., 0., 0., 0., 0., 0., 0., 0., 0., 0., 0., 0.,\n",
       "        0., 0., 0., 0., 0., 0., 0., 0., 0., 0., 0., 0., 0., 0., 0., 0.,\n",
       "        0., 0., 0., 0.],\n",
       "       [0., 0., 0., 0., 0., 0., 0., 0., 0., 0., 0., 0., 0., 0., 0., 0.,\n",
       "        0., 0., 0., 0., 0., 0., 0., 0., 0., 0., 0., 0., 0., 0., 0., 0.,\n",
       "        0., 0., 0., 0., 0., 0., 0., 0., 0., 0., 0., 0., 0., 0., 0., 0.,\n",
       "        0., 0., 0., 0., 0., 0., 0., 0., 0., 0., 0., 0., 0., 0., 0., 0.,\n",
       "        0., 0., 0., 0., 0., 0., 0., 0., 0., 0., 0., 0., 0., 0., 0., 0.,\n",
       "        0., 0., 0., 1.]])"
      ]
     },
     "execution_count": 14,
     "metadata": {},
     "output_type": "execute_result"
    }
   ],
   "source": [
    "# tvorimo matriko C\n",
    "C = np.zeros((len(ind_vpetih_ps),vozlisca.shape[0]*3))\n",
    "C[[np.arange(len(ind_vpetih_ps))],ind_vpetih_ps]=1  #zmeče na prave indekse vrst in stolpcov\n",
    "C"
   ]
  },
  {
   "cell_type": "code",
   "execution_count": 15,
   "id": "60bb4966",
   "metadata": {},
   "outputs": [
    {
     "data": {
      "text/plain": [
       "(84, 84)"
      ]
     },
     "execution_count": 15,
     "metadata": {},
     "output_type": "execute_result"
    }
   ],
   "source": [
    "# ROBNI POGOJI\n",
    "ind_vpetih_ps = np.array([0,1,2,-2])\n",
    "\n",
    "# tvorimo matriko C\n",
    "C = np.zeros((len(ind_vpetih_ps),vozlisca.shape[0]*3))\n",
    "C[[0,1,2,3],[0,1,2,-2]]=1\n",
    "\n",
    "L = sp.linalg.null_space(C)\n",
    "\n",
    "M_glob_rp = L.T @ M_glob @ L\n",
    "K_glob_rp = L.T @ K_glob @ L\n",
    "\n",
    "M_glob.shape"
   ]
  },
  {
   "cell_type": "code",
   "execution_count": 16,
   "id": "32003d60",
   "metadata": {},
   "outputs": [],
   "source": [
    "# lastne vrednosti in lastni vektorji\n",
    "eig_val, eig_vec = sp.linalg.eig(K_glob_rp, M_glob_rp)\n",
    "\n",
    "# urejanje po velikosti\n",
    "_ind = np.argsort(np.abs(eig_val))\n",
    "eig_val = eig_val[_ind]\n",
    "eig_vec = eig_vec[:,_ind]\n",
    "eig_vec = L @ eig_vec\n",
    "\n",
    "eig_freq = np.abs(eig_val)**0.5 / 2 / np.pi"
   ]
  },
  {
   "cell_type": "code",
   "execution_count": 17,
   "id": "45c8f471",
   "metadata": {
    "scrolled": true
   },
   "outputs": [
    {
     "data": {
      "text/plain": [
       "array([ 26.8,  60. ,  96.6, 239. ])"
      ]
     },
     "execution_count": 17,
     "metadata": {},
     "output_type": "execute_result"
    }
   ],
   "source": [
    "# lastne frekvence [Hz]\n",
    "eig_freq[:4].round(1)"
   ]
  },
  {
   "cell_type": "code",
   "execution_count": 18,
   "id": "f13ee154",
   "metadata": {},
   "outputs": [
    {
     "data": {
      "text/plain": [
       "(84, 80)"
      ]
     },
     "execution_count": 18,
     "metadata": {},
     "output_type": "execute_result"
    }
   ],
   "source": [
    "eig_vec.shape #prva tolko ko imamo stopenj, drugo to kar je fraj"
   ]
  },
  {
   "cell_type": "markdown",
   "id": "c6c76f8c",
   "metadata": {},
   "source": [
    "### Izris"
   ]
  },
  {
   "cell_type": "code",
   "execution_count": 19,
   "id": "bcb3471a",
   "metadata": {},
   "outputs": [],
   "source": [
    "m = 1\n",
    "s = 3\n",
    "\n",
    "pomiki_x = eig_vec[0::3,m] #gre od 0 do konca in vsakega 3, to bojo x-pomiki\n",
    "pomiki_y = eig_vec[1::3,m]\n",
    "\n",
    "def_vozlisca = np.copy(vozlisca)\n",
    "def_vozlisca[:,0] += pomiki_x *s\n",
    "def_vozlisca[:,1] += pomiki_y * s"
   ]
  },
  {
   "cell_type": "code",
   "execution_count": 20,
   "id": "418ef3dc",
   "metadata": {},
   "outputs": [
    {
     "data": {
      "image/png": "[encoded data removed]",
      "text/plain": [
       "<Figure size 640x480 with 1 Axes>"
      ]
     },
     "metadata": {},
     "output_type": "display_data"
    }
   ],
   "source": [
    "%matplotlib inline\n",
    "# nedeformirana geometrija\n",
    "[plt.plot(vozlisca[[i,j],0],vozlisca[[i,j],1],'-',c='C0') for i,j in elementi]\n",
    "plt.plot(vozlisca[:,0],vozlisca[:,1],'o');\n",
    "# deformirana geometrija\n",
    "[plt.plot(def_vozlisca[[i,j],0],def_vozlisca[[i,j],1],'-',c='C1') for i,j in elementi]\n",
    "plt.plot(def_vozlisca[:,0],def_vozlisca[:,1],'o');\n",
    "plt.axis('equal');"
   ]
  },
  {
   "cell_type": "code",
   "execution_count": null,
   "id": "95578c00",
   "metadata": {},
   "outputs": [],
   "source": [
    "%matplotlib qt\n",
    "import matplotlib.animation as animation\n",
    "\n",
    "\n",
    "\n",
    "\n",
    "amp = np.linspace(-1,1,25)\n",
    "amp = np.block([amp,amp[::-1]])\n",
    "amp = np.tile(amp,20)\n",
    "\n",
    "fig,ax = plt.subplots()\n",
    "def animate(i):\n",
    "    ax.set_xlim(-0.2*a,1.8*a)\n",
    "    ax.set_ylim(-0.2*b,1.2*b)\n",
    "    \n",
    "    pomiki_x = eig_vec[0::3,m]\n",
    "    pomiki_y = eig_vec[1::3,m]\n",
    "\n",
    "    def_vozlisca = np.copy(vozlisca)\n",
    "    def_vozlisca[:,0] += pomiki_x * s * amp[i]\n",
    "    def_vozlisca[:,1] += pomiki_y * s * amp[i]\n",
    "       \n",
    "    return ax.plot(def_vozlisca[:,0],def_vozlisca[:,1],'-o',c='C0')\n",
    "\n",
    "ani = animation.FuncAnimation(\n",
    "    fig, animate, interval=5, blit=True, save_count=50)\n",
    "\n",
    "plt.show()"
   ]
  },
  {
   "cell_type": "code",
   "execution_count": null,
   "id": "e8652543",
   "metadata": {},
   "outputs": [],
   "source": []
  }
 ],
 "metadata": {
  "kernelspec": {
   "display_name": "Python 3 (ipykernel)",
   "language": "python",
   "name": "python3"
  },
  "language_info": {
   "codemirror_mode": {
    "name": "ipython",
    "version": 3
   },
   "file_extension": ".py",
   "mimetype": "text/x-python",
   "name": "python",
   "nbconvert_exporter": "python",
   "pygments_lexer": "ipython3",
   "version": "3.9.13"
  }
 },
 "nbformat": 4,
 "nbformat_minor": 5
}
