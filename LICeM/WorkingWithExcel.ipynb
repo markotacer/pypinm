{
 "cells": [
  {
   "cell_type": "code",
   "execution_count": 3,
   "metadata": {},
   "outputs": [],
   "source": [
    "import numpy as np\n",
    "import pandas as pd\n",
    "import matplotlib.pyplot as plt\n",
    "import seaborn as sns\n",
    "import os\n",
    "import glob"
   ]
  },
  {
   "cell_type": "markdown",
   "metadata": {},
   "source": [
    "## Introduction to Excel files "
   ]
  },
  {
   "cell_type": "code",
   "execution_count": 6,
   "metadata": {},
   "outputs": [
    {
     "name": "stdout",
     "output_type": "stream",
     "text": [
      "Collecting pyxll\n",
      "  Obtaining dependency information for pyxll from https://files.pythonhosted.org/packages/92/cb/1460e9298c0b1684c6e6317e891f903a73f2a0351ef8f66e2915ea3fe8ed/pyxll-5.7.0.post1-cp311-none-any.whl.metadata\n",
      "  Downloading pyxll-5.7.0.post1-cp311-none-any.whl.metadata (3.8 kB)\n",
      "Downloading pyxll-5.7.0.post1-cp311-none-any.whl (60 kB)\n",
      "   ---------------------------------------- 0.0/60.4 kB ? eta -:--:--\n",
      "   ---------------------------------------- 60.4/60.4 kB 3.1 MB/s eta 0:00:00\n",
      "Installing collected packages: pyxll\n",
      "Successfully installed pyxll-5.7.0.post1\n",
      "\n",
      "ERROR: Excel is 32bit but Python is 64bit.\n",
      "\n",
      "Please check the version of Office you have installed and either install the\n",
      "64bit version of Excel or install a 32bit version of Python.\n",
      "\n",
      "If you need additional help please contact support@pyxll.com\n"
     ]
    }
   ],
   "source": [
    "# !pip install pyxll\n",
    "# !pyxll install"
   ]
  },
  {
   "cell_type": "code",
   "execution_count": 4,
   "metadata": {},
   "outputs": [],
   "source": [
    "# os.makedirs('Excel files', exist_ok=True) ##m creates a folder in the current directory\n"
   ]
  },
  {
   "cell_type": "markdown",
   "metadata": {},
   "source": [
    "## Introduction to working with .csv"
   ]
  },
  {
   "cell_type": "code",
   "execution_count": 7,
   "metadata": {},
   "outputs": [],
   "source": [
    "# os.makedirs('Txt files', exist_ok=True) ##m creates a folder in the current directory"
   ]
  },
  {
   "cell_type": "markdown",
   "metadata": {},
   "source": []
  }
 ],
 "metadata": {
  "kernelspec": {
   "display_name": "Python 3",
   "language": "python",
   "name": "python3"
  },
  "language_info": {
   "codemirror_mode": {
    "name": "ipython",
    "version": 3
   },
   "file_extension": ".py",
   "mimetype": "text/x-python",
   "name": "python",
   "nbconvert_exporter": "python",
   "pygments_lexer": "ipython3",
   "version": "3.11.4"
  },
  "orig_nbformat": 4
 },
 "nbformat": 4,
 "nbformat_minor": 2
}
