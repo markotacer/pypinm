{
 "cells": [
  {
   "cell_type": "code",
   "execution_count": 69,
   "metadata": {},
   "outputs": [],
   "source": [
    "import MBsysPy"
   ]
  },
  {
   "cell_type": "code",
   "execution_count": 70,
   "metadata": {},
   "outputs": [],
   "source": [
    "import numpy as np\n",
    "import matplotlib.pyplot as plt"
   ]
  },
  {
   "cell_type": "code",
   "execution_count": 71,
   "metadata": {},
   "outputs": [],
   "source": [
    "a = 0.15\n",
    "L = 0.45\n",
    "m = 3\n",
    "g = 9.81\n",
    "J_T = 0.05\n",
    "J_0 = J_T + m*a**2\n",
    "\n",
    "phi0 = 0\n",
    "omega0 = 0"
   ]
  },
  {
   "cell_type": "code",
   "execution_count": 72,
   "metadata": {},
   "outputs": [
    {
     "data": {
      "text/plain": [
       "array([0.  , 0.01, 0.02, 0.03, 0.04])"
      ]
     },
     "execution_count": 72,
     "metadata": {},
     "output_type": "execute_result"
    }
   ],
   "source": [
    "t = np.arange(0, 10, 0.01)\n",
    "t[:5]"
   ]
  },
  {
   "cell_type": "code",
   "execution_count": 73,
   "metadata": {},
   "outputs": [],
   "source": [
    "# phi = phi0 + omega0*t - 0.5*t**2 * (m*g*a/J_0)\n",
    "# plt.plot(t, phi)"
   ]
  },
  {
   "cell_type": "markdown",
   "metadata": {},
   "source": [
    "#### 1.4 "
   ]
  },
  {
   "cell_type": "markdown",
   "metadata": {},
   "source": [
    "Most convinient is to use polar coordinates"
   ]
  },
  {
   "cell_type": "markdown",
   "metadata": {},
   "source": [
    "#### 1.5"
   ]
  },
  {
   "cell_type": "code",
   "execution_count": null,
   "metadata": {},
   "outputs": [],
   "source": []
  },
  {
   "cell_type": "markdown",
   "metadata": {},
   "source": [
    "#### 1.6"
   ]
  },
  {
   "cell_type": "code",
   "execution_count": 74,
   "metadata": {},
   "outputs": [
    {
     "name": "stdout",
     "output_type": "stream",
     "text": [
      "F1x = -2.1085 N\n",
      "F1y = 28.6448 N\n",
      "M1 = 2.7377 Nm\n"
     ]
    }
   ],
   "source": [
    "# Equation 2\n",
    "def E2(phi, dphi, ddphi):\n",
    "    return m*d*(-np.sin(phi)*ddphi - np.cos(phi)*dphi**2)\n",
    "\n",
    "# Equation 3\n",
    "def E3(phi, dphi, ddphi):\n",
    "    return m*d*(np.cos(phi)*ddphi - np.sin(phi)*dphi**2) + m*g\n",
    "\n",
    "d = a #define the distnace to the center of mass\n",
    "\n",
    "F1x = E2(1, 2, 3)\n",
    "F1y = E3(1, 2, 3)\n",
    "print(f'F1x = {F1x:.4f} N')\n",
    "print(f'F1y = {F1y:.4f} N')\n",
    "\n",
    "def E1(phi, dphi, ddphi, F1_x=F1x, F1_y=F1y):\n",
    "    return J_T*ddphi + d*(np.cos(phi)*F1_y - np.sin(phi)*F1_x)\n",
    "M1 = E1(1, 2, 3)\n",
    "print(f'M1 = {M1:.4f} Nm')"
   ]
  },
  {
   "cell_type": "markdown",
   "metadata": {},
   "source": [
    "#### 1.7"
   ]
  },
  {
   "cell_type": "code",
   "execution_count": 75,
   "metadata": {},
   "outputs": [],
   "source": [
    "phi, dphi, ddphi = 1,2,3"
   ]
  },
  {
   "cell_type": "code",
   "execution_count": 76,
   "metadata": {},
   "outputs": [],
   "source": [
    "A = [[1, d*np.sin(phi), -d*np.cos(phi)],\n",
    "    [0, 1, 0],\n",
    "    [0, 0, 1]]\n",
    "\n",
    "b = [[J_T*ddphi],\n",
    "    [m*d*(-np.sin(phi)*ddphi - np.cos(phi)*dphi**2)],\n",
    "    [m*d*(np.cos(phi)*ddphi - np.sin(phi)*dphi**2) + m*g]]"
   ]
  },
  {
   "cell_type": "code",
   "execution_count": 77,
   "metadata": {},
   "outputs": [
    {
     "name": "stdout",
     "output_type": "stream",
     "text": [
      "F1x = -2.1085 N\n",
      "F1y = 28.6448 N\n",
      "M1 = 2.7377 Nm\n"
     ]
    }
   ],
   "source": [
    "x = np.linalg.solve(A, b)\n",
    "print(f'F1x = {x[1][0]:.4f} N')\n",
    "print(f'F1y = {x[2][0]:.4f} N')\n",
    "print(f'M1 = {x[0][0]:.4f} Nm')"
   ]
  },
  {
   "cell_type": "markdown",
   "metadata": {},
   "source": [
    "#### 1.8"
   ]
  },
  {
   "cell_type": "code",
   "execution_count": 78,
   "metadata": {},
   "outputs": [
    {
     "name": "stdout",
     "output_type": "stream",
     "text": [
      "beta = 9.462 deg\n"
     ]
    }
   ],
   "source": [
    "beta = np.arctan(0.05/0.3)\n",
    "beta = np.rad2deg(beta)\n",
    "print(f'beta = {beta:.3f} deg')"
   ]
  },
  {
   "cell_type": "code",
   "execution_count": 79,
   "metadata": {},
   "outputs": [
    {
     "name": "stdout",
     "output_type": "stream",
     "text": [
      "F = 55.509 N\n"
     ]
    }
   ],
   "source": [
    "M = M1\n",
    "F1 = M/0.05\n",
    "F = F1/np.cos(np.deg2rad(beta))\n",
    "print(f'F = {F:.3f} N')"
   ]
  },
  {
   "cell_type": "markdown",
   "metadata": {},
   "source": [
    "#### 1.9"
   ]
  },
  {
   "cell_type": "code",
   "execution_count": 80,
   "metadata": {},
   "outputs": [
    {
     "name": "stdout",
     "output_type": "stream",
     "text": [
      "Sigma = 5550.854 Pa\n",
      "Sigma = 5.551 kPa\n"
     ]
    }
   ],
   "source": [
    "A = 0.01 #m\n",
    "Sigma = F/A\n",
    "print(f'Sigma = {Sigma:.3f} Pa')\n",
    "print(f'Sigma = {Sigma/1000:.3f} kPa')\n"
   ]
  },
  {
   "cell_type": "markdown",
   "metadata": {},
   "source": [
    "#### 1.13"
   ]
  },
  {
   "cell_type": "markdown",
   "metadata": {},
   "source": [
    "Now the input parameters are dphi, phi and M"
   ]
  },
  {
   "cell_type": "code",
   "execution_count": 81,
   "metadata": {},
   "outputs": [
    {
     "name": "stdout",
     "output_type": "stream",
     "text": [
      "F1x = -2.1086 N\n",
      "F1y = 28.6448 N\n",
      "ddphi = 3.0003 rad/s^2\n"
     ]
    }
   ],
   "source": [
    "M, phi, dphi = 2.7377, 1, 2\n",
    "\n",
    "del ddphi;\n",
    "\n",
    "A = [[J_T, -d*np.sin(phi), +d*np.cos(phi)],\n",
    "    [m*d*np.sin(phi), 1, 0],\n",
    "    [-m*d*np.cos(phi), 0, 1]]\n",
    "\n",
    "b = [[M],\n",
    "    [-m*d*(np.cos(phi)*dphi**2)],\n",
    "    [-m*d*(np.sin(phi)*dphi**2) + m*g]]\n",
    "\n",
    "x = np.linalg.solve(A, b)\n",
    "print(f'F1x = {x[1][0]:.4f} N')\n",
    "print(f'F1y = {x[2][0]:.4f} N')\n",
    "print(f'ddphi = {x[0][0]:.4f} rad/s^2')"
   ]
  },
  {
   "cell_type": "markdown",
   "metadata": {},
   "source": []
  }
 ],
 "metadata": {
  "kernelspec": {
   "display_name": "Python 3",
   "language": "python",
   "name": "python3"
  },
  "language_info": {
   "codemirror_mode": {
    "name": "ipython",
    "version": 3
   },
   "file_extension": ".py",
   "mimetype": "text/x-python",
   "name": "python",
   "nbconvert_exporter": "python",
   "pygments_lexer": "ipython3",
   "version": "3.11.4"
  }
 },
 "nbformat": 4,
 "nbformat_minor": 2
}
