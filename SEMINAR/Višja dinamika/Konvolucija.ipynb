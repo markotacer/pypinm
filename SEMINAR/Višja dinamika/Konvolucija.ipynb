{
 "cells": [
  {
   "cell_type": "code",
   "execution_count": 2,
   "metadata": {},
   "outputs": [],
   "source": [
    "import numpy as np\n",
    "import matplotlib.pyplot as plt"
   ]
  },
  {
   "cell_type": "markdown",
   "metadata": {},
   "source": [
    "Odziv dušenega sistema dušilke. Integracija 2x per partes in iskanje $x(t)$"
   ]
  },
  {
   "cell_type": "code",
   "execution_count": 4,
   "metadata": {},
   "outputs": [],
   "source": [
    "t1 = np.arange(0, 20.1, 0.1)\n",
    "t1;"
   ]
  },
  {
   "cell_type": "code",
   "execution_count": 5,
   "metadata": {},
   "outputs": [],
   "source": [
    "def pomik(F0, d, m, k, t):\n",
    "    ''' F0 - impulz\n",
    "    d - faktor dušenja\n",
    "    m - masa\n",
    "    k - togost\n",
    "    t - časovni np.array\n",
    "    '''\n",
    "    d_kr = 2 * np.sqrt(k * m)\n",
    "    delta = d/d_kr\n",
    "    w0 = np.sqrt(k/m)\n",
    "    w0d = w0 * np.sqrt(1 - delta * delta)\n",
    "    X = (F0)/(m * w0d * (w0d**2 + w0**2 *  delta**2))\n",
    "    b = - delta * w0 * t\n",
    "    Y = X * np.e**(b) * (delta * w0d * np.sin(w0d *t) + w0d * np.cos(w0d * t) - w0d * np.e**(-b))\n",
    "    rez = [d_kr, delta, w0, w0d, X, Y]\n",
    "    return np.array(rez)"
   ]
  },
  {
   "cell_type": "markdown",
   "metadata": {},
   "source": [
    "Definicija podatkov o sistemu"
   ]
  },
  {
   "cell_type": "code",
   "execution_count": 6,
   "metadata": {},
   "outputs": [],
   "source": [
    "F01 = 1000;\n",
    "d1 = 100;\n",
    "m1 = 100;\n",
    "k1 = 1000;\n",
    "#np.e"
   ]
  },
  {
   "cell_type": "markdown",
   "metadata": {},
   "source": [
    "Vmesni faktorji"
   ]
  },
  {
   "cell_type": "code",
   "execution_count": 8,
   "metadata": {},
   "outputs": [
    {
     "name": "stdout",
     "output_type": "stream",
     "text": [
      "d_kr = 632.4555320336759\n",
      "delta = 0.15811388300841894\n",
      "w0 = 3.1622776601683795\n",
      "w0d = 3.122498999199199\n",
      "X = 0.32025630761017426\n"
     ]
    },
    {
     "name": "stderr",
     "output_type": "stream",
     "text": [
      "C:\\Users\\marko\\AppData\\Local\\Temp\\ipykernel_1392\\2795743124.py:16: VisibleDeprecationWarning: Creating an ndarray from ragged nested sequences (which is a list-or-tuple of lists-or-tuples-or ndarrays with different lengths or shapes) is deprecated. If you meant to do this, you must specify 'dtype=object' when creating the ndarray.\n",
      "  return np.array(rez)\n"
     ]
    }
   ],
   "source": [
    "rez1 = pomik(F01, d1, m1, k1, t1);\n",
    "\n",
    "print(f'd_kr = {rez1[0]}')\n",
    "print(f'delta = {rez1[1]}')\n",
    "print(f'w0 = {rez1[2]}')\n",
    "print(f'w0d = {rez1[3]}')\n",
    "print(f'X = {rez1[4]}')\n",
    "d_kr = rez1[0];\n",
    "delta = rez1[1];\n",
    "w0 = rez1[2];\n",
    "w0d = rez1[3];\n",
    "X = rez1[4];\n",
    "Y = rez1[5];"
   ]
  },
  {
   "cell_type": "code",
   "execution_count": 9,
   "metadata": {},
   "outputs": [
    {
     "data": {
      "image/png": "[encoded data removed]",
      "text/plain": [
       "<Figure size 432x288 with 1 Axes>"
      ]
     },
     "metadata": {
      "needs_background": "light"
     },
     "output_type": "display_data"
    }
   ],
   "source": [
    "graf =plt.plot(t1, -Y)"
   ]
  },
  {
   "cell_type": "code",
   "execution_count": null,
   "metadata": {},
   "outputs": [],
   "source": []
  }
 ],
 "metadata": {
  "kernelspec": {
   "display_name": "Python 3.11.0 64-bit",
   "language": "python",
   "name": "python3"
  },
  "language_info": {
   "codemirror_mode": {
    "name": "ipython",
    "version": 3
   },
   "file_extension": ".py",
   "mimetype": "text/x-python",
   "name": "python",
   "nbconvert_exporter": "python",
   "pygments_lexer": "ipython3",
   "version": "3.11.0"
  },
  "orig_nbformat": 4,
  "vscode": {
   "interpreter": {
    "hash": "a347ab4df1061e535580722696a62870728902da830764bb1a2352bf3b84b579"
   }
  }
 },
 "nbformat": 4,
 "nbformat_minor": 2
}
