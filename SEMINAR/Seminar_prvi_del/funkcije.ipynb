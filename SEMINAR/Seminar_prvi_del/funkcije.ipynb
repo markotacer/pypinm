{
 "cells": [
  {
   "cell_type": "code",
   "execution_count": 4,
   "metadata": {},
   "outputs": [],
   "source": [
    "import numpy as np"
   ]
  },
  {
   "cell_type": "code",
   "execution_count": 2,
   "metadata": {},
   "outputs": [],
   "source": [
    "def masna_togostna_matrika(m1, m2, k1, k2):\n",
    "\n",
    "\n",
    "    M = np.zeros((2, 2))\n",
    "    K = np.zeros((2, 2))\n",
    "    M[0, 0] = m1\n",
    "    M[1, 1] = m2\n",
    "    K[0, 0] = k1\n",
    "    K[0, 1] = -k1\n",
    "    K[1, 0] = -k1\n",
    "    K[1, 1] = k1+k2\n",
    "\n",
    "    M = np.array([[m1, 0], [0, m2]])\n",
    "    K = np.array([[k1+k2, -k2], [-k2, k2]])\n",
    "    return [M, K]\n"
   ]
  }
 ],
 "metadata": {
  "kernelspec": {
   "display_name": "Python 3",
   "language": "python",
   "name": "python3"
  },
  "language_info": {
   "codemirror_mode": {
    "name": "ipython",
    "version": 3
   },
   "file_extension": ".py",
   "mimetype": "text/x-python",
   "name": "python",
   "nbconvert_exporter": "python",
   "pygments_lexer": "ipython3",
   "version": "3.11.0 (main, Oct 24 2022, 18:26:48) [MSC v.1933 64 bit (AMD64)]"
  },
  "orig_nbformat": 4,
  "vscode": {
   "interpreter": {
    "hash": "a347ab4df1061e535580722696a62870728902da830764bb1a2352bf3b84b579"
   }
  }
 },
 "nbformat": 4,
 "nbformat_minor": 2
}
