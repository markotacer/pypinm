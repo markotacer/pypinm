{
 "cells": [
  {
   "cell_type": "code",
   "execution_count": 1,
   "metadata": {},
   "outputs": [],
   "source": [
    "import numpy as np\n",
    "import matplotlib.pyplot as plt"
   ]
  },
  {
   "cell_type": "code",
   "execution_count": 7,
   "metadata": {},
   "outputs": [
    {
     "name": "stdout",
     "output_type": "stream",
     "text": [
      "[1 2 3 4 5]\n",
      "[5.  4.9 4.8 4.7 4.6 4.5 4.4 4.3 4.2 4.1 4. ]\n"
     ]
    }
   ],
   "source": [
    "arr1 = np.array([1, 2, 3, 4, 5])\n",
    "arr2 = np.linspace(4, 5, 11)\n",
    "print(arr1)\n",
    "print(arr2[::-1])"
   ]
  },
  {
   "cell_type": "code",
   "execution_count": 19,
   "metadata": {},
   "outputs": [
    {
     "name": "stdout",
     "output_type": "stream",
     "text": [
      "[0.3999999999999986, 1.2099999999999957, 2.440000000000013, 4.0999999999999845]\n"
     ]
    }
   ],
   "source": [
    "c2 = []\n",
    "c2.append((arr1[0] * arr2[0]) * (arr2[1]-arr2[0])) # 1 * 5\n",
    "c2.append((arr1[1] * arr2[0] + arr1[0] * arr2[1]) *(arr2[1]-arr2[0]))\n",
    "c2.append((arr1[2] * arr2[0] + arr1[1] * arr2[1] + arr1[0] * arr2[2]) *(arr2[2]-arr2[1]))\n",
    "c2.append((arr1[3] * arr2[0] + arr1[2] * arr2[1] + arr1[1] * arr2[2] + arr1[0] * arr2[3]) *(arr2[3]-arr2[2]))\n",
    "\n",
    "\n",
    "print(c2)"
   ]
  },
  {
   "cell_type": "code",
   "execution_count": 21,
   "metadata": {},
   "outputs": [
    {
     "data": {
      "text/plain": [
       "array([0.4 , 1.21, 2.44, 4.1 ])"
      ]
     },
     "execution_count": 21,
     "metadata": {},
     "output_type": "execute_result"
    }
   ],
   "source": [
    "c = np.convolve(arr1, arr2) * (arr2[1]-arr2[0])\n",
    "c[:4]"
   ]
  },
  {
   "cell_type": "code",
   "execution_count": null,
   "metadata": {},
   "outputs": [],
   "source": []
  }
 ],
 "metadata": {
  "kernelspec": {
   "display_name": "Python 3",
   "language": "python",
   "name": "python3"
  },
  "language_info": {
   "codemirror_mode": {
    "name": "ipython",
    "version": 3
   },
   "file_extension": ".py",
   "mimetype": "text/x-python",
   "name": "python",
   "nbconvert_exporter": "python",
   "pygments_lexer": "ipython3",
   "version": "3.11.0"
  },
  "orig_nbformat": 4,
  "vscode": {
   "interpreter": {
    "hash": "a347ab4df1061e535580722696a62870728902da830764bb1a2352bf3b84b579"
   }
  }
 },
 "nbformat": 4,
 "nbformat_minor": 2
}
