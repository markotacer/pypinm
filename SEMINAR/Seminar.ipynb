{
 "cells": [
  {
   "cell_type": "markdown",
   "metadata": {},
   "source": [
    "# Vpliv nevzmetene mase in-wheel pogona na dinamiko vožnje\n",
    "Doc. dr. Martin Česnik"
   ]
  },
  {
   "cell_type": "markdown",
   "metadata": {},
   "source": [
    "## Navodila"
   ]
  },
  {
   "cell_type": "markdown",
   "metadata": {},
   "source": [
    "Pri uporabi elektromotorjev, integriranih v platišče avtomobil, je eden ključnih pomislekov vpliv povečanja mase kolesa na dinamiko vožnje. Masa kolesa se namreč smatra kot nevzmetena masa, ker je togost pnevmatike bistveno višja od togosti avtomobilske vzmeti. V sklopu seminarske naloge naj se postavi model kinematsko vzbujanega sistema z dvema prostostnima stopnjama, ki ponazarja sistem cesta - avtomobilsko kolo - šasija. \n",
    "**Preko principov konvolucije, Fourierjeve vrste in pristopa z numerično integracijo** naj se izračunajo in ovrednotijo vplivi povečanja nevzmetene mase na vibracije, ki jih čuti voznik (šasija) in kolo."
   ]
  },
  {
   "cell_type": "markdown",
   "metadata": {},
   "source": [
    "## Teorija"
   ]
  },
  {
   "cell_type": "markdown",
   "metadata": {},
   "source": [
    "### Vibroizolacija - DTT"
   ]
  },
  {
   "cell_type": "markdown",
   "metadata": {},
   "source": [
    "Sistem z maso $m$, togstjo in dušilnostjo vibroizolacije $k$ in $d$. Zanima nas $x(t)$ sistema pri vzbujanju podlage $y(t)$\n",
    "$$y(t) = Y cos (\\omega \\ t)$$"
   ]
  },
  {
   "cell_type": "markdown",
   "metadata": {},
   "source": [
    "Predpostavki:\n",
    "$$x > y$$\n",
    "$$\\dot x > \\dot{y} $$"
   ]
  },
  {
   "cell_type": "markdown",
   "metadata": {},
   "source": [
    "$$\\sum_{i = 1}^{N} F_{ix} \\Rightarrow m  \\ddot{x} = -k (x-y) - d (\\dot{x} - \\dot{y}) $$\n",
    "$$m \\ddot{x} + d \\dot{x} + k x = ky + d \\dot{y}$$"
   ]
  },
  {
   "cell_type": "markdown",
   "metadata": {},
   "source": [
    "$$y(t) = Y cos(\\omega \\ t) $$\n",
    "$$e^{\\pm i \\varphi} = cos(\\varphi) \\pm sin(\\varphi)$$\n",
    "$$y(t) = Y \\ e^{i \\omega t}$$"
   ]
  },
  {
   "cell_type": "markdown",
   "metadata": {},
   "source": [
    "Nastavek za $x(t)$:\n",
    "$$x(t) = X \\cdot e^{i (\\omega t - \\varphi)}$$\n",
    "$$\\dot{x}(t) = i \\omega \\ x(t) = i \\omega \\ X \\cdot e^{i (\\omega t - \\varphi)}$$\n",
    "$$x(t) = {\\omega}^2 \\ x(t) = {\\omega}^2 \\ X \\cdot e^{i (\\omega t - \\varphi)}$$"
   ]
  },
  {
   "cell_type": "markdown",
   "metadata": {},
   "source": [
    "$$(-m \\ \\omega^2 + i \\ d \\ \\omega + k) \\ X \\ e^{-i \\varphi} e^{-i \\omega t} = (k + i \\ d \\ \\omega) \\ Y \\ e^{-i \\omega t}$$\n",
    "Črtamo: $e^{-i \\omega t}$ in preuredimo\n",
    "$$|\\frac{e^{-i \\varphi} \\ X}{Y}|= |\\frac{k + i \\ d \\ \\omega}{-m \\ \\omega^2 + i \\ d \\ \\omega + k}| \\Rightarrow |e^{-i \\varphi}| = 1$$\n",
    "$$\\frac{X}{Y} = \\frac{\\sqrt{k^2 +  (d \\ \\omega)^2}}{\\sqrt{(k - m \\ \\omega)^2 +  (d \\ \\omega)^2}} $$\n",
    "dobimo izraz za dimenzioniranje vibroizolacije."
   ]
  },
  {
   "cell_type": "markdown",
   "metadata": {},
   "source": [
    "$$\\frac{d \\ w}{k} = 2 \\delta \\frac{\\omega}{\\omega_0}$$\n",
    "Brezdimenzijska oblika:\n",
    "$$|\\frac{X}{Y}| = \\frac{\\sqrt{1 +  (2 \\delta \\frac{\\omega}{\\omega_0})^2}} \n",
    "{\\sqrt{(1 - \\frac{\\omega}{\\omega_0})^2 +  (2 \\delta \\frac{\\omega}{\\omega_0})^2}} $$\n"
   ]
  },
  {
   "cell_type": "markdown",
   "metadata": {},
   "source": []
  },
  {
   "cell_type": "markdown",
   "metadata": {},
   "source": [
    "### VSDM"
   ]
  },
  {
   "cell_type": "markdown",
   "metadata": {},
   "source": []
  }
 ],
 "metadata": {
  "kernelspec": {
   "display_name": "Python 3.8.7 64-bit",
   "language": "python",
   "name": "python3"
  },
  "language_info": {
   "name": "python",
   "version": "3.8.7"
  },
  "orig_nbformat": 4,
  "vscode": {
   "interpreter": {
    "hash": "a13cc3bb6373b870db9a0afd93a54b4026a8ffc6cd1ac7562bafe5ee3e7fee4d"
   }
  }
 },
 "nbformat": 4,
 "nbformat_minor": 2
}
