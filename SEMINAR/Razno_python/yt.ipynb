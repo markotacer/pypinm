{
 "cells": [
  {
   "cell_type": "code",
   "execution_count": 1,
   "metadata": {},
   "outputs": [
    {
     "name": "stdout",
     "output_type": "stream",
     "text": [
      "Requirement already satisfied: pytube in c:\\users\\marko\\appdata\\local\\programs\\python\\python38\\lib\\site-packages (12.1.0)\n",
      "\n",
      "[notice] A new release of pip available: 22.2 -> 22.3.1\n",
      "[notice] To update, run: python.exe -m pip install --upgrade pip\n"
     ]
    }
   ],
   "source": [
    "!pip install pytube\n",
    "from pytube import YouTube  "
   ]
  },
  {
   "cell_type": "markdown",
   "metadata": {},
   "source": [
    "This youtube_obj creates the various streams from the YouTube video URL. Using the below code, we can get all the stream information."
   ]
  },
  {
   "cell_type": "code",
   "execution_count": 2,
   "metadata": {},
   "outputs": [],
   "source": [
    "DOWNLOAD_PATH = \" F:/05_MAG/Predmeti S1/PAPM_Programski Algoritmi In Protokoli\"  "
   ]
  },
  {
   "cell_type": "code",
   "execution_count": 3,
   "metadata": {},
   "outputs": [],
   "source": [
    "video_url = 'https://www.youtube.com/watch?v=wIM8ko0zsyk'  \n",
    "youtube_obj = YouTube(video_url) "
   ]
  },
  {
   "cell_type": "code",
   "execution_count": 4,
   "metadata": {},
   "outputs": [
    {
     "name": "stdout",
     "output_type": "stream",
     "text": [
      "<Stream: itag=\"17\" mime_type=\"video/3gpp\" res=\"144p\" fps=\"6fps\" vcodec=\"mp4v.20.3\" acodec=\"mp4a.40.2\" progressive=\"True\" type=\"video\">\n",
      "<Stream: itag=\"18\" mime_type=\"video/mp4\" res=\"360p\" fps=\"25fps\" vcodec=\"avc1.42001E\" acodec=\"mp4a.40.2\" progressive=\"True\" type=\"video\">\n",
      "<Stream: itag=\"22\" mime_type=\"video/mp4\" res=\"720p\" fps=\"25fps\" vcodec=\"avc1.64001F\" acodec=\"mp4a.40.2\" progressive=\"True\" type=\"video\">\n",
      "<Stream: itag=\"313\" mime_type=\"video/webm\" res=\"2160p\" fps=\"25fps\" vcodec=\"vp9\" progressive=\"False\" type=\"video\">\n",
      "<Stream: itag=\"271\" mime_type=\"video/webm\" res=\"1440p\" fps=\"25fps\" vcodec=\"vp9\" progressive=\"False\" type=\"video\">\n",
      "<Stream: itag=\"137\" mime_type=\"video/mp4\" res=\"1080p\" fps=\"25fps\" vcodec=\"avc1.640028\" progressive=\"False\" type=\"video\">\n",
      "<Stream: itag=\"248\" mime_type=\"video/webm\" res=\"1080p\" fps=\"25fps\" vcodec=\"vp9\" progressive=\"False\" type=\"video\">\n",
      "<Stream: itag=\"136\" mime_type=\"video/mp4\" res=\"720p\" fps=\"25fps\" vcodec=\"avc1.64001f\" progressive=\"False\" type=\"video\">\n",
      "<Stream: itag=\"247\" mime_type=\"video/webm\" res=\"720p\" fps=\"25fps\" vcodec=\"vp9\" progressive=\"False\" type=\"video\">\n",
      "<Stream: itag=\"135\" mime_type=\"video/mp4\" res=\"480p\" fps=\"25fps\" vcodec=\"avc1.4d401e\" progressive=\"False\" type=\"video\">\n",
      "<Stream: itag=\"244\" mime_type=\"video/webm\" res=\"480p\" fps=\"25fps\" vcodec=\"vp9\" progressive=\"False\" type=\"video\">\n",
      "<Stream: itag=\"134\" mime_type=\"video/mp4\" res=\"360p\" fps=\"25fps\" vcodec=\"avc1.4d4015\" progressive=\"False\" type=\"video\">\n",
      "<Stream: itag=\"243\" mime_type=\"video/webm\" res=\"360p\" fps=\"25fps\" vcodec=\"vp9\" progressive=\"False\" type=\"video\">\n",
      "<Stream: itag=\"133\" mime_type=\"video/mp4\" res=\"240p\" fps=\"25fps\" vcodec=\"avc1.4d400d\" progressive=\"False\" type=\"video\">\n",
      "<Stream: itag=\"242\" mime_type=\"video/webm\" res=\"240p\" fps=\"25fps\" vcodec=\"vp9\" progressive=\"False\" type=\"video\">\n",
      "<Stream: itag=\"160\" mime_type=\"video/mp4\" res=\"144p\" fps=\"25fps\" vcodec=\"avc1.4d400b\" progressive=\"False\" type=\"video\">\n",
      "<Stream: itag=\"278\" mime_type=\"video/webm\" res=\"144p\" fps=\"25fps\" vcodec=\"vp9\" progressive=\"False\" type=\"video\">\n",
      "<Stream: itag=\"139\" mime_type=\"audio/mp4\" abr=\"48kbps\" acodec=\"mp4a.40.5\" progressive=\"False\" type=\"audio\">\n",
      "<Stream: itag=\"140\" mime_type=\"audio/mp4\" abr=\"128kbps\" acodec=\"mp4a.40.2\" progressive=\"False\" type=\"audio\">\n",
      "<Stream: itag=\"249\" mime_type=\"audio/webm\" abr=\"50kbps\" acodec=\"opus\" progressive=\"False\" type=\"audio\">\n",
      "<Stream: itag=\"250\" mime_type=\"audio/webm\" abr=\"70kbps\" acodec=\"opus\" progressive=\"False\" type=\"audio\">\n",
      "<Stream: itag=\"251\" mime_type=\"audio/webm\" abr=\"160kbps\" acodec=\"opus\" progressive=\"False\" type=\"audio\">\n"
     ]
    }
   ],
   "source": [
    "for stream in youtube_obj.streams:  \n",
    "    print(stream) "
   ]
  },
  {
   "cell_type": "markdown",
   "metadata": {},
   "source": [
    "Then get the proper extension and resolution of the video. After doing this, we will use the download() method that takes the one parameter, a file download location."
   ]
  },
  {
   "cell_type": "code",
   "execution_count": 5,
   "metadata": {},
   "outputs": [
    {
     "ename": "AttributeError",
     "evalue": "'Stream' object has no attribute 'fps'",
     "output_type": "error",
     "traceback": [
      "\u001b[1;31m---------------------------------------------------------------------------\u001b[0m",
      "\u001b[1;31mAttributeError\u001b[0m                            Traceback (most recent call last)",
      "\u001b[1;32mc:\\Users\\marko\\ProgramskiAlgoritmiInProtokoli\\VSDM\\SEMINAR\\Razno_python\\yt.ipynb Cell 7\u001b[0m in \u001b[0;36m<cell line: 1>\u001b[1;34m()\u001b[0m\n\u001b[1;32m----> <a href='vscode-notebook-cell:/c%3A/Users/marko/ProgramskiAlgoritmiInProtokoli/VSDM/SEMINAR/Razno_python/yt.ipynb#W4sZmlsZQ%3D%3D?line=0'>1</a>\u001b[0m mp4files \u001b[39m=\u001b[39m youtube_obj\u001b[39m.\u001b[39;49mstreams\u001b[39m.\u001b[39;49mfilter(\u001b[39m'\u001b[39;49m\u001b[39mmp4\u001b[39;49m\u001b[39m'\u001b[39;49m)  \n\u001b[0;32m      <a href='vscode-notebook-cell:/c%3A/Users/marko/ProgramskiAlgoritmiInProtokoli/VSDM/SEMINAR/Razno_python/yt.ipynb#W4sZmlsZQ%3D%3D?line=1'>2</a>\u001b[0m youtube_obj\u001b[39m.\u001b[39mset_filename(\u001b[39m'\u001b[39m\u001b[39mUrejanje (Bubblesort), uvod v STL\u001b[39m\u001b[39m'\u001b[39m)  \n\u001b[0;32m      <a href='vscode-notebook-cell:/c%3A/Users/marko/ProgramskiAlgoritmiInProtokoli/VSDM/SEMINAR/Razno_python/yt.ipynb#W4sZmlsZQ%3D%3D?line=2'>3</a>\u001b[0m d_video \u001b[39m=\u001b[39m youtube_obj\u001b[39m.\u001b[39mget(mp4files[\u001b[39m-\u001b[39m\u001b[39m1\u001b[39m]\u001b[39m.\u001b[39mextension,mp4files[\u001b[39m-\u001b[39m\u001b[39m1\u001b[39m]\u001b[39m.\u001b[39mresolution)\n",
      "File \u001b[1;32mc:\\Users\\marko\\AppData\\Local\\Programs\\Python\\Python38\\lib\\site-packages\\pytube\\query.py:175\u001b[0m, in \u001b[0;36mStreamQuery.filter\u001b[1;34m(self, fps, res, resolution, mime_type, type, subtype, file_extension, abr, bitrate, video_codec, audio_codec, only_audio, only_video, progressive, adaptive, is_dash, custom_filter_functions)\u001b[0m\n\u001b[0;32m    172\u001b[0m \u001b[39mif\u001b[39;00m is_dash \u001b[39mis\u001b[39;00m \u001b[39mnot\u001b[39;00m \u001b[39mNone\u001b[39;00m:\n\u001b[0;32m    173\u001b[0m     filters\u001b[39m.\u001b[39mappend(\u001b[39mlambda\u001b[39;00m s: s\u001b[39m.\u001b[39mis_dash \u001b[39m==\u001b[39m is_dash)\n\u001b[1;32m--> 175\u001b[0m \u001b[39mreturn\u001b[39;00m \u001b[39mself\u001b[39;49m\u001b[39m.\u001b[39;49m_filter(filters)\n",
      "File \u001b[1;32mc:\\Users\\marko\\AppData\\Local\\Programs\\Python\\Python38\\lib\\site-packages\\pytube\\query.py:181\u001b[0m, in \u001b[0;36mStreamQuery._filter\u001b[1;34m(self, filters)\u001b[0m\n\u001b[0;32m    179\u001b[0m \u001b[39mfor\u001b[39;00m filter_lambda \u001b[39min\u001b[39;00m filters:\n\u001b[0;32m    180\u001b[0m     fmt_streams \u001b[39m=\u001b[39m \u001b[39mfilter\u001b[39m(filter_lambda, fmt_streams)\n\u001b[1;32m--> 181\u001b[0m \u001b[39mreturn\u001b[39;00m StreamQuery(\u001b[39mlist\u001b[39;49m(fmt_streams))\n",
      "File \u001b[1;32mc:\\Users\\marko\\AppData\\Local\\Programs\\Python\\Python38\\lib\\site-packages\\pytube\\query.py:129\u001b[0m, in \u001b[0;36mStreamQuery.filter.<locals>.<lambda>\u001b[1;34m(s)\u001b[0m\n\u001b[0;32m    126\u001b[0m     filters\u001b[39m.\u001b[39mappend(\u001b[39mlambda\u001b[39;00m s: s\u001b[39m.\u001b[39mresolution \u001b[39m==\u001b[39m (res \u001b[39mor\u001b[39;00m resolution))\n\u001b[0;32m    128\u001b[0m \u001b[39mif\u001b[39;00m fps:\n\u001b[1;32m--> 129\u001b[0m     filters\u001b[39m.\u001b[39mappend(\u001b[39mlambda\u001b[39;00m s: s\u001b[39m.\u001b[39;49mfps \u001b[39m==\u001b[39m fps)\n\u001b[0;32m    131\u001b[0m \u001b[39mif\u001b[39;00m mime_type:\n\u001b[0;32m    132\u001b[0m     filters\u001b[39m.\u001b[39mappend(\u001b[39mlambda\u001b[39;00m s: s\u001b[39m.\u001b[39mmime_type \u001b[39m==\u001b[39m mime_type)\n",
      "\u001b[1;31mAttributeError\u001b[0m: 'Stream' object has no attribute 'fps'"
     ]
    }
   ],
   "source": [
    "mp4files = youtube_obj.streams.filter('mp4')  \n",
    "youtube_obj.set_filename('Urejanje (Bubblesort), uvod v STL')  \n",
    "d_video = youtube_obj.get(mp4files[-1].extension,mp4files[-1].resolution) "
   ]
  },
  {
   "cell_type": "code",
   "execution_count": null,
   "metadata": {},
   "outputs": [
    {
     "name": "stdout",
     "output_type": "stream",
     "text": [
      "The is Some Error!\n",
      "Task is Completed!\n"
     ]
    }
   ],
   "source": [
    "try:  \n",
    "    # downloading the video  \n",
    "    d_video.download(DOWNLOAD_PATH)  \n",
    "except:  \n",
    "    print(\"The is Some Error!\")  \n",
    "print('Task is Completed!')  "
   ]
  },
  {
   "cell_type": "code",
   "execution_count": 7,
   "metadata": {},
   "outputs": [
    {
     "ename": "AttributeError",
     "evalue": "'Stream' object has no attribute 'fps'",
     "output_type": "error",
     "traceback": [
      "\u001b[1;31m---------------------------------------------------------------------------\u001b[0m",
      "\u001b[1;31mAttributeError\u001b[0m                            Traceback (most recent call last)",
      "\u001b[1;32mc:\\Users\\marko\\ProgramskiAlgoritmiInProtokoli\\VSDM\\SEMINAR\\Razno_python\\yt.ipynb Cell 9\u001b[0m in \u001b[0;36m<cell line: 13>\u001b[1;34m()\u001b[0m\n\u001b[0;32m     <a href='vscode-notebook-cell:/c%3A/Users/marko/ProgramskiAlgoritmiInProtokoli/VSDM/SEMINAR/Razno_python/yt.ipynb#X12sZmlsZQ%3D%3D?line=10'>11</a>\u001b[0m     \u001b[39mprint\u001b[39m(\u001b[39m\"\u001b[39m\u001b[39mConnection Error\u001b[39m\u001b[39m\"\u001b[39m) \u001b[39m#to handle exception  \u001b[39;00m\n\u001b[0;32m     <a href='vscode-notebook-cell:/c%3A/Users/marko/ProgramskiAlgoritmiInProtokoli/VSDM/SEMINAR/Razno_python/yt.ipynb#X12sZmlsZQ%3D%3D?line=11'>12</a>\u001b[0m \u001b[39m# filters out all the files with \"mp4\" extension  \u001b[39;00m\n\u001b[1;32m---> <a href='vscode-notebook-cell:/c%3A/Users/marko/ProgramskiAlgoritmiInProtokoli/VSDM/SEMINAR/Razno_python/yt.ipynb#X12sZmlsZQ%3D%3D?line=12'>13</a>\u001b[0m mp4files \u001b[39m=\u001b[39m youtube_obj\u001b[39m.\u001b[39;49mstreams\u001b[39m.\u001b[39;49mfilter(\u001b[39m'\u001b[39;49m\u001b[39mmp4\u001b[39;49m\u001b[39m'\u001b[39;49m)  \n\u001b[0;32m     <a href='vscode-notebook-cell:/c%3A/Users/marko/ProgramskiAlgoritmiInProtokoli/VSDM/SEMINAR/Razno_python/yt.ipynb#X12sZmlsZQ%3D%3D?line=13'>14</a>\u001b[0m \u001b[39m#to set the name of the file  \u001b[39;00m\n\u001b[0;32m     <a href='vscode-notebook-cell:/c%3A/Users/marko/ProgramskiAlgoritmiInProtokoli/VSDM/SEMINAR/Razno_python/yt.ipynb#X12sZmlsZQ%3D%3D?line=14'>15</a>\u001b[0m youtube_obj\u001b[39m.\u001b[39mset_filename(\u001b[39m'\u001b[39m\u001b[39mDownloaded Video\u001b[39m\u001b[39m'\u001b[39m)  \n",
      "File \u001b[1;32mc:\\Users\\marko\\AppData\\Local\\Programs\\Python\\Python38\\lib\\site-packages\\pytube\\query.py:175\u001b[0m, in \u001b[0;36mStreamQuery.filter\u001b[1;34m(self, fps, res, resolution, mime_type, type, subtype, file_extension, abr, bitrate, video_codec, audio_codec, only_audio, only_video, progressive, adaptive, is_dash, custom_filter_functions)\u001b[0m\n\u001b[0;32m    172\u001b[0m \u001b[39mif\u001b[39;00m is_dash \u001b[39mis\u001b[39;00m \u001b[39mnot\u001b[39;00m \u001b[39mNone\u001b[39;00m:\n\u001b[0;32m    173\u001b[0m     filters\u001b[39m.\u001b[39mappend(\u001b[39mlambda\u001b[39;00m s: s\u001b[39m.\u001b[39mis_dash \u001b[39m==\u001b[39m is_dash)\n\u001b[1;32m--> 175\u001b[0m \u001b[39mreturn\u001b[39;00m \u001b[39mself\u001b[39;49m\u001b[39m.\u001b[39;49m_filter(filters)\n",
      "File \u001b[1;32mc:\\Users\\marko\\AppData\\Local\\Programs\\Python\\Python38\\lib\\site-packages\\pytube\\query.py:181\u001b[0m, in \u001b[0;36mStreamQuery._filter\u001b[1;34m(self, filters)\u001b[0m\n\u001b[0;32m    179\u001b[0m \u001b[39mfor\u001b[39;00m filter_lambda \u001b[39min\u001b[39;00m filters:\n\u001b[0;32m    180\u001b[0m     fmt_streams \u001b[39m=\u001b[39m \u001b[39mfilter\u001b[39m(filter_lambda, fmt_streams)\n\u001b[1;32m--> 181\u001b[0m \u001b[39mreturn\u001b[39;00m StreamQuery(\u001b[39mlist\u001b[39;49m(fmt_streams))\n",
      "File \u001b[1;32mc:\\Users\\marko\\AppData\\Local\\Programs\\Python\\Python38\\lib\\site-packages\\pytube\\query.py:129\u001b[0m, in \u001b[0;36mStreamQuery.filter.<locals>.<lambda>\u001b[1;34m(s)\u001b[0m\n\u001b[0;32m    126\u001b[0m     filters\u001b[39m.\u001b[39mappend(\u001b[39mlambda\u001b[39;00m s: s\u001b[39m.\u001b[39mresolution \u001b[39m==\u001b[39m (res \u001b[39mor\u001b[39;00m resolution))\n\u001b[0;32m    128\u001b[0m \u001b[39mif\u001b[39;00m fps:\n\u001b[1;32m--> 129\u001b[0m     filters\u001b[39m.\u001b[39mappend(\u001b[39mlambda\u001b[39;00m s: s\u001b[39m.\u001b[39;49mfps \u001b[39m==\u001b[39m fps)\n\u001b[0;32m    131\u001b[0m \u001b[39mif\u001b[39;00m mime_type:\n\u001b[0;32m    132\u001b[0m     filters\u001b[39m.\u001b[39mappend(\u001b[39mlambda\u001b[39;00m s: s\u001b[39m.\u001b[39mmime_type \u001b[39m==\u001b[39m mime_type)\n",
      "\u001b[1;31mAttributeError\u001b[0m: 'Stream' object has no attribute 'fps'"
     ]
    }
   ],
   "source": [
    "# importing the module  \n",
    "from pytube import YouTube  \n",
    "# download location of the file  \n",
    "DOWNLOAD_PATH = \" C:/Users/marko/Desktop/\"   \n",
    "# link of the video to be downloaded  \n",
    "link='https://www.youtube.com/watch?v=wIM8ko0zsyk'\n",
    "try:  \n",
    "    # creating youtube object using YouTube  \n",
    "    youtube_obj = YouTube(link)  \n",
    "except:  \n",
    "    print(\"Connection Error\") #to handle exception  \n",
    "# filters out all the files with \"mp4\" extension  \n",
    "mp4files = youtube_obj.streams.filter('mp4')  \n",
    "#to set the name of the file  \n",
    "youtube_obj.set_filename('Downloaded Video')  \n",
    "# get the video with the extension and  \n",
    "# resolution passed in the get() function  \n",
    "d_video = youtube_obj.get(mp4files[-1].extension,mp4files[-1].resolution)  \n",
    "try:  \n",
    "    # downloading the video  \n",
    "    d_video.download(DOWNLOAD_PATH)  \n",
    "except:  \n",
    "    print(\"The is Some Error!\")  \n",
    "print('Task is Completed!')  "
   ]
  },
  {
   "cell_type": "code",
   "execution_count": null,
   "metadata": {},
   "outputs": [],
   "source": []
  }
 ],
 "metadata": {
  "kernelspec": {
   "display_name": "Python 3.8.7 64-bit",
   "language": "python",
   "name": "python3"
  },
  "language_info": {
   "codemirror_mode": {
    "name": "ipython",
    "version": 3
   },
   "file_extension": ".py",
   "mimetype": "text/x-python",
   "name": "python",
   "nbconvert_exporter": "python",
   "pygments_lexer": "ipython3",
   "version": "3.8.7"
  },
  "orig_nbformat": 4,
  "vscode": {
   "interpreter": {
    "hash": "a13cc3bb6373b870db9a0afd93a54b4026a8ffc6cd1ac7562bafe5ee3e7fee4d"
   }
  }
 },
 "nbformat": 4,
 "nbformat_minor": 2
}
