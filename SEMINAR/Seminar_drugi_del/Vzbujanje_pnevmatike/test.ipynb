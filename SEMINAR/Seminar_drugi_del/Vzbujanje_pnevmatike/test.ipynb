{
 "cells": [
  {
   "cell_type": "code",
   "execution_count": 34,
   "metadata": {},
   "outputs": [],
   "source": [
    "import numpy as np\n",
    "import matplotlib.pyplot as plt\n",
    "import funkcije_seminar as f"
   ]
  },
  {
   "cell_type": "code",
   "execution_count": 2,
   "metadata": {},
   "outputs": [
    {
     "name": "stdout",
     "output_type": "stream",
     "text": [
      "[0.0000e+00 1.0000e-03 2.0000e-03 ... 1.9998e+01 1.9999e+01 2.0000e+01]\n"
     ]
    }
   ],
   "source": [
    "t = f.neodvisna_spremenljivka_t(20)\n",
    "print(t)"
   ]
  },
  {
   "cell_type": "code",
   "execution_count": 3,
   "metadata": {},
   "outputs": [
    {
     "data": {
      "text/plain": [
       "5"
      ]
     },
     "execution_count": 3,
     "metadata": {},
     "output_type": "execute_result"
    }
   ],
   "source": [
    "f.sum(2,3)"
   ]
  },
  {
   "cell_type": "code",
   "execution_count": 14,
   "metadata": {},
   "outputs": [
    {
     "data": {
      "text/plain": [
       "array([[1., 0., 0.],\n",
       "       [0., 2., 0.],\n",
       "       [0., 0., 5.]])"
      ]
     },
     "execution_count": 14,
     "metadata": {},
     "output_type": "execute_result"
    }
   ],
   "source": [
    "#create empty matrix 3x3\n",
    "A = np.zeros((3,3))\n",
    "A[0,0] = 3;\n",
    "A[0, 1] = -1;\n",
    "A[0, 2] = 0;\n",
    "A[1, 0] = -1/2;\n",
    "A[1, 1] = 2;\n",
    "A[1, 2] = -3/2;\n",
    "A[2, 0] = 0;\n",
    "A[2, 1] = -3/5;\n",
    "A[2, 2] = 3/5;\n",
    "M = np.zeros((3,3))\n",
    "M[0,0] = 1\n",
    "M[1,1] = 2\n",
    "M[2,2] = 5\n",
    "M"
   ]
  },
  {
   "cell_type": "code",
   "execution_count": 20,
   "metadata": {},
   "outputs": [
    {
     "name": "stdout",
     "output_type": "stream",
     "text": [
      "[[-0.91076631 -0.70648308  0.21820598]\n",
      " [ 0.40402635 -0.65539688  0.63627162]\n",
      " [-0.08524927  0.26708911  0.73996255]]\n"
     ]
    },
    {
     "data": {
      "text/plain": [
       "array([[-2.254225  ,  1.07794697,  0.3429447 ],\n",
       "       [ 1.        ,  1.        ,  1.        ],\n",
       "       [-0.21099929, -0.40752271,  1.16296645]])"
      ]
     },
     "execution_count": 20,
     "metadata": {},
     "output_type": "execute_result"
    }
   ],
   "source": [
    "# calculate eigenvalues and eigenvectors of matrix A\n",
    "eigval, eigvec = np.linalg.eig(A)\n",
    "print(eigvec)\n",
    "eigvec[:,0] = eigvec[:,0]/eigvec[1,0]\n",
    "eigvec[:,1] = eigvec[:,1]/eigvec[1,1]\n",
    "eigvec[:,2] = eigvec[:,2]/eigvec[1,2]\n",
    "eigvec\n"
   ]
  },
  {
   "cell_type": "code",
   "execution_count": 33,
   "metadata": {},
   "outputs": [
    {
     "data": {
      "text/plain": [
       "array([[ 0.3429447 ,  1.07794697, -2.254225  ],\n",
       "       [ 1.        ,  1.        ,  1.        ],\n",
       "       [ 1.16296645, -0.40752271, -0.21099929]])"
      ]
     },
     "execution_count": 33,
     "metadata": {},
     "output_type": "execute_result"
    }
   ],
   "source": [
    "eigvec\n",
    "#column 3 of eigvec is eigvec2 column 1\n",
    "eigvec2 =np.zeros((3,3))\n",
    "X1 = eigvec2[:,0] = eigvec[:,2]\n",
    "X2 = eigvec2[:,2] = eigvec[:,0]\n",
    "X3 = eigvec2[:,1] = eigvec[:,1]\n",
    "eigvec2"
   ]
  },
  {
   "cell_type": "code",
   "execution_count": 24,
   "metadata": {},
   "outputs": [
    {
     "data": {
      "text/plain": [
       "(array([[1., 0., 0.],\n",
       "        [0., 2., 0.],\n",
       "        [0., 0., 5.]]),\n",
       " array([[ 3., -1.,  0.],\n",
       "        [-1.,  4., -3.],\n",
       "        [ 0., -3.,  3.]]))"
      ]
     },
     "execution_count": 24,
     "metadata": {},
     "output_type": "execute_result"
    }
   ],
   "source": [
    "M = np.zeros((3,3))\n",
    "M[0,0] = 1\n",
    "M[1,1] = 2\n",
    "M[2,2] = 5\n",
    "K = np.zeros((3,3))\n",
    "K[0,0] = 3\n",
    "K[0, 1] = -1\n",
    "K[0, 2] = 0\n",
    "K[1, 0] = -1\n",
    "K[1,1] = 4\n",
    "K[1, 2] = -3\n",
    "K[2, 0] = 0\n",
    "K[2, 1] = -3\n",
    "K[2,2] = 3\n",
    "M, K"
   ]
  },
  {
   "cell_type": "code",
   "execution_count": 25,
   "metadata": {},
   "outputs": [
    {
     "data": {
      "text/plain": [
       "(8.880065858219432, 7.304133875909408, 3.992343475747697)"
      ]
     },
     "execution_count": 25,
     "metadata": {},
     "output_type": "execute_result"
    }
   ],
   "source": [
    "M1 = X1 @ M @ X1\n",
    "M2 = X2 @ M @ X2\n",
    "M3 = X3 @ M @ X3\n",
    "M1, M2, M3"
   ]
  },
  {
   "cell_type": "code",
   "execution_count": 26,
   "metadata": {},
   "outputs": [
    {
     "data": {
      "text/plain": [
       "(0.7466179908828808, 25.152598973534648, 8.273375628175057)"
      ]
     },
     "execution_count": 26,
     "metadata": {},
     "output_type": "execute_result"
    }
   ],
   "source": [
    "K1 = X1 @ K @ X1\n",
    "K2 = X2 @ K @ X2\n",
    "K3 = X3 @ K @ X3\n",
    "K1, K2, K3"
   ]
  },
  {
   "cell_type": "code",
   "execution_count": 27,
   "metadata": {},
   "outputs": [
    {
     "data": {
      "text/plain": [
       "array([3.44361144, 2.07231058, 0.08407798])"
      ]
     },
     "execution_count": 27,
     "metadata": {},
     "output_type": "execute_result"
    }
   ],
   "source": [
    "eigval"
   ]
  },
  {
   "cell_type": "code",
   "execution_count": 32,
   "metadata": {},
   "outputs": [
    {
     "name": "stdout",
     "output_type": "stream",
     "text": [
      "Modal mass matrix: \n",
      "[[8.88006586 0.         0.        ]\n",
      " [0.         3.99234348 0.        ]\n",
      " [0.         0.         7.30413388]]\n"
     ]
    }
   ],
   "source": [
    "modal_mass_matrix = np.zeros((3,3))\n",
    "for i in range(3):\n",
    "    modal_mass_matrix[i,i] = eigvec2[:,i].T @ M @ eigvec2[:,i]\n",
    "print(\"Modal mass matrix: \")\n",
    "print(modal_mass_matrix)"
   ]
  },
  {
   "cell_type": "code",
   "execution_count": null,
   "metadata": {},
   "outputs": [],
   "source": []
  }
 ],
 "metadata": {
  "kernelspec": {
   "display_name": "Python 3",
   "language": "python",
   "name": "python3"
  },
  "language_info": {
   "codemirror_mode": {
    "name": "ipython",
    "version": 3
   },
   "file_extension": ".py",
   "mimetype": "text/x-python",
   "name": "python",
   "nbconvert_exporter": "python",
   "pygments_lexer": "ipython3",
   "version": "3.11.0"
  },
  "orig_nbformat": 4,
  "vscode": {
   "interpreter": {
    "hash": "a347ab4df1061e535580722696a62870728902da830764bb1a2352bf3b84b579"
   }
  }
 },
 "nbformat": 4,
 "nbformat_minor": 2
}
