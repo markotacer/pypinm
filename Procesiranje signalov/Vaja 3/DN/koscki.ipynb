{
 "cells": [
  {
   "cell_type": "code",
   "execution_count": 1,
   "metadata": {},
   "outputs": [],
   "source": [
    "import numpy as np\n",
    "import matplotlib.pyplot as plt\n",
    "import lvm_read\n",
    "from scipy import signal\n",
    "from scipy.signal import find_peaks"
   ]
  },
  {
   "cell_type": "code",
   "execution_count": 2,
   "metadata": {},
   "outputs": [
    {
     "ename": "NameError",
     "evalue": "name 't' is not defined",
     "output_type": "error",
     "traceback": [
      "\u001b[1;31m---------------------------------------------------------------------------\u001b[0m",
      "\u001b[1;31mNameError\u001b[0m                                 Traceback (most recent call last)",
      "\u001b[1;32m~\\AppData\\Local\\Temp\\ipykernel_24048\\883912015.py\u001b[0m in \u001b[0;36m<module>\u001b[1;34m\u001b[0m\n\u001b[0;32m      5\u001b[0m \u001b[0mplt\u001b[0m\u001b[1;33m.\u001b[0m\u001b[0msubplot\u001b[0m\u001b[1;33m(\u001b[0m\u001b[1;36m2\u001b[0m\u001b[1;33m,\u001b[0m\u001b[1;36m2\u001b[0m\u001b[1;33m,\u001b[0m\u001b[1;36m1\u001b[0m\u001b[1;33m)\u001b[0m\u001b[1;33m\u001b[0m\u001b[1;33m\u001b[0m\u001b[0m\n\u001b[0;32m      6\u001b[0m \u001b[0mplt\u001b[0m\u001b[1;33m.\u001b[0m\u001b[0mgca\u001b[0m\u001b[1;33m(\u001b[0m\u001b[1;33m)\u001b[0m\u001b[1;33m.\u001b[0m\u001b[0mset_title\u001b[0m\u001b[1;33m(\u001b[0m\u001b[1;34m'Sinus signal'\u001b[0m\u001b[1;33m)\u001b[0m\u001b[1;33m\u001b[0m\u001b[1;33m\u001b[0m\u001b[0m\n\u001b[1;32m----> 7\u001b[1;33m \u001b[0mplt\u001b[0m\u001b[1;33m.\u001b[0m\u001b[0mplot\u001b[0m\u001b[1;33m(\u001b[0m\u001b[0mt\u001b[0m\u001b[1;33m,\u001b[0m \u001b[0mS1\u001b[0m\u001b[1;33m,\u001b[0m \u001b[0mlabel\u001b[0m\u001b[1;33m=\u001b[0m\u001b[1;34m'Sinus - meritev'\u001b[0m\u001b[1;33m)\u001b[0m\u001b[1;33m\u001b[0m\u001b[1;33m\u001b[0m\u001b[0m\n\u001b[0m\u001b[0;32m      8\u001b[0m \u001b[0mplt\u001b[0m\u001b[1;33m.\u001b[0m\u001b[0mplot\u001b[0m\u001b[1;33m(\u001b[0m\u001b[0mt\u001b[0m\u001b[1;33m,\u001b[0m \u001b[0mS12\u001b[0m\u001b[1;33m,\u001b[0m \u001b[1;34m'--'\u001b[0m\u001b[1;33m,\u001b[0m \u001b[0mlabel\u001b[0m\u001b[1;33m=\u001b[0m\u001b[1;34m'Sinus - teoretičen'\u001b[0m\u001b[1;33m)\u001b[0m\u001b[1;33m\u001b[0m\u001b[1;33m\u001b[0m\u001b[0m\n\u001b[0;32m      9\u001b[0m \u001b[0mplt\u001b[0m\u001b[1;33m.\u001b[0m\u001b[0mxlabel\u001b[0m\u001b[1;33m(\u001b[0m\u001b[1;34m'čas [s]'\u001b[0m\u001b[1;33m)\u001b[0m\u001b[1;33m\u001b[0m\u001b[1;33m\u001b[0m\u001b[0m\n",
      "\u001b[1;31mNameError\u001b[0m: name 't' is not defined"
     ]
    },
    {
     "data": {
      "image/png": "[encoded data removed]",
      "text/plain": [
       "<Figure size 1200x800 with 1 Axes>"
      ]
     },
     "metadata": {},
     "output_type": "display_data"
    }
   ],
   "source": [
    "fig = plt.figure(figsize=(12, 8))\n",
    "plt.subplots_adjust(wspace=0.2,\n",
    "                    hspace=0.7)\n",
    "\n",
    "plt.subplot(2,2,1)\n",
    "plt.gca().set_title('Sinus signal')\n",
    "plt.plot(t, S1, label='Sinus - meritev')\n",
    "plt.plot(t, S12, '--', label='Sinus - teoretičen')\n",
    "plt.xlabel('čas [s]')\n",
    "plt.ylabel('napetost [V]')\n",
    "plt.legend(loc='lower right')\n",
    "plt.grid()\n",
    "plt.ylim(1, 2.7)\n",
    "\n",
    "plt.subplot(2,2,2)\n",
    "plt.gca().set_title('Square signal')\n",
    "plt.plot(t, S2, label='Square - meritev')\n",
    "plt.plot(t, S22, '--', label='Square - teoretičen')\n",
    "plt.xlabel('čas [s]')\n",
    "plt.ylabel('napetost [V]')\n",
    "plt.legend(loc='lower right')\n",
    "plt.grid()\n",
    "plt.ylim(1, 2.7)\n",
    "plt.show()"
   ]
  },
  {
   "cell_type": "code",
   "execution_count": 3,
   "metadata": {},
   "outputs": [],
   "source": [
    "# fig = plt.figure(figsize=(10, 10))\n",
    "# plt.subplots_adjust(\n",
    "#                     # left=0.1,\n",
    "#                     # bottom=0.1,\n",
    "#                     # right=0.9,\n",
    "#                     # top=0.9,\n",
    "#                     wspace=0.2,\n",
    "#                     hspace=0.7)\n",
    "\n",
    "# plt.subplot(4,2,1)\n",
    "# plt.gca().set_title('Sin signal')\n",
    "# plt.plot(t, kanal_1_sin, label='kanal 1')\n",
    "# plt.plot(t, kanal_2_sin, label='kanal 2', alpha=0.5)\n",
    "# plt.xlabel('čas [s]')\n",
    "# plt.ylabel('napetost [V]')\n",
    "# L1 = int(0.25*len(t))\n",
    "# plt.xlim(0, t[L1])\n",
    "# plt.hlines(A1_sin, 0, 50, linestyles=\"dashed\", color='C3', alpha=0.2)\n",
    "# plt.hlines(A2_sin, 0, 50, linestyles=\"dashed\", color='C3', alpha=0.2)\n",
    "# plt.hlines(offset_sin, 0, 50, linestyles=\"dashed\", color='C3', alpha=0.2)\n",
    "# plt.legend(loc='lower right')\n",
    "\n",
    "# Tp = t[-1]\n",
    "# plt.subplot(4,2,2)\n",
    "# plt.gca().set_title('Sin signal - celotna meritev')\n",
    "# plt.plot(t, kanal_1_sin, label='kanal 1')\n",
    "# plt.plot(t, kanal_2_sin, label='kanal 2', alpha=0.5)\n",
    "# plt.xlabel('čas [s]')\n",
    "# plt.ylabel('napetost [V]')\n",
    "# plt.xlim(0, Tp)\n",
    "# plt.hlines(A1_sin, 0, Tp, linestyles=\"dashed\", color='C3', alpha=0.2)\n",
    "# plt.hlines(A2_sin, 0, Tp, linestyles=\"dashed\", color='C3', alpha=0.2)\n",
    "# plt.hlines(offset_sin, 0, Tp, linestyles=\"dashed\", color='C3', alpha=0.2)\n",
    "# plt.legend(loc='lower right')\n",
    "\n",
    "# plt.subplot(4,2,3)\n",
    "# plt.gca().set_title('Square signal')\n",
    "# plt.plot(t, kanal_1_square, label='kanal 1')\n",
    "# plt.plot(t, kanal_2_square, label='kanal 2', alpha=0.5)\n",
    "# plt.xlabel('čas [s]')\n",
    "# plt.ylabel('napetost [V]')\n",
    "# L1 = int(0.25*len(t))\n",
    "# plt.xlim(0, t[L1])\n",
    "# plt.hlines(A1_square, 0, 50, linestyles=\"dashed\", color='C3', alpha=0.2)\n",
    "# plt.hlines(A2_square, 0, 50, linestyles=\"dashed\", color='C3', alpha=0.2)\n",
    "# plt.hlines(offset_square, 0, 50, linestyles=\"dashed\", color='C3', alpha=0.2)\n",
    "# plt.legend(loc='lower right')\n",
    "\n",
    "# Tp = t[-1]\n",
    "# plt.subplot(4,2,4)\n",
    "# plt.gca().set_title('Square signal - celotna meritev')\n",
    "# plt.plot(t, kanal_1_square, label='kanal 1')\n",
    "# plt.plot(t, kanal_2_square, label='kanal 2', alpha=0.5)\n",
    "# plt.xlabel('čas [s]')\n",
    "# plt.ylabel('napetost [V]')\n",
    "# plt.xlim(0, Tp)\n",
    "# plt.hlines(A1_square, 0, Tp, linestyles=\"dashed\", color='C3', alpha=0.2)\n",
    "# plt.hlines(A2_square, 0, Tp, linestyles=\"dashed\", color='C3', alpha=0.2)\n",
    "# plt.hlines(offset_square, 0, Tp, linestyles=\"dashed\", color='C3', alpha=0.2)\n",
    "# plt.legend(loc='lower right')\n",
    "\n",
    "# plt.show()\n",
    "# # print(f'Zgornja lim: {A1_sin:.3f}')\n",
    "# # print(f'Spodnja lim: {A2_sin:.3f}')\n",
    "# # print(f'Amplituda: {(A2_sin - A1_sin):.3f}')\n",
    "# # print(f'DC offset: {((A1_sin+A2_sin)*0.5):.3f}')"
   ]
  },
  {
   "attachments": {},
   "cell_type": "markdown",
   "metadata": {},
   "source": [
    "![image.png](attachment:image.png)"
   ]
  },
  {
   "attachments": {},
   "cell_type": "markdown",
   "metadata": {},
   "source": [
    "plt.plot(t, x_sin, label='x_sin')\n",
    "plt.plot(t, kanal_1_sin, label='kanal_1_sin')\n",
    "plt.plot(t, x_square, label='x_square')\n",
    "plt.plot(t, kanal_1_square, label='kanal_1_square')\n",
    "plt.xlim(0, 1)\n",
    "plt.legend(loc='lower right')"
   ]
  }
 ],
 "metadata": {
  "kernelspec": {
   "display_name": "base",
   "language": "python",
   "name": "python3"
  },
  "language_info": {
   "codemirror_mode": {
    "name": "ipython",
    "version": 3
   },
   "file_extension": ".py",
   "mimetype": "text/x-python",
   "name": "python",
   "nbconvert_exporter": "python",
   "pygments_lexer": "ipython3",
   "version": "3.9.13"
  },
  "orig_nbformat": 4
 },
 "nbformat": 4,
 "nbformat_minor": 2
}
