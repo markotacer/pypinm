{
 "cells": [
  {
   "cell_type": "code",
   "execution_count": 3,
   "metadata": {},
   "outputs": [
    {
     "ename": "AttributeError",
     "evalue": "'list' object has no attribute 'shape'",
     "output_type": "error",
     "traceback": [
      "\u001b[1;31m---------------------------------------------------------------------------\u001b[0m",
      "\u001b[1;31mAttributeError\u001b[0m                            Traceback (most recent call last)",
      "\u001b[1;32m~\\AppData\\Local\\Temp\\ipykernel_4328\\3774177616.py\u001b[0m in \u001b[0;36m<module>\u001b[1;34m\u001b[0m\n\u001b[0;32m     40\u001b[0m \u001b[1;31m# Define the initial conditions\u001b[0m\u001b[1;33m\u001b[0m\u001b[1;33m\u001b[0m\u001b[0m\n\u001b[0;32m     41\u001b[0m \u001b[0mC0\u001b[0m \u001b[1;33m=\u001b[0m \u001b[1;33m[\u001b[0m\u001b[0mNOx0\u001b[0m\u001b[1;33m,\u001b[0m \u001b[0mNH30\u001b[0m\u001b[1;33m]\u001b[0m\u001b[1;33m\u001b[0m\u001b[1;33m\u001b[0m\u001b[0m\n\u001b[1;32m---> 42\u001b[1;33m \u001b[0mT0vec\u001b[0m \u001b[1;33m=\u001b[0m \u001b[0mnp\u001b[0m\u001b[1;33m.\u001b[0m\u001b[0mones\u001b[0m\u001b[1;33m(\u001b[0m\u001b[0mV\u001b[0m\u001b[1;33m.\u001b[0m\u001b[0mshape\u001b[0m\u001b[1;33m)\u001b[0m\u001b[1;33m*\u001b[0m\u001b[0mT0\u001b[0m\u001b[1;33m\u001b[0m\u001b[1;33m\u001b[0m\u001b[0m\n\u001b[0m\u001b[0;32m     43\u001b[0m \u001b[1;33m\u001b[0m\u001b[0m\n\u001b[0;32m     44\u001b[0m \u001b[1;31m# Solve the rate equations and temperature distribution equations\u001b[0m\u001b[1;33m\u001b[0m\u001b[1;33m\u001b[0m\u001b[0m\n",
      "\u001b[1;31mAttributeError\u001b[0m: 'list' object has no attribute 'shape'"
     ]
    }
   ],
   "source": []
  },
  {
   "cell_type": "code",
   "execution_count": 5,
   "metadata": {},
   "outputs": [],
   "source": [
    "import numpy as np\n",
    "from scipy.integrate import solve_ivp\n",
    "\n",
    "# Define the kinetic rate constants\n",
    "k1 = 6.0e-4   # kmol/m3/s\n",
    "k2 = 4.0e-4   # kmol/m3/s\n",
    "\n",
    "# Define the initial concentrations\n",
    "NOx0 = 1.0e-3  # kmol/m3\n",
    "NH30 = 0.0     # kmol/m3\n",
    "\n",
    "# Define the thermal parameters\n",
    "V = 0.002     # m^3\n",
    "rho = 800.0   # kg/m^3\n",
    "cp = 900.0    # J/kg.K\n",
    "h = 50.0      # W/m^2.K\n",
    "T0 = 300.0    # K\n",
    "Tin = 800.0   # K\n",
    "T_sur = 300.0 # K\n",
    "\n",
    "# Define the function for the rate equations\n",
    "def dCdt(t, C, T):\n",
    "    NOx, NH3 = C\n",
    "    dNOxdt = -k1*NOx*NH3\n",
    "    dNH3dt = -dNOxdt/(2.0*k2)\n",
    "    return [dNOxdt, dNH3dt]\n",
    "\n",
    "# Define the function for the temperature distribution\n",
    "def dTdt(t, T, C):\n",
    "    Q = h*V*(Tin-T)\n",
    "    dTdt = Q/(rho*cp*V) - k1*C[0]*C[1]/(rho*cp)\n",
    "    return dTdt\n",
    "\n",
    "# Define the time span for the simulation\n",
    "tspan = [0.0, 100.0]   # seconds\n",
    "\n",
    "# Define the initial conditions\n",
    "C0 = [NOx0, NH30]\n",
    "T0vec = np.ones_like(np.linspace(0, 1, 1))*T0\n",
    "\n",
    "# Solve the rate equations and temperature distribution equations\n",
    "sol = solve_ivp(lambda t, y: np.concatenate((dCdt(t, y[:2], y[2:]), dTdt(t, y[2:], y[:2]))),\n",
    "                tspan, np.concatenate((C0, T0vec)), dense_output=True)\n",
    "\n",
    "# Extract the concentrations and temperatures\n",
    "t = np.linspace(0.0, 100.0, 1000)\n",
    "C = sol.sol(t)[:2]\n",
    "T = sol.sol(t)[2:]\n",
    "\n",
    "# Calculate the conversion efficiency as a function of temperature\n",
    "Tvec = np.linspace(300.0, 1000.0, 1000)\n",
    "efficiency = np.zeros_like(Tvec)\n",
    "for i in range(len(Tvec)):\n",
    "    k1eff = k1*np.exp(-20000.0/(8.314*Tvec[i]))\n",
    "    k2eff = k2*np.exp(-22000.0/(8.314*Tvec[i]))\n",
    "    NOxsteady = NH30*(k2eff/k1eff)**0.5\n",
    "    efficiency[i] = (NOx0 - NOxsteady)/NOx0\n"
   ]
  },
  {
   "cell_type": "code",
   "execution_count": null,
   "metadata": {},
   "outputs": [],
   "source": []
  }
 ],
 "metadata": {
  "kernelspec": {
   "display_name": "base",
   "language": "python",
   "name": "python3"
  },
  "language_info": {
   "codemirror_mode": {
    "name": "ipython",
    "version": 3
   },
   "file_extension": ".py",
   "mimetype": "text/x-python",
   "name": "python",
   "nbconvert_exporter": "python",
   "pygments_lexer": "ipython3",
   "version": "3.9.13"
  },
  "orig_nbformat": 4
 },
 "nbformat": 4,
 "nbformat_minor": 2
}
