{
 "cells": [
  {
   "cell_type": "code",
   "execution_count": 2,
   "metadata": {},
   "outputs": [
    {
     "name": "stdout",
     "output_type": "stream",
     "text": [
      "Defaulting to user installation because normal site-packages is not writeable\n",
      "Collecting rainflow\n",
      "  Downloading rainflow-3.1.1-py2.py3-none-any.whl (5.1 kB)\n",
      "Installing collected packages: rainflow\n",
      "Successfully installed rainflow-3.1.1\n",
      "Note: you may need to restart the kernel to use updated packages.\n"
     ]
    }
   ],
   "source": [
    "pip install rainflow"
   ]
  },
  {
   "cell_type": "code",
   "execution_count": 5,
   "metadata": {},
   "outputs": [
    {
     "ename": "ImportError",
     "evalue": "cannot import name 'rainflow' from 'rainflow' (C:\\Users\\marko\\AppData\\Roaming\\Python\\Python39\\site-packages\\rainflow.py)",
     "output_type": "error",
     "traceback": [
      "\u001b[1;31m---------------------------------------------------------------------------\u001b[0m",
      "\u001b[1;31mImportError\u001b[0m                               Traceback (most recent call last)",
      "\u001b[1;32m~\\AppData\\Local\\Temp\\ipykernel_4900\\1405219372.py\u001b[0m in \u001b[0;36m<module>\u001b[1;34m\u001b[0m\n\u001b[0;32m      6\u001b[0m \"\"\"\n\u001b[0;32m      7\u001b[0m \u001b[1;32mimport\u001b[0m \u001b[0mmatplotlib\u001b[0m\u001b[1;33m.\u001b[0m\u001b[0mpyplot\u001b[0m \u001b[1;32mas\u001b[0m \u001b[0mplt\u001b[0m\u001b[1;33m\u001b[0m\u001b[1;33m\u001b[0m\u001b[0m\n\u001b[1;32m----> 8\u001b[1;33m \u001b[1;32mfrom\u001b[0m \u001b[0mrainflow\u001b[0m \u001b[1;32mimport\u001b[0m \u001b[0mrainflow\u001b[0m\u001b[1;33m\u001b[0m\u001b[1;33m\u001b[0m\u001b[0m\n\u001b[0m\u001b[0;32m      9\u001b[0m \u001b[1;32mimport\u001b[0m \u001b[0mnumpy\u001b[0m \u001b[1;32mas\u001b[0m \u001b[0mnp\u001b[0m\u001b[1;33m\u001b[0m\u001b[1;33m\u001b[0m\u001b[0m\n\u001b[0;32m     10\u001b[0m \u001b[1;33m\u001b[0m\u001b[0m\n",
      "\u001b[1;31mImportError\u001b[0m: cannot import name 'rainflow' from 'rainflow' (C:\\Users\\marko\\AppData\\Roaming\\Python\\Python39\\site-packages\\rainflow.py)"
     ]
    }
   ],
   "source": [
    "#!/usr/bin/env python\n",
    "\"\"\"\n",
    "Demonstration of rainflow cycle counting\n",
    "Contact: Jennifer Rinker, Duke University\n",
    "Email:   jennifer.rinker-at-duke.edu\n",
    "\"\"\"\n",
    "import matplotlib.pyplot as plt\n",
    "import rainflow as rf\n",
    "import numpy as np\n",
    "\n",
    "if (__name__ == '__main__'):\n",
    "\n",
    "    # array of turning points\n",
    "    array_ext = np.array([3,-2,4,2,5,-1,1,0,3])\n",
    "    \n",
    "    \n",
    "    # calculate cycle counts with default values for lfm (0), \n",
    "    #  l_ult (1e16), and uc_mult (0.5)\n",
    "    array_out = rf.rainflow(array_ext)\n",
    "    \n",
    "    # sort array_out by cycle range\n",
    "    array_out = array_out[:,array_out[0,:].argsort()]\n",
    "    \n",
    "    # ---------------------------- printing/plotting ------------------------------\n",
    "    \n",
    "    # theoretical cycle counts (range,count)\n",
    "    theo_cycles = [[1,1],[2,1],[4,0.5],[5,0.5],[6,0.5],[7,0.5]]\n",
    "    print('\\nTheoretical cycle count:')\n",
    "    print('\\n{:>7s}{:>8s}'.format('Range','Count'))\n",
    "    print('------------------')\n",
    "    for i in range(len(theo_cycles)):\n",
    "        print('{:7.1f}{:8.1f}'.format(*theo_cycles[i]))\n",
    "    \n",
    "    # print cycle range, cycle count, cycle mean, goodman-adjusted range (GAR), and\n",
    "    #   goodman-adjusted range with zero fixed-load mean (GAR-ZFLM)\n",
    "    print('\\nCalculated cycle count:')\n",
    "    print('\\n{:>7s}{:>8s}{:>8s}{:>8s}{:>12s}'.format('Range','Count',\n",
    "                                      'Mean','GAR','GAR-ZFLM'))\n",
    "    print('----------------------------------------------')\n",
    "    for i in range(len(array_out.T)):\n",
    "        print('{:7.1f}{:8.1f}{:8.1f}{:8.1f}{:12.1f}'.format(*array_out[[0,3,1,2,4],i]))\n",
    "        \n",
    "    # plot turning points for vizualization\n",
    "    plt.figure(1,figsize=(6.5,3.5))\n",
    "    plt.clf()\n",
    "    \n",
    "    plt.plot(array_ext)\n",
    "    plt.grid('on')\n",
    "    plt.xlabel('Time')\n",
    "    plt.ylabel('Turning Points')\n",
    "    plt.title('Turning Points for Rainflow Demo - J. Rinker')\n",
    "    plt.tight_layout()\n",
    "    \n",
    "    plt.show()"
   ]
  },
  {
   "cell_type": "code",
   "execution_count": null,
   "metadata": {},
   "outputs": [],
   "source": []
  }
 ],
 "metadata": {
  "kernelspec": {
   "display_name": "base",
   "language": "python",
   "name": "python3"
  },
  "language_info": {
   "codemirror_mode": {
    "name": "ipython",
    "version": 3
   },
   "file_extension": ".py",
   "mimetype": "text/x-python",
   "name": "python",
   "nbconvert_exporter": "python",
   "pygments_lexer": "ipython3",
   "version": "3.9.13"
  },
  "orig_nbformat": 4
 },
 "nbformat": 4,
 "nbformat_minor": 2
}
