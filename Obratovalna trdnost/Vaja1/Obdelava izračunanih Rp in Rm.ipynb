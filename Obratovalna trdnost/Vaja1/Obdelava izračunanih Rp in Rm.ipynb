{
 "cells": [
  {
   "cell_type": "code",
   "execution_count": 1,
   "metadata": {},
   "outputs": [],
   "source": [
    "import numpy as np\n",
    "import matplotlib.pyplot as plt"
   ]
  },
  {
   "cell_type": "code",
   "execution_count": 8,
   "metadata": {},
   "outputs": [],
   "source": [
    "S_Rp = [129.9798, 118.88031, 125.02227, 127.51825, 105.14495]\n",
    "S_Rm = [292.57696, 323.62936, 332.42289, 329.08164, 315.53564]\n",
    "S_E = [746.6186202294989, 742.3748767516468, 763.9701518108399, 764.5586166672073, 729.3526109510875]\n",
    "S_Rp = np.array(S_Rp)\n",
    "S_Rm = np.array(S_Rm)\n",
    "S_E = np.array(S_E)\n",
    "\n",
    "z = 1.96"
   ]
  },
  {
   "cell_type": "code",
   "execution_count": 9,
   "metadata": {},
   "outputs": [],
   "source": [
    "Rp_avg = np.average(S_Rp)\n",
    "Rm_avg = np.average(S_Rm)\n",
    "E_avg = np.average(S_E)"
   ]
  },
  {
   "cell_type": "code",
   "execution_count": 10,
   "metadata": {},
   "outputs": [],
   "source": [
    "Rp_dev = np.std(S_Rp)\n",
    "Rm_dev = np.std(S_Rm)\n",
    "E_dev = np.std(S_E)\n"
   ]
  },
  {
   "cell_type": "code",
   "execution_count": 20,
   "metadata": {},
   "outputs": [
    {
     "data": {
      "text/plain": [
       "103.89485010220803"
      ]
     },
     "execution_count": 20,
     "metadata": {},
     "output_type": "execute_result"
    }
   ],
   "source": [
    "Rp_25 = Rp_avg - z * Rp_dev\n",
    "Rp_25"
   ]
  },
  {
   "cell_type": "code",
   "execution_count": 16,
   "metadata": {},
   "outputs": [
    {
     "data": {
      "text/plain": [
       "290.7537631543169"
      ]
     },
     "execution_count": 16,
     "metadata": {},
     "output_type": "execute_result"
    }
   ],
   "source": [
    "Rm_25 = Rm_avg - z * Rm_dev\n",
    "Rm_25"
   ]
  },
  {
   "cell_type": "code",
   "execution_count": 17,
   "metadata": {},
   "outputs": [
    {
     "data": {
      "text/plain": [
       "723.0633920004209"
      ]
     },
     "execution_count": 17,
     "metadata": {},
     "output_type": "execute_result"
    }
   ],
   "source": [
    "E_25 = E_avg - z * E_dev\n",
    "E_25"
   ]
  },
  {
   "cell_type": "code",
   "execution_count": 25,
   "metadata": {},
   "outputs": [
    {
     "name": "stdout",
     "output_type": "stream",
     "text": [
      "Rp_avg = 121.309 MPa\n",
      "Rp_2.5 = 103.895 MPa\n",
      "\n",
      "Rm_avg = 318.649 MPa\n",
      "Rm_2.5 = 290.754 MPa\n"
     ]
    }
   ],
   "source": [
    "print(f'Rp_avg = {Rp_avg:.3f} MPa')\n",
    "print(f'Rp_2.5 = {Rp_25:.3f} MPa')\n",
    "print()\n",
    "print(f'Rm_avg = {Rm_avg:.3f} MPa')\n",
    "print(f'Rm_2.5 = {Rm_25:.3f} MPa')\n",
    "# print()\n",
    "# print(f'E_avg = {E_avg:.3f} MPa')\n",
    "# print(f'E_2.5 = {E_25:.3f} MPa')"
   ]
  },
  {
   "cell_type": "code",
   "execution_count": null,
   "metadata": {},
   "outputs": [],
   "source": []
  }
 ],
 "metadata": {
  "kernelspec": {
   "display_name": "base",
   "language": "python",
   "name": "python3"
  },
  "language_info": {
   "codemirror_mode": {
    "name": "ipython",
    "version": 3
   },
   "file_extension": ".py",
   "mimetype": "text/x-python",
   "name": "python",
   "nbconvert_exporter": "python",
   "pygments_lexer": "ipython3",
   "version": "3.9.13"
  },
  "orig_nbformat": 4
 },
 "nbformat": 4,
 "nbformat_minor": 2
}
